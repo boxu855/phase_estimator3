{
 "cells": [
  {
   "cell_type": "code",
   "execution_count": 605,
   "metadata": {},
   "outputs": [],
   "source": [
    "from Bio.PDB import *\n",
    "\n",
    "import Bio.PDB as bpdb\n",
    "from Bio.PDB.PDBIO import PDBIO\n",
    "from Bio.PDB.DSSP import DSSP\n",
    "from Bio.PDB.DSSP import dssp_dict_from_pdb_file\n",
    "from Bio import SeqIO\n",
    "from Bio import SearchIO\n",
    "from Bio.SeqUtils import seq1\n",
    "from Bio.SeqRecord import SeqRecord\n",
    "from Bio.Seq import Seq\n",
    "\n",
    "from Bio.PDB.Chain import Chain\n",
    "from Bio.PDB.Atom import Atom\n",
    "from Bio.PDB.Residue import Residue\n",
    "from Bio.PDB.Model import Model\n",
    "\n",
    "import pickle\n",
    "import os\n",
    "from os import path\n",
    "from os.path import isfile, join, dirname, isdir, exists\n",
    "\n",
    "import gudhi as gd\n",
    "from scipy.optimize import minimize_scalar, least_squares\n",
    "\n",
    "from IPython.display import Image\n",
    "import pandas as pd\n",
    "import numpy as np\n",
    "import matplotlib.pyplot as plt\n",
    "from mpl_toolkits.mplot3d import Axes3D\n",
    "from matplotlib.collections import LineCollection\n",
    "import numpy.linalg as linalg\n",
    "from scipy import sparse\n",
    "import scipy.signal\n",
    "from scipy.optimize import minimize\n",
    "from scipy.ndimage import gaussian_filter1d, gaussian_filter\n",
    "\n",
    "import sys\n",
    "import math\n",
    "from daps import *\n",
    "\n",
    "from scipy.optimize import curve_fit\n",
    "\n",
    "\n",
    "def get_curv_vectors(X, MaxOrder, sigma, loop = False, m = 'nearest'):\n",
    "\n",
    "    from scipy.ndimage import gaussian_filter1d as gf1d\n",
    "    if loop:\n",
    "        m = 'wrap'\n",
    "    XSmooth = gf1d(X, sigma, axis=0, order = 0, mode = m)\n",
    "    Vel = gf1d(X, sigma, axis=0, order = 1, mode = m)\n",
    "    VelNorm = np.sqrt(np.sum(Vel**2, 1))\n",
    "    VelNorm[VelNorm == 0] = 1\n",
    "    Curvs = [XSmooth, Vel]\n",
    "    for order in range(2, MaxOrder+1):\n",
    "        Tors = gf1d(X, sigma, axis=0, order=order, mode = m)\n",
    "        for j in range(1, order):\n",
    "            #Project away other components\n",
    "            NormsDenom = np.sum(Curvs[j]**2, 1)\n",
    "            NormsDenom[NormsDenom == 0] = 1\n",
    "            Norms = np.sum(Tors*Curvs[j], 1)/NormsDenom\n",
    "            Tors = Tors - Curvs[j]*Norms[:, None]\n",
    "        Tors = Tors/(VelNorm[:, None]**order)\n",
    "        Curvs.append(Tors)\n",
    "    return Curvs\n",
    "\n",
    "def sliding_window(dist, win):\n",
    "    N = D.shape[0]\n",
    "    dist_stack = np.zeros((N-win+1, N-win+1))\n",
    "    for i in range(0, win):\n",
    "        dist_stack += dist[i:i+N-win+1, i:i+N-win+1]\n",
    "    for i in range(N-win+1):\n",
    "        dist_stack[i, i] = 0\n",
    "    return dist_stack\n",
    "\n",
    "def get_csm(X, Y):\n",
    "    if len(X.shape) == 1:\n",
    "        X = X[:, None]\n",
    "    if len(Y.shape) == 1:\n",
    "        Y = Y[:, None]\n",
    "    C = np.sum(X**2, 1)[:, None] + np.sum(Y**2, 1)[None, :] - 2*X.dot(Y.T)\n",
    "    C[C < 0] = 0\n",
    "    return np.sqrt(C)\n",
    "\n",
    "\n",
    "def csm_to_binary(D, kappa):\n",
    "    N = D.shape[0]\n",
    "    M = D.shape[1]\n",
    "    if kappa == 0:\n",
    "        return np.ones_like(D)\n",
    "    elif kappa < 1:\n",
    "        NNeighbs = int(np.round(kappa*M))\n",
    "    else:\n",
    "        NNeighbs = kappa\n",
    "    J = np.argpartition(D, NNeighbs, 1)[:, 0:NNeighbs]\n",
    "    I = np.tile(np.arange(N)[:, None], (1, NNeighbs))\n",
    "    V = np.ones(I.size)\n",
    "    [I, J] = [I.flatten(), J.flatten()]\n",
    "    ret = sparse.coo_matrix((V, (I, J)), shape=(N, M), dtype=np.uint8)\n",
    "    return ret.toarray()\n",
    "\n",
    "def csm_to_binary_mutual(D, kappa):\n",
    "    return csm_to_binary(D, kappa)*(csm_to_binary(D.T, kappa).T)\n",
    "\n",
    "def getUnweightedLaplacianEigsDense(W):\n",
    "    D = sparse.dia_matrix((W.sum(1).flatten(), 0), W.shape).toarray()\n",
    "    L = D - W\n",
    "    try:\n",
    "        _, v = linalg.eigh(L)\n",
    "    except:\n",
    "        return np.zeros_like(W)\n",
    "    return v\n",
    "\n",
    "def make_dir(*argv):\n",
    "    mydir = path.join(*argv)    \n",
    "    if not path.exists(mydir):        \n",
    "        if len(argv) > 1:\n",
    "            make_dir(*argv[:-1])            \n",
    "        os.mkdir(mydir)\n",
    "    return mydir\n",
    "\n",
    "\n",
    "def make_path(*argv):\n",
    "    mypath = path.join(*argv)\n",
    "    if not path.exists(dirname(mypath)):\n",
    "        make_dir(*argv[:-1])\n",
    "    return mypath\n",
    "\n",
    "def get_fasta_record(file, seqid):\n",
    "    with open(file) as handle:\n",
    "        for record in SeqIO.parse(handle, \"fasta\"):\n",
    "            if record.id == seqid:\n",
    "                return record\n",
    "        raise Exception('did not find sequence')\n",
    "    \n",
    "def avgper(motifs):    \n",
    "    diff = [second - first for first, second in zip(motifs, motifs[1:]) if second - first > 15]\n",
    "    return int(np.mean(diff))\n",
    "\n",
    "def get_LRR_curve(tairid):\n",
    "    parser = PDBParser()\n",
    "    structure = parser.get_structure(tairid, 'pdb/nlrome_LRR-hmm/%s.pdb'%tairid)\n",
    "    chain = list(structure.get_chains())[0]\n",
    "    return(np.array([np.array(list(residue[\"CA\"].get_vector())) for residue in chain.get_residues()]))\n",
    "\n",
    "\n",
    "def get_conf(tairid):\n",
    "    parser = PDBParser()\n",
    "    structure = parser.get_structure(tairid, 'pdb/nlrome_LRR-hmm/%s.pdb'%tairid)\n",
    "    chain = list(structure.get_chains())[0]\n",
    "    return [residue['CA'].get_bfactor() for residue in chain.get_residues()]\n",
    "\n",
    "def estimate_coil_hmm(v1, v2, pcc=0.99, phh=0.99, muh=0, muc=0.7, sigma=0.3):\n",
    "\n",
    "    ## Step 1: compute radius and max-normalize to [0, 1]\n",
    "\n",
    "    r = np.sqrt(v1**2 + v2**2)\n",
    "    r = r/np.max(r)\n",
    "    \n",
    "    ## Step 2: Setup transition probabilities for HMM\n",
    "    # States: 0 - In hairpin\n",
    "    #         1 - Not in hairpin\n",
    "    ptrans = [[phh, 1-phh],\n",
    "             [1-pcc, pcc]]\n",
    "    ptrans = np.log(np.array(ptrans))\n",
    "\n",
    "\n",
    "    ## Step 3: Viterbi algorithm\n",
    "    r = np.concatenate(([0], r))\n",
    "    N = len(r)\n",
    "    P = np.zeros((2, N)) # Accumulated log probability matrix\n",
    "    T = np.zeros((2, N), dtype=int) # Transition matrix\n",
    "\n",
    "    for j in range(1, N):\n",
    "        # Hairpin observation probability\n",
    "        o1 = -(r[j]-muh)**2/(2*sigma**2)\n",
    "        # Coil observation probability\n",
    "        o2 = -(r[j]-muc)**2/(2*sigma**2)\n",
    "        obs = [o1, o2]\n",
    "        for i in range(2):\n",
    "            ps = [0, 0]\n",
    "            for k in range(2):\n",
    "                ps[k] = P[k, j-1] + ptrans[k, i] + obs[i]\n",
    "            T[i, j] = np.argmax(ps)\n",
    "            P[i, j] = ps[T[i, j]]\n",
    "\n",
    "    ## Backtracing\n",
    "    i = 1\n",
    "    states = [i]\n",
    "    j = N-1\n",
    "    while j > 0:\n",
    "        i = T[i, j]\n",
    "        states.append(i)\n",
    "        j -= 1\n",
    "    states.reverse()\n",
    "    states = states[1::]\n",
    "    return states\n",
    "\n",
    "\n",
    "def get_hairpins(coil_est):\n",
    "    hairpins = []\n",
    "    N = len(coil_est)\n",
    "    i1 = 0\n",
    "    in_hairpin = coil_est[0] == 0\n",
    "    for i in range(1, N):\n",
    "        if in_hairpin and coil_est[i] == 1:\n",
    "            hairpins.append([i1, i])\n",
    "            in_hairpin = False\n",
    "        elif not in_hairpin and coil_est[i] == 0:\n",
    "            i1 = i\n",
    "            in_hairpin = True\n",
    "    return hairpins\n",
    "\n",
    "\n",
    "\n",
    "\n",
    "def autocorr(x):\n",
    "    \"\"\"\n",
    "    Fast autocorrelation based on the Wiener-Khinchin Theorem, which allows us\n",
    "    to use the fast fourier transform of the input to compute the autocorrelation\n",
    "    Parameters\n",
    "    ----------\n",
    "    x: ndarray(N)\n",
    "        Array on which to compute the autocorrelation\n",
    "    \n",
    "    Returns\n",
    "    -------\n",
    "    ndarray(N): The autocorrelation\n",
    "    \"\"\"\n",
    "    N = len(x)\n",
    "    xpad = np.zeros(N*2)\n",
    "    xpad[0:N] = x\n",
    "    F = np.fft.fft(xpad)\n",
    "    FConv = np.real(F)**2 + np.imag(F)**2 # Fourier transform of the convolution of x and its reverse\n",
    "    return np.real(np.fft.ifft(FConv)[0:N])\n",
    "\n",
    "def demodulate(v1, v2, bias=0.1, order=11):\n",
    "    \"\"\"\n",
    "    Estimate a signal's envelope by finding the fundamental frequency,\n",
    "    moving it to baseband, lowpass filtering it, and then using that\n",
    "    as the envelope.\n",
    "    Divide the original signal by this envelope plus a bias to avoid\n",
    "    dividing by 0\n",
    "    \n",
    "    Parameters\n",
    "    ----------\n",
    "    v1: ndarray(N)\n",
    "        First eigenvector\n",
    "    v2: ndarray(N)\n",
    "        Second eigenvector\n",
    "    bias: float\n",
    "        Add this to the envelope before dividing (this is a bit of a hack, but \n",
    "        it seems to work)\n",
    "    order: int\n",
    "        Order of FIR lowpass filter\n",
    "    \"\"\"\n",
    "    from scipy import signal\n",
    "    # Estimate period\n",
    "    a = autocorr(v1)\n",
    "    T = 10+np.argmax(a[10::])\n",
    "    \n",
    "    # Bring modulation back to \"baseband\" and filter out\n",
    "    # with a lowpass filter\n",
    "    demod = np.cos(2*np.pi*np.arange(v1.size)/T)\n",
    "    cutoff = T/v1.size\n",
    "    bands = (0, cutoff, cutoff, 0.5)\n",
    "    desired = (1, 1, 0, 0)\n",
    "    b = signal.firls(order, bands, desired, nyq=0.5)\n",
    "    a = [1]\n",
    "    w, h = signal.freqz(b)\n",
    "    mod1 = signal.filtfilt(b, a, v1*demod)\n",
    "    mod2 = signal.filtfilt(b, a, v2*demod)\n",
    "    \n",
    "    # Divide by the estimated modulation\n",
    "    r = np.sqrt(mod1**2+mod2**2)\n",
    "    r = bias + r/np.max(r) # This \"bias\" is a bit of a hack, but it seems to work\n",
    "    v1filt = v1/r\n",
    "    v2filt = v2/r\n",
    "    return v1filt, v2filt\n",
    "\n",
    "def compromise(a,b):\n",
    "    # normalize\n",
    "    a /= np.linalg.norm(a)\n",
    "    b /= np.linalg.norm(b)\n",
    "\n",
    "    # ensure a, b orthogonal\n",
    "    mid = a + b\n",
    "    mid *= np.sqrt(2) / (2 * np.linalg.norm(mid))\n",
    "    diff = b - a\n",
    "    diff *= np.sqrt(2) / (2 * np.linalg.norm(diff))\n",
    "\n",
    "    a = mid - diff\n",
    "    b = mid + diff\n",
    "\n",
    "    # normalize\n",
    "    a /= np.linalg.norm(a)\n",
    "    b /= np.linalg.norm(b)\n",
    "    return a,b\n",
    "\n",
    "\n",
    "def linear_func(x, m, b):\n",
    "    return m * x + b"
   ]
  },
  {
   "cell_type": "code",
   "execution_count": 606,
   "metadata": {},
   "outputs": [],
   "source": [
    "with open('pickles/uniprot_d.pickle', 'rb') as handle:\n",
    "    uniprot_d = pickle.load(handle)\n",
    "with open('pickles/nlrome_matches_d.pickle', 'rb') as handle:\n",
    "    matches_d = pickle.load(handle)\n",
    "with open('pickles/nlrome_motifs_d.pickle', 'rb') as handle:\n",
    "    motifs_d = pickle.load(handle)\n",
    "with open('pickles/nlrome_matches_d.pickle', 'rb') as handle:\n",
    "    matches_d = pickle.load(handle)    \n",
    "with open('pickles/LRR_hmm_d.pickle', 'rb') as handle:\n",
    "    LRR_hmm_d = pickle.load(handle)   \n",
    "with open('pickles/cutoff_d.pickle', 'rb') as handle:\n",
    "    cutoff_d = pickle.load(handle)   \n",
    "    \n",
    "with open('pickles/nlrome_mismatches_d.pickle', 'rb') as handle:\n",
    "    mismatches_d = pickle.load(handle)\n",
    "with open('pickles/totpers_d.pickle', 'rb') as handle:\n",
    "    totpers_d = pickle.load(handle)\n",
    "with open('pickles/motifs_shifted_d.pickle', 'rb') as handle:\n",
    "    motifs_shifted_d = pickle.load(handle)\n",
    "\n",
    "with open('pickles/unique_matches_d.pickle', 'rb') as handle:\n",
    "    unique_matches_d = pickle.load(handle)  "
   ]
  },
  {
   "cell_type": "code",
   "execution_count": 607,
   "metadata": {},
   "outputs": [],
   "source": [
    "if False:\n",
    "    LRR_hmm_d = {}\n",
    "\n",
    "    ethresh = 1e-5 ### adjust this for e-value threshold\n",
    "\n",
    "    hmmmsearch_domout_path = make_path('hmmsearch_dom', 'athaliana.txt')\n",
    "\n",
    "    qresult = next(SearchIO.parse(hmmmsearch_domout_path, 'hmmsearch3-domtab'))\n",
    "    filtered_hits = list(filter(lambda hsp: hsp.evalue < ethresh, qresult.hsps))\n",
    "    hit_ids = [hsp.hit_id for hsp in filtered_hits]\n",
    "    with open(make_path('protein', 'col-hmm-LRR.fa'), \"w\") as output_handle:\n",
    "        for tairid, uniid in uniprot_d.items():\n",
    "            #     hit_sequences = sorted([record for record in prot_l if record.id in hit_ids], key=lambda a: hit_ids.index(a.id))\n",
    "            #     print('\\n'.join([f'E-value: {filtered_hits[ii].evalue} for ' + hit_sequences[ii].description for ii in range(numTop)]))\n",
    "\n",
    "            found = False\n",
    "            ends_l = []\n",
    "            evalue_l = []\n",
    "            for hsp in filtered_hits:                \n",
    "                if hsp.hit_id == \"ATHALIANA_%s\"%tairid.replace('.','_'):\n",
    "                    ends_l.append(hsp.env_end)\n",
    "                    evalue_l.append(-np.log(hsp.evalue))\n",
    "                    found = True\n",
    "            if found:\n",
    "                if len(ends_l)>1:          \n",
    "                    hitrank = sorted(zip(ends_l,evalue_l), key=lambda tup: tup[1], reverse = True)\n",
    "                    hitrank_filt = [tup for tup in hitrank if hitrank[0][1] - tup[1]<3]\n",
    "                    cutoff = min(hitrank_filt, key=lambda tup: tup[1])[0]\n",
    "                    if len(hitrank_filt)>1:\n",
    "                        print('multiple nb-arc hits', tairid, hitrank_filt, cutoff)          \n",
    "                elif len(ends_l) == 1:\n",
    "                    cutoff = ends_l[0]\n",
    "                    hitrank_filt = zip(ends_l, evalue_l)\n",
    "                else:\n",
    "                    raise Exception('no nbarc found')\n",
    "                record = get_fasta_record(make_path('protein', 'corr.Athaliana.protein.fasta'), \"ATHALIANA_%s\"%tairid.replace('.','_'))\n",
    "                record = record[cutoff:]\n",
    "                record.id += '|%d'%cutoff\n",
    "                record.description = '|'.join([\"%d_%d\"%(tup[0],int(tup[1])) for tup in hitrank_filt])\n",
    "                SeqIO.write(record, output_handle, \"fasta\")\n",
    "                LRR_hmm_d[tairid] = cutoff\n",
    "            else:\n",
    "                print('record ', record.id, 'nb-arc domain not found')\n",
    "\n",
    "            if True:\n",
    "                parser = PDBParser()\n",
    "                structure = parser.get_structure(uniid, 'afdb/%s.pdb'%uniid)\n",
    "\n",
    "                chain = list(structure.get_chains())[0]\n",
    "\n",
    "                class ResSelect(bpdb.Select):\n",
    "                    def accept_residue(self, res):\n",
    "                        if res.id[1] >= cutoff:\n",
    "                            return True\n",
    "                        else:\n",
    "                            return False            \n",
    "                io = bpdb.PDBIO()       \n",
    "                io.set_structure(chain)\n",
    "                io.save(make_path('pdb', 'nlrome_LRR-hmm','%s.pdb'%tairid), ResSelect())                \n",
    "\n",
    "    with open('pickles/LRR_hmm_d.pickle', 'wb') as handle:\n",
    "        pickle.dump(LRR_hmm_d, handle)    "
   ]
  },
  {
   "cell_type": "code",
   "execution_count": 608,
   "metadata": {},
   "outputs": [],
   "source": [
    "if False:\n",
    "    for tairid, uniid in uniprot_d.items():\n",
    "        parser = PDBParser()\n",
    "        structure = parser.get_structure(uniid, 'afdb/%s.pdb'%uniid)\n",
    "\n",
    "        chain = list(structure.get_chains())[0]\n",
    "\n",
    "        cutoff = LRR_hmm_d[tairid]\n",
    "        class ResSelect(bpdb.Select):\n",
    "            def accept_residue(self, res):\n",
    "                if res.id[1] >= 0:\n",
    "                    return True\n",
    "                else:\n",
    "                    return False                        \n",
    "\n",
    "        for residue in list(chain.get_residues()):\n",
    "            residue._id = (' ', residue.id[1]-cutoff, ' ')\n",
    "        io = bpdb.PDBIO()       \n",
    "        io.set_structure(chain)\n",
    "        io.save(make_path('pdb', 'nlrome_LRR-hmm','%s.pdb'%tairid), ResSelect())                \n"
   ]
  },
  {
   "cell_type": "code",
   "execution_count": 609,
   "metadata": {},
   "outputs": [
    {
     "ename": "IndentationError",
     "evalue": "expected an indented block (545569286.py, line 47)",
     "output_type": "error",
     "traceback": [
      "\u001b[0;36m  File \u001b[0;32m\"/var/folders/m0/rpw4gcbn5lxd8_3kt7g699rc0000gn/T/ipykernel_23000/545569286.py\"\u001b[0;36m, line \u001b[0;32m47\u001b[0m\n\u001b[0;31m    #             print('record ', record.id, 'nb-arc domain not found')\u001b[0m\n\u001b[0m                                                                        ^\u001b[0m\n\u001b[0;31mIndentationError\u001b[0m\u001b[0;31m:\u001b[0m expected an indented block\n"
     ]
    }
   ],
   "source": [
    "if False:\n",
    "# prot_l = []\n",
    "# id_l = []\n",
    "\n",
    "# for record in SeqIO.parse(make_path('protein', 'corr.Athaliana.protein.fasta'), \"fasta\"):\n",
    "#     prot_l.append(record)\n",
    "#     id_l.append(record.id)        \n",
    "\n",
    "\n",
    "# LRR_l = []\n",
    "# ethresh = 1e-7 ### adjust this for e-value threshold\n",
    "\n",
    "# hmmmsearch_domout_path = make_path('hmmsearch_dom', 'athaliana.txt')\n",
    "\n",
    "# qresult = next(SearchIO.parse(hmmmsearch_domout_path, 'hmmsearch3-domtab'))\n",
    "# filtered_hits = list(filter(lambda hsp: hsp.evalue < ethresh, qresult.hsps))\n",
    "# hit_ids = [hsp.hit_id for hsp in filtered_hits]\n",
    "# #     hit_sequences = sorted([record for record in prot_l if record.id in hit_ids], key=lambda a: hit_ids.index(a.id))\n",
    "# #     print('\\n'.join([f'E-value: {filtered_hits[ii].evalue} for ' + hit_sequences[ii].description for ii in range(numTop)]))\n",
    "# with open(make_path('protein', 'col-hmm-LRR.fa'), \"w\") as output_handle:\n",
    "#     for record in prot_l:\n",
    "#         found = False\n",
    "#         ends_l = []\n",
    "#         evalue_l = []\n",
    "#         for hsp in filtered_hits:                \n",
    "#             if hsp.hit_id == record.id:\n",
    "#                 ends_l.append(hsp.env_end)\n",
    "#                 evalue_l.append(-np.log(hsp.evalue))\n",
    "#                 found = True\n",
    "#         if found:\n",
    "#             if len(ends_l)>1:\n",
    "#                 print('multiple nb-arc hits', ends_l, record.id)                    \n",
    "#                 hitrank = sorted(zip(ends_l,evalue_l), key=lambda tup: tup[1], reverse = True)\n",
    "#                 hitrank_filt = [tup for tup in hitrank if hitrank[0][1] - tup[1]<3]\n",
    "#                 cutoff = min(hitrank_filt, key=lambda tup: tup[0])[0]\n",
    "#                 print('filtered', hitrank_filt, cutoff)\n",
    "#             elif len(ends_l) == 1:\n",
    "#                 cutoff = ends_l[0]\n",
    "#             else:\n",
    "#                 raise Exception('no nbarc found')\n",
    "#             record = record[cutoff:]\n",
    "#             record.id += '|%d'%cutoff\n",
    "#             record.description = '|'.join([str(_) for _ in ends_l])\n",
    "#             SeqIO.write(record, output_handle, \"fasta\")\n",
    "#             LRR_l.append(record)\n",
    "#         else:\n",
    "#             print('record ', record.id, 'nb-arc domain not found')"
   ]
  },
  {
   "cell_type": "code",
   "execution_count": null,
   "metadata": {},
   "outputs": [],
   "source": [
    "if False:\n",
    "\n",
    "    tairid = 'AT3G44480.1'\n",
    "    for record in LRR_l:\n",
    "        if '.'.join(record.id.split('|')[0].split('_')[1:]) == tairid:\n",
    "            LRRStart = int(record.description)\n",
    "            break"
   ]
  },
  {
   "cell_type": "code",
   "execution_count": null,
   "metadata": {},
   "outputs": [],
   "source": [
    "if False:\n",
    "# import Bio.PDB as bpdb\n",
    "\n",
    "# for tairid, uniid in uniprot_d.items():\n",
    "\n",
    "#     parser = PDBParser()\n",
    "#     structure = parser.get_structure(uniid, 'afdb/%s.pdb'%uniid)\n",
    "\n",
    "#     chain = list(structure.get_chains())[0]\n",
    "\n",
    "#     io = bpdb.PDBIO()        \n",
    "\n",
    "#     io.set_structure(chain)\n",
    "#     io.save(make_path('pdb', 'nlrome_whole','%s.pdb'%tairid))"
   ]
  },
  {
   "cell_type": "code",
   "execution_count": null,
   "metadata": {},
   "outputs": [],
   "source": [
    "# for tairid, uniid in uniprot_d.items():    \n",
    "#     for record in LRR_l:\n",
    "#         if '.'.join(record.id.split('|')[0].split('_')[1:]) == tairid:\n",
    "#             start_res = int(record.description.split('|')[0])\n",
    "#             break    \n",
    "#     parser = PDBParser()\n",
    "#     structure = parser.get_structure(uniid, 'afdb/%s.pdb'%uniid)\n",
    "\n",
    "#     chain = list(structure.get_chains())[0]\n",
    "\n",
    "#     class ResSelect(bpdb.Select):\n",
    "#         def accept_residue(self, res):\n",
    "#             if res.id[1] >= start_res:\n",
    "#                 return True\n",
    "#             else:\n",
    "#                 return False\n",
    "            \n",
    "#     io = bpdb.PDBIO()       \n",
    "\n",
    "#     io.set_structure(chain)\n",
    "#     io.save(make_path('pdb', 'nlrome_LRR-hmm','%s.pdb'%tairid), ResSelect())"
   ]
  },
  {
   "cell_type": "code",
   "execution_count": null,
   "metadata": {},
   "outputs": [],
   "source": [
    "# for (tairid, uniid), motifs in motifs_d.items():\n",
    "#     start_res, end_res=motifs[0],motifs[-1]\n",
    "\n",
    "#     parser = PDBParser()\n",
    "#     structure = parser.get_structure(uniid, 'afdb/%s.pdb'%uniid)\n",
    "\n",
    "#     chain = list(structure.get_chains())[0]\n",
    "\n",
    "#     class ResSelect(bpdb.Select):\n",
    "#         def accept_residue(self, res):\n",
    "#             if res.id[1] >= start_res and res.id[1] <= end_res:\n",
    "#                 return True\n",
    "#             else:\n",
    "#                 return False\n",
    "            \n",
    "#     io = bpdb.PDBIO()        \n",
    "\n",
    "#     io.set_structure(chain)\n",
    "#     io.save(make_path('pdb', 'nlrome_LRR','%s.pdb'%uniid), ResSelect())"
   ]
  },
  {
   "cell_type": "code",
   "execution_count": null,
   "metadata": {},
   "outputs": [],
   "source": [
    "if False:\n",
    "    for tairid in uniprot_d.keys():\n",
    "        parser = PDBParser()\n",
    "        structure = parser.get_structure(tairid, 'pdb/nlrome_LRR-hmm/%s.pdb'%tairid)\n",
    "        chain = list(structure.get_chains())[0]\n",
    "\n",
    "        alpha_carbons=[]\n",
    "\n",
    "        for ii, residue in enumerate(chain.get_residues()):    \n",
    "            if residue.get_full_id()[3][1] >= LRR_hmm_d[tairid]:\n",
    "                alpha_carbons.append(np.array(list(residue[\"CA\"].get_vector())))\n",
    "            else:\n",
    "                raise Exception()\n",
    "\n",
    "        X = np.array(alpha_carbons)\n",
    "        X.shape\n",
    "\n",
    "        windowSize = 25\n",
    "\n",
    "        totpers_l=[]\n",
    "        for windowStart in range(X.shape[0]- windowSize-1):\n",
    "            Y = X[windowStart:windowStart+windowSize,:]\n",
    "            stree = gd.AlphaComplex(points = Y).create_simplex_tree()\n",
    "            dgm = stree.persistence()\n",
    "            dgm1_lens = [d-b for (dim, (b, d)) in dgm if dim == 1]\n",
    "            dgmstat = sum(dgm1_lens)\n",
    "            # gd.plot_persistence_diagram(dgm, legend = True)\n",
    "            totpers_l.append(dgmstat)\n",
    "        np.save(make_path('npy', 'totpers', '%s.npy'%tairid), np.array(totpers_l))\n",
    "\n",
    "            # break            "
   ]
  },
  {
   "cell_type": "code",
   "execution_count": null,
   "metadata": {},
   "outputs": [],
   "source": [
    "#compute swtp\n",
    "if False:\n",
    "    from matplotlib.collections import LineCollection\n",
    "\n",
    "    cutoff_d = {}\n",
    "\n",
    "    for tairid, swtp in totpers_d.items():\n",
    "        # g = gaussian_filter1d(swtp, 15)\n",
    "        # if tairid !=  'AT5G44510.1':\n",
    "        #     continue\n",
    "        g = swtp\n",
    "\n",
    "        # g = g-np.min(g)\n",
    "        # g = g/np.quantile(g, .95)\n",
    "\n",
    "        N= g.shape[0]\n",
    "\n",
    "        mins = []\n",
    "        argmins = []\n",
    "        conf = np.array(get_conf(tairid)[:N])\n",
    "\n",
    "        A = np.array([np.sum((g[:t] - np.sum(g[:t]) / np.max([1, t])) ** 2) + 0.5 * np.sum(g[t:] ** 2) for t in range(len(g))])\n",
    "        t = np.argmin(A)\n",
    "\n",
    "        cutoff_d[tairid] = t\n",
    "\n",
    "        if False:\n",
    "            myrect = (np.sum(g[:t]) / np.max([1, t])) * np.array([int(i < t) for i in range(len(g))])\n",
    "\n",
    "\n",
    "\n",
    "            # for h in range(int(np.max(g))):\n",
    "            #     def f(x):\n",
    "            #         return np.sum(np.array([(g[ii] - h) if ii < x else g[ii]/2 for ii in range(N)])**2)\n",
    "            #     res = minimize_scalar(f, bounds = (0, N), method='bounded')\n",
    "            #     mins.append(res.fun)\n",
    "            #     argmins.append(int(res.x))\n",
    "\n",
    "            # h = np.argmin(mins)\n",
    "            # b = argmins[h]\n",
    "            # print(h,b)\n",
    "\n",
    "            x = np.arange(N)\n",
    "            y = g\n",
    "            points = np.array([x, y]).T.reshape(-1, 1, 2)\n",
    "            segments = np.concatenate([points[:-1], points[1:]], axis=1)\n",
    "            \n",
    "            \n",
    "            fig, axs = plt.subplots(1, 1, sharex=True, sharey=True)\n",
    "            norm = plt.Normalize(conf.min(), conf.max())\n",
    "            lc = LineCollection(segments, cmap='viridis', norm=norm)\n",
    "            # Set the values used for colormapping\n",
    "            lc.set_array(conf)\n",
    "            lc.set_linewidth(2)\n",
    "            line = axs.add_collection(lc)\n",
    "            fig.colorbar(line, ax=axs)    \n",
    "\n",
    "            # plt.plot(g)\n",
    "            plt.plot(myrect)\n",
    "            # plt.axhline(h, color = 'r')\n",
    "            # plt.axvline(b, color = 'r')\n",
    "\n",
    "            plt.savefig(make_path('plots','swtp_myrect', '%s.png'%tairid))\n",
    "            plt.close()\n"
   ]
  },
  {
   "cell_type": "code",
   "execution_count": null,
   "metadata": {},
   "outputs": [],
   "source": [
    "#make motif dictionary\n",
    "if False:\n",
    "    motifs_shifted_d = {}\n",
    "    for k, v in motifs_d.items():\n",
    "        LRRstart = LRR_hmm_d[k]\n",
    "        motifs_shifted_d[k] = [num-LRRstart for num in v]\n",
    "\n",
    "    with open('pickles/motifs_shifted_d.pickle', 'wb') as handle:\n",
    "        pickle.dump(motifs_shifted_d, handle)        "
   ]
  },
  {
   "cell_type": "code",
   "execution_count": 638,
   "metadata": {},
   "outputs": [],
   "source": [
    "# #multiple breakpoint regression. didn't work\n",
    "\n",
    "# def linear_func(x, m, b):\n",
    "#     return m * x + b\n",
    "# for tairid, uniid in unique_matches_d.items():\n",
    "\n",
    "        \n",
    "#     if tairid != 'AT1G17600.1':\n",
    "#         continue\n",
    "\n",
    "#     preX = get_LRR_curve(tairid)\n",
    "    \n",
    "\n",
    "#     X = scipy.ndimage.gaussian_filter(preX, [1, 0])\n",
    "#     Y = scipy.ndimage.gaussian_filter(X, [20, 0])\n",
    "#     dY = scipy.ndimage.gaussian_filter(Y, [1,0], order = 1)\n",
    "#     dZ = dY / np.sqrt(np.sum(dY ** 2, axis = 1))[:, np.newaxis]\n",
    "\n",
    "#     # need orthonormal pair of vectors for each point on curve that are orthogonal to tangent vector\n",
    "#     V = np.zeros((len(dZ), 2, 3))\n",
    "#     V[0,0] = np.random.rand(3)\n",
    "#     V[0,1] = np.random.rand(3)\n",
    "\n",
    "#     for i, z in enumerate(dZ):\n",
    "#         # project onto current tangent vector\n",
    "#         if i:\n",
    "#             V[i] = V[i-1]\n",
    "\n",
    "#         V[i,0] -= (V[i,0] @ z) * z\n",
    "#         V[i,1] -= (V[i,1] @ z) * z\n",
    "        \n",
    "#         V[i,0], V[i,1] = compromise(V[i,0], V[i,1])    \n",
    "        \n",
    "#     Q = np.zeros((len(dZ), 2))\n",
    "#     for i in range(len(Q)):\n",
    "#         Q[i] = [(X[i] - Y[i]) @ V[i,0], (X[i] - Y[i]) @ V[i,1]]\n",
    "        \n",
    "#     # plt.plot(Q)\n",
    "#     # plt.show()\n",
    "#     # plt.plot(*Q.T)\n",
    "#     # plt.show()\n",
    "\n",
    "#     s = Q[:,0]\n",
    "#     c = Q[:,1]\n",
    "#     ds = gaussian_filter(s, 0.5, order = 1)\n",
    "#     dc = gaussian_filter(c, 0.5, order = 1)\n",
    "\n",
    "#     r2 = s ** 2 + c ** 2\n",
    "\n",
    "#     summand = (c * ds - s * dc) / r2\n",
    "\n",
    "#     g =np.cumsum(summand)\n",
    "#     N = len(g)\n",
    "\n",
    "#     A_l = []\n",
    "#     param_l = []\n",
    "\n",
    "#     maxBp = 2\n",
    "#     from itertools import combinations\n",
    "#     from collections import defaultdict\n",
    "#     for numBp in range(1, maxBp+1):\n",
    "#         A = []\n",
    "#         param_d = defaultdict(lambda : [])\n",
    "#         if numBp ==1:\n",
    "#             breakpts = [ti for ti in range(2,N-2)]\n",
    "#         else:\n",
    "#             breakpts = [ti for ti in combinations(range(2,N-2), numBp) if np.min(np.diff(list(ti)))>5]\n",
    "#         for ti in breakpts:\n",
    "#             if type(ti) is int:                \n",
    "#                 ti0 = [0]+[ti]+[N]\n",
    "#             else:\n",
    "#                 ti0 = [0]+list(ti)+[N]\n",
    "#             loss = 0\n",
    "#             for inf, sup in zip(ti0[:-1], ti0[1:]):\n",
    "#                 (m_opt, b_opt), covariance = curve_fit(linear_func, range(inf, sup), g[inf:sup])            \n",
    "#                 coilRes = (g[inf:sup] - [linear_func(x, m_opt, b_opt) for x in range(inf, sup)])\n",
    "#                 loss += np.sum(coilRes**2)\n",
    "#             A.append(loss)\n",
    "#             param_d[ti].append((m_opt, b_opt))\n",
    "#         minidx = np.argmin(A)\n",
    "#         minti = breakpts[minidx]\n",
    "#         min_param = param_d[minti]\n",
    "#         param_l.append(min_param)\n",
    "#         A_l.append(A[minidx])\n",
    "#     print(A_l)\n",
    "\n",
    "#     break\n",
    "#     plt.plot(g)\n",
    "#     plt.plot([linear_func(x, m_opt, b_opt) for x in range(t)], c = 'r')\n",
    "#     plt.hlines(y=np.sum(g[t:]) / np.max([1, N-t]), xmin=t, xmax = N, color = 'r', linestyle='-')\n",
    "#     plt.axvline(x = t, color = 'g')\n",
    "#     plt.show()\n",
    "#     # plt.savefig(make_path('plots', 'theta_cutoff_nlrome', f'{tairid}.png'))    \n",
    "\n",
    "#     plt.close()        \n",
    "\n",
    "#     # A = np.array([np.sum((g[t:] - np.sum(g[t:]) / np.max([1, N-t])) ** 2) + np.sum((g[:t] - [g[t]*x/t for x in range(0,t)])**2) for t in range(N)])\n",
    "#     # t = np.argmin(A)\n",
    "#     # m = g[t]/t\n",
    "#     # plt.plot(g)\n",
    "#     # plt.plot([m*x for x in range(0, t)], c = 'r')\n",
    "#     # plt.hlines(y=np.sum(g[t:]) / np.max([1, N-t]), xmin=t, xmax = N, color = 'r', linestyle='-')\n",
    "#     # plt.axvline(x = t, color = 'g')\n",
    "#     # plt.show()\n",
    "#     # plt.close()\n"
   ]
  },
  {
   "cell_type": "code",
   "execution_count": null,
   "metadata": {},
   "outputs": [
    {
     "name": "stdout",
     "output_type": "stream",
     "text": [
      "1\n"
     ]
    },
    {
     "name": "stderr",
     "output_type": "stream",
     "text": [
      "/Users/boyanxu/opt/anaconda3/lib/python3.9/site-packages/scipy/optimize/minpack.py:833: OptimizeWarning: Covariance of the parameters could not be estimated\n",
      "  warnings.warn('Covariance of the parameters could not be estimated',\n"
     ]
    },
    {
     "name": "stdout",
     "output_type": "stream",
     "text": [
      "2\n"
     ]
    },
    {
     "ename": "KeyboardInterrupt",
     "evalue": "",
     "output_type": "error",
     "traceback": [
      "\u001b[0;31m---------------------------------------------------------------------------\u001b[0m",
      "\u001b[0;31mKeyboardInterrupt\u001b[0m                         Traceback (most recent call last)",
      "\u001b[0;32m/var/folders/m0/rpw4gcbn5lxd8_3kt7g699rc0000gn/T/ipykernel_23000/2626752571.py\u001b[0m in \u001b[0;36m<module>\u001b[0;34m\u001b[0m\n\u001b[1;32m     65\u001b[0m                 \u001b[0;31m# plt.close()\u001b[0m\u001b[0;34m\u001b[0m\u001b[0;34m\u001b[0m\u001b[0m\n\u001b[1;32m     66\u001b[0m                 \u001b[0;31m# m = bins[np.argmax(n)]\u001b[0m\u001b[0;34m\u001b[0m\u001b[0;34m\u001b[0m\u001b[0m\n\u001b[0;32m---> 67\u001b[0;31m                 \u001b[0;34m(\u001b[0m\u001b[0mm_opt\u001b[0m\u001b[0;34m,\u001b[0m \u001b[0mb_opt\u001b[0m\u001b[0;34m)\u001b[0m\u001b[0;34m,\u001b[0m \u001b[0mcovariance\u001b[0m \u001b[0;34m=\u001b[0m \u001b[0mcurve_fit\u001b[0m\u001b[0;34m(\u001b[0m\u001b[0mlinear_func\u001b[0m\u001b[0;34m,\u001b[0m \u001b[0mrange\u001b[0m\u001b[0;34m(\u001b[0m\u001b[0minf\u001b[0m\u001b[0;34m,\u001b[0m \u001b[0msup\u001b[0m\u001b[0;34m)\u001b[0m\u001b[0;34m,\u001b[0m \u001b[0mg\u001b[0m\u001b[0;34m[\u001b[0m\u001b[0minf\u001b[0m\u001b[0;34m:\u001b[0m\u001b[0msup\u001b[0m\u001b[0;34m]\u001b[0m\u001b[0;34m)\u001b[0m\u001b[0;34m\u001b[0m\u001b[0;34m\u001b[0m\u001b[0m\n\u001b[0m\u001b[1;32m     68\u001b[0m                 \u001b[0;31m# coilRes = g[inf:sup] - [linear_func(x, m_opt, b_opt) for x in range(inf, sup)]\u001b[0m\u001b[0;34m\u001b[0m\u001b[0;34m\u001b[0m\u001b[0m\n\u001b[1;32m     69\u001b[0m                 \u001b[0mm\u001b[0m \u001b[0;34m=\u001b[0m \u001b[0mm_opt\u001b[0m\u001b[0;34m\u001b[0m\u001b[0;34m\u001b[0m\u001b[0m\n",
      "\u001b[0;32m~/opt/anaconda3/lib/python3.9/site-packages/scipy/optimize/minpack.py\u001b[0m in \u001b[0;36mcurve_fit\u001b[0;34m(f, xdata, ydata, p0, sigma, absolute_sigma, check_finite, bounds, method, jac, **kwargs)\u001b[0m\n\u001b[1;32m    787\u001b[0m         \u001b[0;31m# Remove full_output from kwargs, otherwise we're passing it in twice.\u001b[0m\u001b[0;34m\u001b[0m\u001b[0;34m\u001b[0m\u001b[0m\n\u001b[1;32m    788\u001b[0m         \u001b[0mreturn_full\u001b[0m \u001b[0;34m=\u001b[0m \u001b[0mkwargs\u001b[0m\u001b[0;34m.\u001b[0m\u001b[0mpop\u001b[0m\u001b[0;34m(\u001b[0m\u001b[0;34m'full_output'\u001b[0m\u001b[0;34m,\u001b[0m \u001b[0;32mFalse\u001b[0m\u001b[0;34m)\u001b[0m\u001b[0;34m\u001b[0m\u001b[0;34m\u001b[0m\u001b[0m\n\u001b[0;32m--> 789\u001b[0;31m         \u001b[0mres\u001b[0m \u001b[0;34m=\u001b[0m \u001b[0mleastsq\u001b[0m\u001b[0;34m(\u001b[0m\u001b[0mfunc\u001b[0m\u001b[0;34m,\u001b[0m \u001b[0mp0\u001b[0m\u001b[0;34m,\u001b[0m \u001b[0mDfun\u001b[0m\u001b[0;34m=\u001b[0m\u001b[0mjac\u001b[0m\u001b[0;34m,\u001b[0m \u001b[0mfull_output\u001b[0m\u001b[0;34m=\u001b[0m\u001b[0;36m1\u001b[0m\u001b[0;34m,\u001b[0m \u001b[0;34m**\u001b[0m\u001b[0mkwargs\u001b[0m\u001b[0;34m)\u001b[0m\u001b[0;34m\u001b[0m\u001b[0;34m\u001b[0m\u001b[0m\n\u001b[0m\u001b[1;32m    790\u001b[0m         \u001b[0mpopt\u001b[0m\u001b[0;34m,\u001b[0m \u001b[0mpcov\u001b[0m\u001b[0;34m,\u001b[0m \u001b[0minfodict\u001b[0m\u001b[0;34m,\u001b[0m \u001b[0merrmsg\u001b[0m\u001b[0;34m,\u001b[0m \u001b[0mier\u001b[0m \u001b[0;34m=\u001b[0m \u001b[0mres\u001b[0m\u001b[0;34m\u001b[0m\u001b[0;34m\u001b[0m\u001b[0m\n\u001b[1;32m    791\u001b[0m         \u001b[0mysize\u001b[0m \u001b[0;34m=\u001b[0m \u001b[0mlen\u001b[0m\u001b[0;34m(\u001b[0m\u001b[0minfodict\u001b[0m\u001b[0;34m[\u001b[0m\u001b[0;34m'fvec'\u001b[0m\u001b[0;34m]\u001b[0m\u001b[0;34m)\u001b[0m\u001b[0;34m\u001b[0m\u001b[0;34m\u001b[0m\u001b[0m\n",
      "\u001b[0;32m~/opt/anaconda3/lib/python3.9/site-packages/scipy/optimize/minpack.py\u001b[0m in \u001b[0;36mleastsq\u001b[0;34m(func, x0, args, Dfun, full_output, col_deriv, ftol, xtol, gtol, maxfev, epsfcn, factor, diag)\u001b[0m\n\u001b[1;32m    421\u001b[0m         \u001b[0;32mif\u001b[0m \u001b[0mmaxfev\u001b[0m \u001b[0;34m==\u001b[0m \u001b[0;36m0\u001b[0m\u001b[0;34m:\u001b[0m\u001b[0;34m\u001b[0m\u001b[0;34m\u001b[0m\u001b[0m\n\u001b[1;32m    422\u001b[0m             \u001b[0mmaxfev\u001b[0m \u001b[0;34m=\u001b[0m \u001b[0;36m200\u001b[0m\u001b[0;34m*\u001b[0m\u001b[0;34m(\u001b[0m\u001b[0mn\u001b[0m \u001b[0;34m+\u001b[0m \u001b[0;36m1\u001b[0m\u001b[0;34m)\u001b[0m\u001b[0;34m\u001b[0m\u001b[0;34m\u001b[0m\u001b[0m\n\u001b[0;32m--> 423\u001b[0;31m         retval = _minpack._lmdif(func, x0, args, full_output, ftol, xtol,\n\u001b[0m\u001b[1;32m    424\u001b[0m                                  gtol, maxfev, epsfcn, factor, diag)\n\u001b[1;32m    425\u001b[0m     \u001b[0;32melse\u001b[0m\u001b[0;34m:\u001b[0m\u001b[0;34m\u001b[0m\u001b[0;34m\u001b[0m\u001b[0m\n",
      "\u001b[0;32m~/opt/anaconda3/lib/python3.9/site-packages/scipy/optimize/minpack.py\u001b[0m in \u001b[0;36mfunc_wrapped\u001b[0;34m(params)\u001b[0m\n\u001b[1;32m    483\u001b[0m     \u001b[0;32mif\u001b[0m \u001b[0mtransform\u001b[0m \u001b[0;32mis\u001b[0m \u001b[0;32mNone\u001b[0m\u001b[0;34m:\u001b[0m\u001b[0;34m\u001b[0m\u001b[0;34m\u001b[0m\u001b[0m\n\u001b[1;32m    484\u001b[0m         \u001b[0;32mdef\u001b[0m \u001b[0mfunc_wrapped\u001b[0m\u001b[0;34m(\u001b[0m\u001b[0mparams\u001b[0m\u001b[0;34m)\u001b[0m\u001b[0;34m:\u001b[0m\u001b[0;34m\u001b[0m\u001b[0;34m\u001b[0m\u001b[0m\n\u001b[0;32m--> 485\u001b[0;31m             \u001b[0;32mreturn\u001b[0m \u001b[0mfunc\u001b[0m\u001b[0;34m(\u001b[0m\u001b[0mxdata\u001b[0m\u001b[0;34m,\u001b[0m \u001b[0;34m*\u001b[0m\u001b[0mparams\u001b[0m\u001b[0;34m)\u001b[0m \u001b[0;34m-\u001b[0m \u001b[0mydata\u001b[0m\u001b[0;34m\u001b[0m\u001b[0;34m\u001b[0m\u001b[0m\n\u001b[0m\u001b[1;32m    486\u001b[0m     \u001b[0;32melif\u001b[0m \u001b[0mtransform\u001b[0m\u001b[0;34m.\u001b[0m\u001b[0mndim\u001b[0m \u001b[0;34m==\u001b[0m \u001b[0;36m1\u001b[0m\u001b[0;34m:\u001b[0m\u001b[0;34m\u001b[0m\u001b[0;34m\u001b[0m\u001b[0m\n\u001b[1;32m    487\u001b[0m         \u001b[0;32mdef\u001b[0m \u001b[0mfunc_wrapped\u001b[0m\u001b[0;34m(\u001b[0m\u001b[0mparams\u001b[0m\u001b[0;34m)\u001b[0m\u001b[0;34m:\u001b[0m\u001b[0;34m\u001b[0m\u001b[0;34m\u001b[0m\u001b[0m\n",
      "\u001b[0;32m/var/folders/m0/rpw4gcbn5lxd8_3kt7g699rc0000gn/T/ipykernel_23000/2362063704.py\u001b[0m in \u001b[0;36mlinear_func\u001b[0;34m(x, m, b)\u001b[0m\n\u001b[1;32m      1\u001b[0m \u001b[0;32mdef\u001b[0m \u001b[0mlinear_func\u001b[0m\u001b[0;34m(\u001b[0m\u001b[0mx\u001b[0m\u001b[0;34m,\u001b[0m \u001b[0mm\u001b[0m\u001b[0;34m,\u001b[0m \u001b[0mb\u001b[0m\u001b[0;34m)\u001b[0m\u001b[0;34m:\u001b[0m\u001b[0;34m\u001b[0m\u001b[0;34m\u001b[0m\u001b[0m\n\u001b[0;32m----> 2\u001b[0;31m     \u001b[0;32mreturn\u001b[0m \u001b[0mm\u001b[0m \u001b[0;34m*\u001b[0m \u001b[0mx\u001b[0m \u001b[0;34m+\u001b[0m \u001b[0mb\u001b[0m\u001b[0;34m\u001b[0m\u001b[0;34m\u001b[0m\u001b[0m\n\u001b[0m\u001b[1;32m      3\u001b[0m \u001b[0;32mfor\u001b[0m \u001b[0mtairid\u001b[0m\u001b[0;34m,\u001b[0m \u001b[0muniid\u001b[0m \u001b[0;32min\u001b[0m \u001b[0munique_matches_d\u001b[0m\u001b[0;34m.\u001b[0m\u001b[0mitems\u001b[0m\u001b[0;34m(\u001b[0m\u001b[0;34m)\u001b[0m\u001b[0;34m:\u001b[0m\u001b[0;34m\u001b[0m\u001b[0;34m\u001b[0m\u001b[0m\n\u001b[1;32m      4\u001b[0m \u001b[0;34m\u001b[0m\u001b[0m\n\u001b[1;32m      5\u001b[0m \u001b[0;34m\u001b[0m\u001b[0m\n",
      "\u001b[0;31mKeyboardInterrupt\u001b[0m: "
     ]
    }
   ],
   "source": [
    "# #multiple breakpoints didn't work\n",
    "\n",
    "# for tairid, uniid in unique_matches_d.items():        \n",
    "#     if tairid != 'AT1G17600.1':\n",
    "#         continue\n",
    "#     preX = get_LRR_curve(tairid)    \n",
    "#     X = scipy.ndimage.gaussian_filter(preX, [1, 0])\n",
    "#     Y = scipy.ndimage.gaussian_filter(X, [20, 0])\n",
    "#     dY = scipy.ndimage.gaussian_filter(Y, [1,0], order = 1)\n",
    "#     dZ = dY / np.sqrt(np.sum(dY ** 2, axis = 1))[:, np.newaxis]\n",
    "#     # need orthonormal pair of vectors for each point on curve that are orthogonal to tangent vector\n",
    "#     V = np.zeros((len(dZ), 2, 3))\n",
    "#     V[0,0] = np.random.rand(3)\n",
    "#     V[0,1] = np.random.rand(3)\n",
    "#     for i, z in enumerate(dZ):\n",
    "#         # project onto current tangent vector\n",
    "#         if i:\n",
    "#             V[i] = V[i-1]\n",
    "#         V[i,0] -= (V[i,0] @ z) * z\n",
    "#         V[i,1] -= (V[i,1] @ z) * z\n",
    "#         V[i,0], V[i,1] = compromise(V[i,0], V[i,1])    \n",
    "        \n",
    "#     Q = np.zeros((len(dZ), 2))\n",
    "#     for i in range(len(Q)):\n",
    "#         Q[i] = [(X[i] - Y[i]) @ V[i,0], (X[i] - Y[i]) @ V[i,1]]\n",
    "\n",
    "#     s = Q[:,0]\n",
    "#     c = Q[:,1]\n",
    "#     ds = gaussian_filter(s, 0.5, order = 1)\n",
    "#     dc = gaussian_filter(c, 0.5, order = 1)\n",
    "\n",
    "#     r2 = s ** 2 + c ** 2\n",
    "\n",
    "#     summand = (c * ds - s * dc) / r2\n",
    "\n",
    "#     g =np.cumsum(summand)\n",
    "#     N = len(g)\n",
    "\n",
    "\n",
    "\n",
    "#     A_l = []\n",
    "#     param_l = []\n",
    "#     ti_l = []\n",
    "#     slopes_l =[]\n",
    "#     maxBp = 2\n",
    "\n",
    "    \n",
    "#     from itertools import combinations\n",
    "#     from collections import defaultdict\n",
    "#     for numBp in range(1, maxBp+1):\n",
    "#         A = []\n",
    "#         print(numBp)\n",
    "#         param_d = defaultdict(lambda : [])\n",
    "#         if numBp ==1:\n",
    "#             breakpts = [(ti,) for ti in range(2,N-2)]\n",
    "#         else:\n",
    "#             breakpts = [ti for ti in combinations(range(2,N-2), numBp) if np.min(np.diff(list(ti)))>5]\n",
    "#         for ti in breakpts:\n",
    "#             ti0 = [0]+list(ti)+[N]\n",
    "#             loss = 0\n",
    "#             coil = []\n",
    "#             loss0 = 0\n",
    "#             loss1 = 0\n",
    "#             slopes0 = []\n",
    "#             slopes1 = []\n",
    "#             for kk, (inf, sup) in enumerate(zip(ti0[:-1], ti0[1:])):\n",
    "#                 # n, bins, patches = plt.hist(summand, bins = 100)\n",
    "#                 # plt.close()\n",
    "#                 # m = bins[np.argmax(n)]\n",
    "#                 (m_opt, b_opt), covariance = curve_fit(linear_func, range(inf, sup), g[inf:sup])            \n",
    "#                 # coilRes = g[inf:sup] - [linear_func(x, m_opt, b_opt) for x in range(inf, sup)]\n",
    "#                 m = m_opt        \n",
    "#                 hm = g[inf:sup] - m*np.arange(inf,sup)\n",
    "#                 # hm -= np.mean(hm)\n",
    "#                 h = g[inf:sup]\n",
    "#                 h -= np.mean(h)                \n",
    "#                 if (kk+1)%2:                \n",
    "#                     loss0 += np.sum(hm**2)\n",
    "#                     loss1 += np.sum(h**2)\n",
    "#                     slopes0.append(m)\n",
    "#                     slopes1.append(0)\n",
    "#                 else:\n",
    "#                     loss0 += np.sum(h**2)\n",
    "#                     loss1 += np.sum(hm**2)\n",
    "#                     slopes0.append(0)\n",
    "#                     slopes1.append(m)                    \n",
    "#             if loss0 < loss1:\n",
    "#                 loss = loss0\n",
    "#                 param_d[ti] = slopes0\n",
    "#             else:\n",
    "#                 loss = loss1\n",
    "#                 param_d[ti] = slopes1\n",
    "#             A.append(loss)            \n",
    "#         minidx = np.argmin(A)\n",
    "#         minti = breakpts[minidx]\n",
    "#         ti_l.append(minti)\n",
    "#         param_l.append(param_d[minti])\n",
    "#         A_l.append(A[minidx])\n",
    "#     print(A_l)\n",
    "\n",
    "#     bestBpNum = np.argmin(A_l)\n",
    "\n",
    "#     slopes = param_l[bestBpNum]\n",
    "#     ti = ti_l[bestBpNum]\n",
    "\n",
    "#     ti0 = [0]+list(ti)+[N]\n",
    "\n",
    "#     plt.plot(g)\n",
    "#     for kk, (inf, sup) in enumerate(zip(ti0[:-1], ti0[1:])):\n",
    "#         m = slopes[kk]\n",
    "#         b = np.mean(g[inf:sup] - m*np.arange(inf,sup))\n",
    "#         plt.plot([inf, sup], [m*inf+b, m*sup+b], 'r')\n",
    "#     for t in ti:\n",
    "#         plt.axvline(x = t, color = 'g')\n",
    "#     plt.show()\n",
    "#     # plt.savefig(make_path('plots', 'theta_breakpoint_nlrome', f'{tairid}.png'))    \n",
    "\n",
    "#     plt.close()        \n",
    "\n",
    "#     # A = np.array([np.sum((g[t:] - np.sum(g[t:]) / np.max([1, N-t])) ** 2) + np.sum((g[:t] - [g[t]*x/t for x in range(0,t)])**2) for t in range(N)])\n",
    "#     # t = np.argmin(A)\n",
    "#     # m = g[t]/t\n",
    "#     # plt.plot(g)\n",
    "#     # plt.plot([m*x for x in range(0, t)], c = 'r')\n",
    "#     # plt.hlines(y=np.sum(g[t:]) / np.max([1, N-t]), xmin=t, xmax = N, color = 'r', linestyle='-')\n",
    "#     # plt.axvline(x = t, color = 'g')\n",
    "#     # plt.show()\n",
    "#     # plt.close()\n"
   ]
  },
  {
   "cell_type": "code",
   "execution_count": 640,
   "metadata": {},
   "outputs": [],
   "source": [
    "# multiple breakpoints didn't work\n",
    "# for tairid, uniid in unique_matches_d.items():        \n",
    "#     # if tairid != 'AT1G17600.1':\n",
    "#     #     continue\n",
    "\n",
    "#     preX = get_LRR_curve(tairid)\n",
    "    \n",
    "#     X = scipy.ndimage.gaussian_filter(preX, [1, 0])\n",
    "#     Y = scipy.ndimage.gaussian_filter(X, [20, 0])\n",
    "#     dY = scipy.ndimage.gaussian_filter(Y, [1,0], order = 1)\n",
    "#     dZ = dY / np.sqrt(np.sum(dY ** 2, axis = 1))[:, np.newaxis]\n",
    "#     # need orthonormal pair of vectors for each point on curve that are orthogonal to tangent vector\n",
    "#     V = np.zeros((len(dZ), 2, 3))\n",
    "#     V[0,0] = np.random.rand(3)\n",
    "#     V[0,1] = np.random.rand(3)\n",
    "#     for i, z in enumerate(dZ):\n",
    "#         # project onto current tangent vector\n",
    "#         if i:\n",
    "#             V[i] = V[i-1]\n",
    "#         V[i,0] -= (V[i,0] @ z) * z\n",
    "#         V[i,1] -= (V[i,1] @ z) * z\n",
    "#         V[i,0], V[i,1] = compromise(V[i,0], V[i,1])    \n",
    "        \n",
    "#     Q = np.zeros((len(dZ), 2))\n",
    "#     for i in range(len(Q)):\n",
    "#         Q[i] = [(X[i] - Y[i]) @ V[i,0], (X[i] - Y[i]) @ V[i,1]]\n",
    "\n",
    "#     s = Q[:,0]\n",
    "#     c = Q[:,1]\n",
    "#     ds = gaussian_filter(s, 0.5, order = 1)\n",
    "#     dc = gaussian_filter(c, 0.5, order = 1)\n",
    "\n",
    "#     r2 = s ** 2 + c ** 2\n",
    "\n",
    "#     summand = (c * ds - s * dc) / r2\n",
    "\n",
    "#     g =np.cumsum(summand)\n",
    "#     N = len(g)\n",
    "\n",
    "#     n, bins, patches = plt.hist(summand, bins = 100)\n",
    "#     plt.close()\n",
    "#     most_common_bin_index = np.argmax(n)\n",
    "#     m = bins[most_common_bin_index]\n",
    "\n",
    "#     A_l = []\n",
    "#     param_l = []\n",
    "#     ti_l = []\n",
    "\n",
    "#     maxBp = 2\n",
    "#     from itertools import combinations\n",
    "#     from collections import defaultdict\n",
    "#     for numBp in range(1, maxBp+1):\n",
    "#         A = []\n",
    "#         param_d = defaultdict(lambda : [])        \n",
    "#         if numBp ==1:\n",
    "#             breakpts = [(ti,) for ti in range(2,N-2)]\n",
    "#         else:\n",
    "#             breakpts = [ti for ti in combinations(range(2,N-2), numBp) if np.min(np.diff(list(ti)))>5]\n",
    "#         for ti in breakpts:\n",
    "#             ti0 = [0]+list(ti)+[N]\n",
    "#             loss = 0\n",
    "#             coil = []\n",
    "#             loss0 = 0\n",
    "#             for kk, (inf, sup) in enumerate(zip(ti0[:-1], ti0[1:])):\n",
    "#                 hm = g[inf:sup] - (m*((kk+1)%2))*np.arange(inf,sup)\n",
    "#                 hm -= np.mean(hm)\n",
    "#                 loss0 += np.sum(hm**2)\n",
    "\n",
    "#             loss1 = 0\n",
    "#             for kk, (inf, sup) in enumerate(zip(ti0[:-1], ti0[1:])):\n",
    "#                 hm = g[inf:sup] - (m*(kk%2))*np.arange(inf,sup)\n",
    "#                 hm -= np.mean(hm)\n",
    "#                 loss1 += np.sum(hm**2)         \n",
    "#             if loss0 < loss1:\n",
    "#                 loss = loss0\n",
    "#                 param_d[ti] = 0\n",
    "#             else:\n",
    "#                 loss = loss1\n",
    "#                 param_d[ti] = 1\n",
    "#             A.append(loss)            \n",
    "#         minidx = np.argmin(A)\n",
    "#         minti = breakpts[minidx]\n",
    "#         ti_l.append(minti)\n",
    "#         param_l.append(param_d[minti])\n",
    "#         A_l.append(A[minidx])\n",
    "#     print(A_l)\n",
    "\n",
    "#     bestBpNum = np.argmin(A_l)\n",
    "\n",
    "#     param = param_l[bestBpNum]\n",
    "#     ti = ti_l[bestBpNum]\n",
    "\n",
    "#     ti0 = [0]+list(ti)+[N]\n",
    "\n",
    "#     plt.plot(g)\n",
    "#     for kk, (inf, sup) in enumerate(zip(ti0[:-1], ti0[1:])):\n",
    "        \n",
    "#         if not (kk+param)%2:\n",
    "#             b = np.mean(g[inf:sup] - m*np.arange(inf,sup))\n",
    "#             plt.plot([inf, sup], [m*inf+b, m*sup+b], 'r')\n",
    "#         else:\n",
    "#             plt.hlines(y= np.mean(g[inf:sup]), xmin=inf, xmax = sup, color = 'r', linestyle='-')\n",
    "#     for t in ti:\n",
    "#         plt.axvline(x = t, color = 'g')\n",
    "#     # plt.show()\n",
    "#     plt.savefig(make_path('plots', 'theta_breakpoint_nlrome', f'{tairid}.png'))    \n",
    "\n",
    "#     plt.close()        \n",
    "\n",
    "#     # A = np.array([np.sum((g[t:] - np.sum(g[t:]) / np.max([1, N-t])) ** 2) + np.sum((g[:t] - [g[t]*x/t for x in range(0,t)])**2) for t in range(N)])\n",
    "#     # t = np.argmin(A)\n",
    "#     # m = g[t]/t\n",
    "#     # plt.plot(g)\n",
    "#     # plt.plot([m*x for x in range(0, t)], c = 'r')\n",
    "#     # plt.hlines(y=np.sum(g[t:]) / np.max([1, N-t]), xmin=t, xmax = N, color = 'r', linestyle='-')\n",
    "#     # plt.axvline(x = t, color = 'g')\n",
    "#     # plt.show()\n",
    "#     # plt.close()\n"
   ]
  },
  {
   "cell_type": "code",
   "execution_count": null,
   "metadata": {},
   "outputs": [
    {
     "data": {
      "image/png": "[encoded data removed]",
      "text/plain": [
       "<Figure size 640x480 with 1 Axes>"
      ]
     },
     "metadata": {},
     "output_type": "display_data"
    }
   ],
   "source": [
    "#multiple breakpoints\n",
    "# bestBpNum = np.argmin(A_l)\n",
    "\n",
    "# param = param_l[bestBpNum]\n",
    "# ti = ti_l[bestBpNum]\n",
    "\n",
    "# ti0 = [0]+list(ti)+[N]\n",
    "\n",
    "# plt.plot(g)\n",
    "# for kk, (inf, sup) in enumerate(zip(ti0[:-1], ti0[1:])):\n",
    "#     if not (kk+param)%2:\n",
    "#         b = np.mean(g[inf:sup] - m*np.arange(inf,sup))\n",
    "#         plt.plot([inf, sup], [m*inf+b, m*sup+b], 'r')\n",
    "#     else:\n",
    "#         plt.hlines(y= np.mean(g[inf:sup]), xmin=inf, xmax = sup, color = 'r', linestyle='-')\n",
    "# plt.show()"
   ]
  },
  {
   "cell_type": "code",
   "execution_count": 618,
   "metadata": {},
   "outputs": [],
   "source": [
    "#generates core pdb file for figure in paper\n",
    "\n",
    "if False:\n",
    "    io = bpdb.PDBIO()\n",
    "    for tairid, uniid in unique_matches_d.items():\n",
    "        parser = PDBParser()\n",
    "        structure = parser.get_structure(uniid, make_path('pdb', 'nlrome_LRR-hmm','%s.pdb'%tairid))\n",
    "        model = list(structure.get_models())[0]\n",
    "        normalBundle = np.load(make_path('npy', 'normal_bundle_nlrome', f\"{tairid}.npy\"))\n",
    "        Y, V0, V1 = tuple([normalBundle[ii, :, :] for ii in range(3)])\n",
    "        for jj, dY in enumerate([np.zeros(Y.shape)]+[normalBundle[ii, :, :] for ii in range(1, 3)]):     \n",
    "            core_chain = Chain('C')\n",
    "            for ii in range(Y.shape[0]):\n",
    "                res = Residue((' ', ii, ' '), 'LEU', '')\n",
    "                res.add(Atom('C', Y[ii, :]+2*dY[ii,:], 100, 1.0, ' ', 'C', ii,element='C'))\n",
    "                core_chain.add(res)\n",
    "        # v0_chain = Chain('U')\n",
    "        # for ii in range(Y.shape[0]):\n",
    "        #     res = Residue((' ', ii, ' '), 'LEU', '')\n",
    "        #     res.add(Atom('C', Y[ii, :]+V0[ii, :], 100, 1.0, ' ', 'C', ii,element='C'))\n",
    "        #     v0_chain.add(res)        \n",
    "        # model.add(v0_chain)\n",
    "\n",
    "        # v1_chain = Chain('V')\n",
    "        # for ii in range(Y.shape[0]):\n",
    "        #     res = Residue((' ', ii, ' '), 'LEU', '')\n",
    "        #     res.add(Atom('C', Y[ii, :]+V1[ii, :], 100, 1.0, ' ', 'C', ii,element='C'))\n",
    "        #     v1_chain.add(res)        \n",
    "        # model.add(v1_chain)\n",
    "\n",
    "            io.set_structure(core_chain)\n",
    "            io.save(make_path('pdb', 'nlrome_LRR-core',tairid, '%d.pdb'%jj))\n",
    "        \n",
    "        # io.save(make_path('pdb', 'nlrome_LRR-core','%s.pdb'%tairid))  \n"
   ]
  },
  {
   "cell_type": "code",
   "execution_count": 635,
   "metadata": {},
   "outputs": [
    {
     "name": "stderr",
     "output_type": "stream",
     "text": [
      "/Users/boyanxu/opt/anaconda3/lib/python3.9/site-packages/scipy/optimize/minpack.py:833: OptimizeWarning: Covariance of the parameters could not be estimated\n",
      "  warnings.warn('Covariance of the parameters could not be estimated',\n"
     ]
    }
   ],
   "source": [
    "#best performing winding number calculation\n",
    "\n",
    "postLRR_cutoff = {}\n",
    "\n",
    "def linear_func(x, m, b):\n",
    "    return m * x + b\n",
    "for tairid, uniid in unique_matches_d.items():\n",
    "\n",
    "        \n",
    "    if tairid != 'AT1G64070.1':\n",
    "        continue\n",
    "\n",
    "    preX = get_LRR_curve(tairid)\n",
    "    \n",
    "\n",
    "    X = scipy.ndimage.gaussian_filter(preX, [1, 0])\n",
    "    Y = scipy.ndimage.gaussian_filter(X, [20, 0])\n",
    "    dY = scipy.ndimage.gaussian_filter(Y, [1,0], order = 1)\n",
    "    dZ = dY / np.sqrt(np.sum(dY ** 2, axis = 1))[:, np.newaxis]\n",
    "\n",
    "    def compromise(a,b):\n",
    "        # normalize\n",
    "        a /= np.linalg.norm(a)\n",
    "        b /= np.linalg.norm(b)\n",
    "\n",
    "        # ensure a, b orthogonal\n",
    "        mid = a + b\n",
    "        mid *= np.sqrt(2) / (2 * np.linalg.norm(mid))\n",
    "        diff = b - a\n",
    "        diff *= np.sqrt(2) / (2 * np.linalg.norm(diff))\n",
    "\n",
    "        a = mid - diff\n",
    "        b = mid + diff\n",
    "\n",
    "        # normalize\n",
    "        a /= np.linalg.norm(a)\n",
    "        b /= np.linalg.norm(b)\n",
    "        return a,b\n",
    "\n",
    "    # need orthonormal pair of vectors for each point on curve that are orthogonal to tangent vector\n",
    "    V = np.zeros((len(dZ), 2, 3))\n",
    "    V[0,0] = np.random.rand(3)\n",
    "    V[0,1] = np.random.rand(3)\n",
    "\n",
    "    for i, z in enumerate(dZ):\n",
    "        # project onto current tangent vector\n",
    "        if i:\n",
    "            V[i] = V[i-1]\n",
    "\n",
    "        V[i,0] -= (V[i,0] @ z) * z\n",
    "        V[i,1] -= (V[i,1] @ z) * z\n",
    "        \n",
    "        V[i,0], V[i,1] = compromise(V[i,0], V[i,1])    \n",
    "        \n",
    "    Q = np.zeros((len(dZ), 2))\n",
    "    for i in range(len(Q)):\n",
    "        Q[i] = [(X[i] - Y[i]) @ V[i,0], (X[i] - Y[i]) @ V[i,1]]\n",
    "\n",
    "    s = Q[:, 0]\n",
    "    c = Q[:, 1]\n",
    "    points = np.array([c, s]).T.reshape(-1, 1, 2)\n",
    "    segments = np.concatenate([points[:-1], points[1:]], axis=1)\n",
    "\n",
    "    conf = range(len(dZ))\n",
    "    fig, axs = plt.subplots(1, 1, sharex=True, sharey=True)\n",
    "    norm = plt.Normalize(min(conf), max(conf))\n",
    "    lc = LineCollection(segments, cmap='viridis', norm=norm)\n",
    "    # Set the values used for colormapping\n",
    "    lc.set_array(conf)\n",
    "    lc.set_linewidth(2)\n",
    "    line = axs.add_collection(lc)\n",
    "    fig.colorbar(line, ax=axs, label = 'Residue number')\n",
    "\n",
    "    plt.xlim(-21, 18)\n",
    "    plt.ylim(-17, 12)\n",
    "    plt.savefig(make_path(\"plots\", 'framing_projection_nlrome', f'{tairid}.png'), )\n",
    "    plt.close()\n",
    "\n",
    "    ds = gaussian_filter(s, 0.5, order = 1)\n",
    "    dc = gaussian_filter(c, 0.5, order = 1)\n",
    "\n",
    "    r2 = s ** 2 + c ** 2\n",
    "\n",
    "    summand = (c * ds - s * dc) / r2\n",
    "\n",
    "    g =np.cumsum(summand)/(2*np.pi)\n",
    "\n",
    "    N = len(g)\n",
    "\n",
    "    A = []\n",
    "    param_l = []\n",
    "    for t in range(2, N-2):\n",
    "        params, covariance = curve_fit(linear_func, range(t), g[:t])\n",
    "        m_opt, b_opt = params\n",
    "\n",
    "        paramspost = curve_fit(linear_func, range(t,N), g[t:])[0]\n",
    "        m_post, b_post = paramspost\n",
    "\n",
    "        coilRes = (g[:t] - np.array([linear_func(x, m_opt, b_opt) for x in range(t)]))\n",
    "        # postCoilRes = (g[t:] - np.array([linear_func(x, m_post, b_post) for x in range(t,N)]))/2\n",
    "        # (g[t:] - np.sum(g[t:]) / np.max([1, N-t]))/2\n",
    "        postCoilRes = (g[t:] - np.sum(g[t:]) / np.max([1, N-t]))/7\n",
    "\n",
    "        A.append(np.sum(coilRes**2) + np.sum(postCoilRes**2))\n",
    "        param_l.append((m_opt, b_opt))\n",
    "        # param_l.append(((m_opt, b_opt), (m_post, b_post)))\n",
    "\n",
    "    \n",
    "    t = np.argmin(A)\n",
    "    postLRR_cutoff[tairid] = t\n",
    "    # (m_opt, b_opt), (m_post, b_post) = param_l[t]\n",
    "    m_opt, b_opt = param_l[t]\n",
    "    if m_opt < 0:\n",
    "        m_opt, b_opt = -m_opt, -b_opt\n",
    "        # m_post, b_post = -m_post, -b_post\n",
    "        g = -g\n",
    "\n",
    "    # plt.plot(range(t,N),[linear_func(x, m_post, b_post) for x in range(t,N)], c = 'orange', linestyle = '--')\n",
    "\n",
    "    plt.plot(g[:t], c = 'green')\n",
    "    plt.hlines(y=np.sum(g[t:]) / np.max([1, N-t]), xmin=t, xmax = N, color = 'orange', linestyle='--')    \n",
    "    plt.plot([linear_func(x, m_opt, b_opt) for x in range(t)], c = 'orange', linestyle = '--')\n",
    "    plt.plot(np.arange(t, len(g)), g[t:], c = 'blue')\n",
    "\n",
    "    plt.axvline(x = t, color = 'red', linestyle = '--')\n",
    "    plt.xlabel('Residue number')\n",
    "    plt.ylabel('Winding Number')\n",
    "    plt.title('Piecewise linear regression on winding number graph')\n",
    "    # plt.show()\n",
    "    plt.savefig(make_path('plots', 'theta_cutoff_nlrome_new', f'{tairid}.png'))    \n",
    "    plt.close()           \n",
    "\n",
    "    if False:\n",
    "        np.save(make_path('npy', 'normal_bundle_nlrome', f\"{tairid}.npy\"), np.stack((Y, V[:, 0, :], V[:, 1, :])))    \n",
    "        np.save(make_path('npy', 'normal_bundle_projection', f\"{tairid}.npy\"), Q)    \n",
    "    # plt.plot(g)\n",
    "    # plt.plot([linear_func(x, m_opt, b_opt) for x in range(t)], c = 'r')\n",
    "    # plt.hlines(y=np.sum(g[t:]) / np.max([1, N-t]), xmin=t, xmax = N, color = 'r', linestyle='-')\n",
    "    # plt.axvline(x = t, color = 'g')\n",
    "    # plt.show()\n",
    "    # plt.savefig(make_path('plots', 'theta_cutoff_nlrome', f'{tairid}.png'))\n",
    "    # plt.close()        \n",
    "\n",
    "\n"
   ]
  },
  {
   "cell_type": "code",
   "execution_count": 637,
   "metadata": {},
   "outputs": [],
   "source": [
    "#for generating chimera annotations\n",
    "if False:\n",
    "    tairid = 'AT1G64070.1'\n",
    "    t = postLRR_cutoff[tairid]\n",
    "    f = open(\"chimera/post-%s.txt\"%tairid, \"w\")\n",
    "    f.write(\"attribute: position\\n\")\n",
    "    f.write(\"recipient: residues\\n\")\n",
    "    for i in range(len(g)):\n",
    "        if i != t:\n",
    "            f.write(\"\\t\" + \":\" + str(i+1) + \"\\t\" + str((int(i<t)-.5)*2) + \"\\n\")\n",
    "        else:\n",
    "            f.write(\"\\t\" + \":\" + str(i+1) + \"\\t\" + str(0) + \"\\n\")\n",
    "    f.close()"
   ]
  },
  {
   "cell_type": "code",
   "execution_count": null,
   "metadata": {},
   "outputs": [
    {
     "data": {
      "text/plain": [
       "(-17.0, 12.0)"
      ]
     },
     "execution_count": 558,
     "metadata": {},
     "output_type": "execute_result"
    },
    {
     "data": {
      "image/png": "[encoded data removed]",
      "text/plain": [
       "<Figure size 640x480 with 2 Axes>"
      ]
     },
     "metadata": {},
     "output_type": "display_data"
    }
   ],
   "source": [
    "#plot for projection onto normal bundle\n",
    "# x = Q[:, 0]\n",
    "# y = Q[:, 1]\n",
    "# points = np.array([x, y]).T.reshape(-1, 1, 2)\n",
    "# segments = np.concatenate([points[:-1], points[1:]], axis=1)\n",
    "\n",
    "# conf = range(len(dZ))\n",
    "# fig, axs = plt.subplots(1, 1, sharex=True, sharey=True)\n",
    "# norm = plt.Normalize(min(conf), max(conf))\n",
    "# lc = LineCollection(segments, cmap='viridis', norm=norm)\n",
    "# # Set the values used for colormapping\n",
    "# lc.set_array(conf)\n",
    "# lc.set_linewidth(2)\n",
    "# line = axs.add_collection(lc)\n",
    "# fig.colorbar(line, ax=axs, label = 'Residue number')\n",
    "\n",
    "# plt.xlim(-21, 18)\n",
    "# plt.ylim(-17, 12)"
   ]
  },
  {
   "cell_type": "code",
   "execution_count": null,
   "metadata": {},
   "outputs": [],
   "source": [
    "# #multiple breakpoints\n",
    "# def linear_func(x, m, b):\n",
    "#     return m * x + b\n",
    "# for tairid, uniid in unique_matches_d.items():\n",
    "#     Q = np.load(make_path('npy', 'normal_bundle_projection', f\"{tairid}.npy\"))\n",
    "#     s = Q[:,0]\n",
    "#     c = Q[:,1]\n",
    "#     ds = gaussian_filter(s, 0.5, order = 1)\n",
    "#     dc = gaussian_filter(c, 0.5, order = 1)\n",
    "\n",
    "#     r2 = s ** 2 + c ** 2\n",
    "\n",
    "#     summand = (c * ds - s * dc) / r2\n",
    "\n",
    "#     plt.plot(gaussian_filter(summand, 10.0))\n",
    "#     plt.show()\n",
    "\n",
    "#     g =np.cumsum(summand)\n",
    "#     N = len(g)\n",
    "\n",
    "#     A_l = []\n",
    "#     param_l = []\n",
    "\n",
    "#     maxBp = 2\n",
    "#     from itertools import combinations\n",
    "#     from collections import defaultdict\n",
    "#     for numBp in range(1, maxBp+1):\n",
    "#         A = []\n",
    "#         param_d = defaultdict(lambda : [])\n",
    "#         if numBp ==1:\n",
    "#             breakpts = [ti for ti in range(2,N-2)]\n",
    "#         else:\n",
    "#             breakpts = [ti for ti in combinations(range(2,N-2), numBp) if np.min(np.diff(list(ti)))>5]\n",
    "#         for ti in breakpts:\n",
    "#             if type(ti) is int:                \n",
    "#                 ti0 = [0]+[ti]+[N]\n",
    "#             else:\n",
    "#                 ti0 = [0]+list(ti)+[N]\n",
    "#             loss = 0\n",
    "#             for inf, sup in zip(ti0[:-1], ti0[1:]):\n",
    "#                 (m_opt, b_opt), covariance = curve_fit(linear_func, range(inf, sup), g[inf:sup])            \n",
    "#                 coilRes = (g[inf:sup] - [linear_func(x, m_opt, b_opt) for x in range(inf, sup)])\n",
    "#                 loss += np.sum(coilRes**2)\n",
    "#             A.append(loss)\n",
    "#             param_d[ti].append((m_opt, b_opt))\n",
    "#         minidx = np.argmin(A)\n",
    "#         minti = breakpts[minidx]\n",
    "#         min_param = param_d[minti]\n",
    "#         param_l.append(min_param)\n",
    "#         A_l.append(A[minidx])\n",
    "#     print(A_l)"
   ]
  },
  {
   "cell_type": "code",
   "execution_count": null,
   "metadata": {},
   "outputs": [
    {
     "name": "stderr",
     "output_type": "stream",
     "text": [
      "/Users/boyanxu/opt/anaconda3/lib/python3.9/site-packages/scipy/optimize/minpack.py:833: OptimizeWarning: Covariance of the parameters could not be estimated\n",
      "  warnings.warn('Covariance of the parameters could not be estimated',\n"
     ]
    }
   ],
   "source": [
    "A = []\n",
    "param_l = []\n",
    "for t in range(2, N):\n",
    "\n",
    "    params, covariance = curve_fit(linear_func, range(t), g[:t])\n",
    "    m_opt, b_opt = params\n",
    "\n",
    "    coilRes = (g[:t] - [linear_func(x, m_opt, b_opt) for x in range(t)])\n",
    "    postCoilRes = (g[t:] - np.sum(g[t:]) / np.max([1, N-t]))/2\n",
    "\n",
    "    A.append(np.sum(coilRes**2) + np.sum(postCoilRes**2))\n",
    "    param_l.append((m_opt, b_opt))\n"
   ]
  },
  {
   "cell_type": "code",
   "execution_count": null,
   "metadata": {},
   "outputs": [
    {
     "name": "stdout",
     "output_type": "stream",
     "text": [
      "25.6\n"
     ]
    }
   ],
   "source": [
    "numPeriods = len([(ii,d) for ii, d in enumerate(np.diff(np.arctan2(s, c), n=1)) if d<-np.pi])\n",
    "print(len(s)/numPeriods)"
   ]
  },
  {
   "cell_type": "code",
   "execution_count": null,
   "metadata": {},
   "outputs": [],
   "source": [
    "for tairid in uniprot_d.keys():\n",
    "    period = avgper(motifs_shifted_d[tairid])\n",
    "\n",
    "    X = get_LRR_curve(tairid)\n",
    "    X = X[:cutoff_d[tairid]]\n",
    "    X = get_curv_vectors(X, MaxOrder=1, sigma=1)[1]\n",
    "    # np.save(make_path('npy', 'nlrome_X', '%s.npy'%tairid), X)\n",
    "            \n",
    "    #print out the number of residues in the chain, and print the locations of the LRR motif residues\n",
    "\n",
    "    D = get_csm(X, X)\n",
    "    # Clean up the matrix a bit by doing a sliding window of length roughly the period\n",
    "    D = sliding_window(D, period)\n",
    "    # Clean up the matrix even more by binarizing it with nearest neighbors\n",
    "    B = csm_to_binary_mutual(D, 50)\n",
    "    #B = B[0:400, 0:400]\n",
    "    v = getUnweightedLaplacianEigsDense(1-B)\n",
    "\n",
    "    if True:\n",
    "        plt.figure(figsize=(18, 6))\n",
    "        plt.subplot(131)\n",
    "        plt.imshow(D, cmap='magma_r')\n",
    "        plt.title(\"Self-Similarity Matrix\")\n",
    "        plt.subplot(132)\n",
    "        plt.imshow(B)\n",
    "        plt.title(\"Binarized Self-Similarity Matrix\")\n",
    "        plt.subplot(133)\n",
    "        plt.imshow(v[:, 0:29], aspect='auto', cmap='magma_r', interpolation='none')\n",
    "        for ii in motifs_shifted_d[tairid]:\n",
    "            if ii in range(v.shape[0]):\n",
    "                plt.axhline(ii)\n",
    "        plt.title(\"Eigenvectors of Unweighted Graph Laplacian\")\n",
    "        plt.savefig(make_path('plots','eigenmatrix_nlrome_cutoff', '%s.png'%tairid))\n",
    "        plt.close()\n",
    "\n",
    "    np.save(make_path('npy', 'eigenmatrix_nlrome_cutoff', '%s.npy'%tairid), v)\n",
    "    "
   ]
  },
  {
   "cell_type": "code",
   "execution_count": null,
   "metadata": {},
   "outputs": [
    {
     "name": "stdout",
     "output_type": "stream",
     "text": [
      "[[0, 103]]\n"
     ]
    },
    {
     "data": {
      "image/png": "[encoded data removed]",
      "text/plain": [
       "<Figure size 1200x600 with 1 Axes>"
      ]
     },
     "metadata": {},
     "output_type": "display_data"
    },
    {
     "data": {
      "image/png": "[encoded data removed]",
      "text/plain": [
       "<Figure size 1200x600 with 3 Axes>"
      ]
     },
     "metadata": {},
     "output_type": "display_data"
    }
   ],
   "source": [
    "#generate eigenvector plots\n",
    "for tairid,uniid in unique_matches_d.items():\n",
    "    motifs_l = motifs_shifted_d[tairid]\n",
    "    period = avgper(motifs_shifted_d[tairid])\n",
    "\n",
    "    if tairid != 'AT1G58602.1':\n",
    "        continue\n",
    "    for eig1, eig2 in [(0,1)]:\n",
    "        v = np.load('npy/eigenmatrix_nlrome/%s.npy'%tairid)\n",
    "\n",
    "        # plt.figure(figsize=(12, 4))\n",
    "        s = v[:,eig1]\n",
    "        c = v[:,eig2]\n",
    "\n",
    "        # plt.show()\n",
    "        # Detrend with daps\n",
    "        sf = detrend_timeseries(s, period)\n",
    "        cf = detrend_timeseries(c, period)\n",
    "\n",
    "    # print(.shape)\n",
    "\n",
    "    r = np.sqrt(s**2+c**2)\n",
    "    r = r/np.max(r)\n",
    "    coil_est = estimate_coil_hmm(s, c)\n",
    "    print(get_hairpins(coil_est))\n",
    "\n",
    "    X=v[:, eig1:eig2+1]\n",
    "    windowSize = 25\n",
    "    totpers_l=[]\n",
    "    for windowStart in range(X.shape[0]- windowSize-1):\n",
    "        Y = X[windowStart:windowStart+windowSize,:]\n",
    "        stree = gd.AlphaComplex(points = Y).create_simplex_tree()\n",
    "        dgm = stree.persistence()\n",
    "        dgm1_lens = [d-b for (dim, (b, d)) in dgm if dim == 1]\n",
    "        dgmstat = sum(dgm1_lens)\n",
    "        # gd.plot_persistence_diagram(dgm, legend = True)\n",
    "        totpers_l.append(dgmstat)\n",
    "    plt.figure(figsize=(12, 6))\n",
    "    plt.plot(totpers_l)\n",
    "    plt.show()\n",
    "    plt.close()\n",
    "\n",
    "    plt.figure(figsize=(12, 6))\n",
    "    plt.subplot(311)\n",
    "    plt.plot(s)\n",
    "    plt.plot(c)\n",
    "    plt.title(\"Leading eigenvectors for %s\"%uniid)\n",
    "    plt.subplot(312)\n",
    "    plt.plot(r)\n",
    "    plt.title(\"Normalized radius\")\n",
    "    plt.subplot(313)\n",
    "    plt.plot(coil_est)\n",
    "    plt.title(\"Coil Estimate\")\n",
    "    plt.tight_layout()    \n",
    "    # plt.title(f\"Eigenvectors 0 and 1 for {tairid}\")\n",
    "    plt.show()\n",
    "\n",
    "    # plt.savefig(make_path('plots','hairpin_nlrome', '%s.png'%tairid))\n",
    "    \n",
    "    plt.close()\n",
    "\n",
    "    theta = np.arctan2(cf, sf)\n",
    "    plt.figure(figsize=(12, 4))\n",
    "    plt.plot(theta, label=f'{eig1}, {eig2}')\n",
    "    plt.close()\n",
    "\n",
    "\n",
    "  "
   ]
  },
  {
   "cell_type": "code",
   "execution_count": null,
   "metadata": {},
   "outputs": [
    {
     "name": "stdout",
     "output_type": "stream",
     "text": [
      "[[0, 18], [50, 62], [205, 250]]\n",
      "[]\n",
      "[[0, 19]]\n",
      "[]\n",
      "[[108, 124]]\n",
      "[[0, 77]]\n",
      "[[0, 10], [219, 273]]\n",
      "[[0, 10], [137, 152]]\n",
      "[[0, 13]]\n",
      "[]\n",
      "[[0, 68], [378, 418]]\n",
      "[[0, 14], [47, 67], [333, 354]]\n",
      "[[220, 250], [279, 296]]\n",
      "[[0, 76], [325, 350]]\n",
      "[[230, 239], [286, 294]]\n",
      "[[0, 26], [68, 93], [318, 355]]\n",
      "[]\n",
      "[[0, 7]]\n",
      "[[0, 15]]\n",
      "[[0, 110], [209, 245], [474, 1073], [1117, 1138]]\n",
      "[]\n",
      "[[0, 24]]\n",
      "[[0, 23], [206, 254]]\n",
      "[[0, 102]]\n",
      "[[276, 285]]\n",
      "[[0, 51], [343, 369]]\n",
      "[[40, 59], [241, 255]]\n",
      "[[0, 48], [278, 308], [381, 438]]\n",
      "[[44, 64]]\n",
      "[]\n",
      "[[0, 24]]\n",
      "[[287, 294]]\n",
      "[[223, 261], [283, 301]]\n",
      "[[42, 68]]\n",
      "[[0, 70], [91, 111], [378, 400]]\n",
      "[[0, 51], [87, 104]]\n",
      "[[0, 49], [91, 108]]\n",
      "[[219, 240]]\n",
      "[[217, 241], [285, 293]]\n",
      "[[0, 19], [53, 77]]\n",
      "[[0, 5]]\n",
      "[[0, 20], [56, 82], [304, 335]]\n",
      "[[0, 47], [82, 99], [362, 385]]\n",
      "[[0, 87]]\n",
      "[[0, 5]]\n",
      "[[0, 70], [215, 229], [316, 330]]\n",
      "[[0, 10], [255, 262], [399, 432]]\n",
      "[[223, 257], [288, 303]]\n",
      "[[0, 20]]\n",
      "[[0, 5]]\n",
      "[[0, 7], [249, 257], [394, 419]]\n",
      "[[280, 287]]\n",
      "[[0, 29]]\n",
      "[[0, 26]]\n",
      "[[0, 14]]\n",
      "[]\n",
      "[[219, 240]]\n",
      "[[0, 103], [513, 544]]\n",
      "[[0, 40], [369, 422]]\n",
      "[[177, 191]]\n",
      "[]\n",
      "[[0, 46], [285, 298], [405, 426]]\n",
      "[]\n",
      "[[0, 12], [58, 73]]\n",
      "[[0, 11], [47, 67]]\n",
      "[[0, 10], [48, 67], [195, 244], [250, 267]]\n",
      "[[0, 46]]\n",
      "[]\n",
      "[[174, 189], [230, 248]]\n",
      "[[34, 54], [322, 340]]\n",
      "[[0, 24], [64, 89], [433, 467]]\n",
      "[[0, 103]]\n",
      "[[0, 27], [55, 69], [208, 247], [377, 405]]\n",
      "[[0, 69]]\n",
      "[[0, 102]]\n",
      "[[0, 37], [269, 297], [374, 384]]\n",
      "[[44, 63]]\n",
      "[[52, 105], [113, 131]]\n",
      "[[0, 27], [239, 257], [406, 417], [428, 456]]\n",
      "[[45, 62]]\n",
      "[[0, 47], [62, 71], [88, 104], [221, 315], [416, 424]]\n",
      "[[0, 62]]\n",
      "[[0, 55], [288, 317]]\n",
      "[[0, 9]]\n",
      "[[0, 76]]\n",
      "[[0, 142]]\n",
      "[[0, 34], [57, 81], [122, 215], [411, 489]]\n",
      "[[0, 6]]\n",
      "[[228, 243]]\n",
      "[]\n",
      "[[0, 101], [512, 543]]\n",
      "[[0, 150], [214, 250], [260, 311], [436, 444]]\n",
      "[[0, 17], [63, 76]]\n",
      "[[0, 26], [436, 503]]\n",
      "[[225, 248]]\n",
      "[[0, 52], [67, 81], [391, 434]]\n",
      "[[0, 33], [363, 385]]\n",
      "[[0, 13]]\n",
      "[[0, 68], [91, 111], [378, 400]]\n",
      "[[151, 166]]\n",
      "[[0, 84], [371, 404]]\n",
      "[]\n",
      "[[0, 7], [51, 69], [337, 359]]\n",
      "[[0, 9]]\n",
      "[[0, 63], [190, 582]]\n",
      "[[0, 41]]\n",
      "[[0, 55], [288, 317]]\n",
      "[[0, 51], [89, 113]]\n",
      "[[232, 239], [284, 300]]\n",
      "[[0, 63], [275, 373]]\n",
      "[[0, 103], [466, 529]]\n",
      "[[168, 187], [228, 241]]\n",
      "[]\n",
      "[[42, 57], [284, 294]]\n",
      "[]\n",
      "[[0, 30]]\n",
      "[[0, 88], [107, 133], [357, 392], [475, 581]]\n",
      "[[0, 80], [206, 254], [375, 628], [690, 1086]]\n",
      "[[221, 251], [278, 296]]\n",
      "[[42, 56], [283, 291]]\n",
      "[[0, 59]]\n",
      "[[0, 102]]\n",
      "[[0, 85], [185, 214], [229, 245], [525, 737]]\n",
      "[[0, 20], [55, 81]]\n",
      "[[0, 12], [46, 66], [335, 354]]\n",
      "[[0, 135]]\n",
      "[[0, 135]]\n"
     ]
    }
   ],
   "source": [
    "#generate eigenvector plots\n",
    "for tairid,uniid in unique_matches_d.items():\n",
    "    motifs_l = motifs_shifted_d[tairid]\n",
    "    period = 25\n",
    "\n",
    "    # if tairid != 'AT1G63730.1':\n",
    "    #     continue\n",
    "\n",
    "    v = np.load('npy/eigenmatrix_nlrome/%s.npy'%tairid)\n",
    "\n",
    "        # plt.figure(figsize=(12, 4))\n",
    "    v1 = v[:,eig1]\n",
    "    v2 = v[:,eig2]\n",
    "\n",
    "    v1f = detrend_timeseries(v1, period)\n",
    "    v2f = detrend_timeseries(v2, period)\n",
    "\n",
    "    r = np.sqrt(v1**2+v2**2)\n",
    "    r = r/np.max(r)\n",
    "\n",
    "    coil_est = estimate_coil_hmm(v1, v2)\n",
    "    print(get_hairpins(coil_est))    \n",
    "\n",
    "    theta = np.arctan2(v1f, v2f)\n",
    "\n",
    "    dv1 = gaussian_filter(v1, 0.5, order = 1)\n",
    "    dv2 = gaussian_filter(v2, 0.5, order = 1)\n",
    "\n",
    "    r2 = v1 ** 2 + v2 ** 2\n",
    "\n",
    "    summand = (v1 * dv2 - v2 * dv1) / r2\n",
    "\n",
    "    windowSize = period\n",
    "    totpers_l=[]\n",
    "    X=np.stack((v1, v2), axis = 1)\n",
    "    for windowStart in range(X.shape[0]- windowSize-1):\n",
    "        Y = X[windowStart:windowStart+windowSize,:]\n",
    "        stree = gd.AlphaComplex(points = Y).create_simplex_tree()\n",
    "        dgm = stree.persistence()\n",
    "        dgm1_lens = [d-b for (dim, (b, d)) in dgm if dim == 1]\n",
    "        dgmstat = sum(dgm1_lens)\n",
    "        # gd.plot_persistence_diagram(dgm, legend = True)\n",
    "        totpers_l.append(dgmstat)\n",
    "      \n",
    "\n",
    "\n",
    "    plt.figure(figsize=(12, 8))\n",
    "    plt.subplot(511)\n",
    "    plt.plot(v1)\n",
    "    plt.plot(v2)\n",
    "    plt.title(\"Original\")\n",
    "    plt.subplot(512)\n",
    "    plt.plot(r)\n",
    "    plt.ylim([0, 1.1])\n",
    "    plt.title(\"Original radius\")\n",
    "    plt.subplot(513)\n",
    "    plt.plot(coil_est)\n",
    "    plt.title(\"Coil Estimate\")\n",
    "    plt.subplot(514)\n",
    "    plt.plot(summand)\n",
    "    plt.title('Derivative of angular coordinate')\n",
    "    plt.subplot(515)\n",
    "    plt.plot(totpers_l)\n",
    "    plt.title('SWTP')\n",
    "    plt.tight_layout()    \n",
    "    # plt.show()\n",
    "\n",
    "    plt.savefig(make_path('plots','coil_swtp_summand_nlrome', '%s.png'%tairid))\n",
    "    plt.close()\n",
    "\n",
    "    continue\n",
    "\n",
    "        # plt.show()\n",
    "        # Detrend with daps\n",
    "    sf = detrend_timeseries(s, period)\n",
    "    cf = detrend_timeseries(c, period)\n",
    "\n",
    "    # print(.shape)\n",
    "\n",
    "    v1filt, v2filt = demodulate(s, c)\n",
    "    r = np.sqrt(s**2+c**2)\n",
    "    r = r/np.max(r)\n",
    "    rfilt = np.sqrt(v1filt**2+v2filt**2)\n",
    "    rfilt = rfilt/np.max(rfilt)\n",
    "\n",
    "    coil_est = estimate_coil_hmm(v1filt, v2filt)\n",
    "    print(get_hairpins(coil_est))   \n",
    "\n",
    "\n",
    "\n",
    "    plt.figure(figsize=(12, 8))\n",
    "    plt.subplot(611)\n",
    "    plt.plot(s)\n",
    "    plt.plot(c)\n",
    "    plt.title(\"Original\")\n",
    "    plt.subplot(612)\n",
    "    plt.plot(r)\n",
    "    plt.ylim([0, 1.1])\n",
    "    plt.title(\"Original radius\")\n",
    "    plt.subplot(613)\n",
    "    plt.plot(totpers_l)\n",
    "    plt.ylim([0, 1.1])\n",
    "    plt.title(\"SWTP\")\n",
    "    plt.subplot(614)\n",
    "    plt.plot(v1filt)\n",
    "    plt.plot(v2filt)\n",
    "    plt.title(\"Demodulated\")\n",
    "    plt.subplot(615)\n",
    "    plt.plot(rfilt)\n",
    "    plt.ylim([0, 1.1])\n",
    "    plt.title(\"Demodulated radius\")\n",
    "    plt.subplot(616)\n",
    "    plt.plot(coil_est)\n",
    "    plt.title(\"Coil Estimate\")\n",
    "    plt.tight_layout()    \n",
    "    plt.savefig(make_path('plots','hairpin_nlrome_demod', '%s.png'%tairid))\n",
    "    plt.close()\n",
    "\n",
    "    if False:\n",
    "        X=v[:, eig1:eig2+1]\n",
    "        windowSize = 25\n",
    "        totpers_l=[]\n",
    "        for windowStart in range(X.shape[0]- windowSize-1):\n",
    "            Y = X[windowStart:windowStart+windowSize,:]\n",
    "            stree = gd.AlphaComplex(points = Y).create_simplex_tree()\n",
    "            dgm = stree.persistence()\n",
    "            dgm1_lens = [d-b for (dim, (b, d)) in dgm if dim == 1]\n",
    "            dgmstat = sum(dgm1_lens)\n",
    "            # gd.plot_persistence_diagram(dgm, legend = True)\n",
    "            totpers_l.append(dgmstat)\n",
    "        plt.figure(figsize=(12, 6))\n",
    "        plt.plot(totpers_l)\n",
    "        plt.show()\n",
    "        plt.close()\n",
    "\n",
    "    \n",
    "    if False:\n",
    "        theta = np.arctan2(cf, sf)\n",
    "        plt.figure(figsize=(12, 4))\n",
    "        plt.plot(theta, label=f'{eig1}, {eig2}')\n",
    "        plt.show()\n",
    "        plt.close()\n",
    "\n",
    "\n",
    "\n"
   ]
  },
  {
   "cell_type": "code",
   "execution_count": null,
   "metadata": {},
   "outputs": [
    {
     "name": "stdout",
     "output_type": "stream",
     "text": [
      "[[0, 18], [50, 62], [205, 250]]\n",
      "[]\n",
      "[[0, 19]]\n",
      "[]\n",
      "[[108, 124]]\n",
      "[[0, 77]]\n",
      "[[0, 10], [219, 273]]\n",
      "[[0, 10], [137, 152]]\n",
      "[[0, 13]]\n",
      "[]\n",
      "[[0, 68], [378, 418]]\n",
      "[[0, 14], [47, 67], [333, 354]]\n",
      "[[220, 250], [279, 296]]\n",
      "[[0, 76], [325, 350]]\n",
      "[]\n",
      "[[230, 239], [286, 294]]\n",
      "[[0, 26], [68, 93], [318, 355]]\n",
      "[]\n",
      "[[0, 7]]\n",
      "[[0, 15]]\n",
      "[[0, 110], [209, 245], [474, 1073], [1117, 1138]]\n",
      "[]\n",
      "[[0, 24]]\n",
      "[[0, 23], [206, 254]]\n",
      "[[0, 102]]\n",
      "[[276, 285]]\n",
      "[[0, 51], [343, 369]]\n",
      "[[40, 59], [241, 255]]\n",
      "[[0, 48], [278, 308], [381, 438]]\n",
      "[[44, 64]]\n",
      "[]\n",
      "[[0, 24]]\n",
      "[[287, 294]]\n",
      "[[0, 13]]\n",
      "[[223, 261], [283, 301]]\n",
      "[[42, 68]]\n",
      "[[0, 70], [91, 111], [378, 400]]\n",
      "[[0, 51], [87, 104]]\n",
      "[[0, 49], [91, 108]]\n",
      "[[219, 240]]\n",
      "[[217, 241], [285, 293]]\n",
      "[[0, 19], [53, 77]]\n",
      "[[0, 5]]\n",
      "[[0, 20], [56, 82], [304, 335]]\n",
      "[[0, 47], [82, 99], [362, 385]]\n",
      "[[0, 87]]\n",
      "[[0, 5]]\n",
      "[[0, 70], [215, 229], [316, 330]]\n",
      "[[0, 10], [255, 262], [399, 432]]\n",
      "[[0, 76], [325, 350]]\n",
      "[[223, 257], [288, 303]]\n",
      "[[0, 20]]\n",
      "[[0, 5]]\n",
      "[[0, 7], [249, 257], [394, 419]]\n",
      "[[280, 287]]\n",
      "[[0, 29]]\n",
      "[[0, 26]]\n",
      "[[0, 14]]\n",
      "[[0, 5]]\n",
      "[]\n",
      "[[219, 240]]\n",
      "[[0, 103], [513, 544]]\n",
      "[[0, 40], [369, 422]]\n",
      "[[177, 191]]\n",
      "[]\n",
      "[[0, 46], [285, 298], [405, 426]]\n",
      "[]\n",
      "[[0, 12], [58, 73]]\n",
      "[[0, 11], [47, 67]]\n",
      "[[0, 10], [48, 67], [195, 244], [250, 267]]\n",
      "[[0, 46]]\n",
      "[]\n",
      "[[174, 189], [230, 248]]\n",
      "[[34, 54], [322, 340]]\n",
      "[[287, 294]]\n",
      "[[0, 24], [64, 89], [433, 467]]\n",
      "[[0, 103]]\n",
      "[[0, 27], [55, 69], [208, 247], [377, 405]]\n",
      "[[0, 69]]\n",
      "[[0, 102]]\n",
      "[[0, 37], [269, 297], [374, 384]]\n",
      "[[44, 63]]\n",
      "[[52, 105], [113, 131]]\n",
      "[[0, 27], [239, 257], [406, 417], [428, 456]]\n",
      "[[0, 7]]\n",
      "[[45, 62]]\n",
      "[[0, 47], [62, 71], [88, 104], [221, 315], [416, 424]]\n",
      "[[0, 62]]\n",
      "[[0, 55], [288, 317]]\n",
      "[[0, 9]]\n",
      "[[0, 76]]\n",
      "[[0, 142]]\n",
      "[[0, 34], [57, 81], [122, 215], [411, 489]]\n",
      "[[223, 257], [288, 303]]\n",
      "[[0, 6]]\n",
      "[[228, 243]]\n",
      "[]\n",
      "[[0, 101], [512, 543]]\n",
      "[[0, 150], [214, 250], [260, 311], [436, 444]]\n",
      "[[0, 17], [63, 76]]\n",
      "[[0, 76]]\n",
      "[[0, 70], [91, 111], [378, 400]]\n",
      "[[0, 26], [436, 503]]\n",
      "[[225, 248]]\n",
      "[[0, 52], [67, 81], [391, 434]]\n",
      "[[0, 33], [363, 385]]\n",
      "[[0, 13]]\n",
      "[[0, 68], [91, 111], [378, 400]]\n",
      "[[151, 166]]\n",
      "[[0, 84], [371, 404]]\n",
      "[]\n",
      "[[0, 7], [51, 69], [337, 359]]\n",
      "[[0, 9]]\n",
      "[[0, 63], [190, 582]]\n",
      "[[0, 41]]\n",
      "[[0, 55], [288, 317]]\n",
      "[[0, 51], [89, 113]]\n",
      "[[232, 239], [284, 300]]\n",
      "[[0, 63], [275, 373]]\n",
      "[[0, 103], [466, 529]]\n",
      "[[0, 40], [369, 422]]\n",
      "[[168, 187], [228, 241]]\n",
      "[]\n",
      "[[42, 57], [284, 294]]\n",
      "[[0, 103]]\n",
      "[]\n",
      "[[0, 30]]\n",
      "[[0, 88], [107, 133], [357, 392], [475, 581]]\n",
      "[[0, 80], [206, 254], [375, 628], [690, 1086]]\n",
      "[[221, 251], [278, 296]]\n",
      "[[42, 56], [283, 291]]\n",
      "[[0, 59]]\n",
      "[[0, 102]]\n",
      "[[0, 85], [185, 214], [229, 245], [525, 737]]\n",
      "[[0, 20], [55, 81]]\n",
      "[[0, 12], [46, 66], [335, 354]]\n",
      "[[0, 135]]\n",
      "[[0, 135]]\n",
      "[[0, 135]]\n",
      "[[0, 135]]\n"
     ]
    }
   ],
   "source": [
    "#generate eigenvector plots\n",
    "for tairid in matches_d.keys():\n",
    "    motifs_l = motifs_shifted_d[tairid]\n",
    "    period = avgper(motifs_shifted_d[tairid])\n",
    "\n",
    "    \n",
    "    # if tairid!='AT4G27190.1':\n",
    "        # continue\n",
    "    for eig1, eig2 in [(0,1)]:\n",
    "        v = np.load('npy/eigenmatrix_nlrome/%s.npy'%tairid)\n",
    "\n",
    "        # plt.figure(figsize=(12, 4))\n",
    "        s = v[:,eig1]\n",
    "        c = v[:,eig2]\n",
    "\n",
    "        # plt.show()\n",
    "        # Detrend with daps\n",
    "        sf = detrend_timeseries(s, period)\n",
    "        cf = detrend_timeseries(c, period)\n",
    "\n",
    "    # fig, (ax1, ax2) = plt.subplots(2, 1, sharex=True)\n",
    "    # ax1.plot(s, color='blue')\n",
    "    # ax1.plot(c, color='orange')\n",
    "    # ax2.plot(s**2+c**2, color='red')\n",
    "    # plt.subplots_adjust(hspace=0.4)\n",
    "\n",
    "    r = np.sqrt(s**2+c**2)\n",
    "    r = r/np.max(r)\n",
    "    coil_est = estimate_coil_hmm(s, c)\n",
    "    print(get_hairpins(coil_est))\n",
    "\n",
    "    plt.figure(figsize=(12, 6))\n",
    "    plt.subplot(311)\n",
    "    plt.plot(s)\n",
    "    plt.plot(c)\n",
    "    plt.title(\"Eigenvectors\")\n",
    "    plt.subplot(312)\n",
    "    plt.plot(r)\n",
    "    plt.title(\"Normalized radius\")\n",
    "    plt.subplot(313)\n",
    "    plt.plot(coil_est)\n",
    "    plt.title(\"Coil Estimate\")\n",
    "    plt.tight_layout()    \n",
    "    # plt.title(f\"Eigenvectors 0 and 1 for {tairid}\")\n",
    "\n",
    "    # plt.show()\n",
    "\n",
    "    plt.savefig(make_path('plots','hairpin_nlrome', '%s.png'%tairid))\n",
    "    \n",
    "    plt.close()"
   ]
  },
  {
   "cell_type": "code",
   "execution_count": null,
   "metadata": {},
   "outputs": [
    {
     "name": "stderr",
     "output_type": "stream",
     "text": [
      "/var/folders/m0/rpw4gcbn5lxd8_3kt7g699rc0000gn/T/ipykernel_61063/3778648476.py:10: RuntimeWarning: More than 20 figures have been opened. Figures created through the pyplot interface (`matplotlib.pyplot.figure`) are retained until explicitly closed and may consume too much memory. (To control this warning, see the rcParam `figure.max_open_warning`).\n",
      "  plt.figure(figsize=(12, 4))\n",
      "/var/folders/m0/rpw4gcbn5lxd8_3kt7g699rc0000gn/T/ipykernel_61063/3778648476.py:25: RuntimeWarning: More than 20 figures have been opened. Figures created through the pyplot interface (`matplotlib.pyplot.figure`) are retained until explicitly closed and may consume too much memory. (To control this warning, see the rcParam `figure.max_open_warning`).\n",
      "  plt.figure(figsize=(12, 6))\n",
      "/var/folders/m0/rpw4gcbn5lxd8_3kt7g699rc0000gn/T/ipykernel_61063/3778648476.py:41: RuntimeWarning: More than 20 figures have been opened. Figures created through the pyplot interface (`matplotlib.pyplot.figure`) are retained until explicitly closed and may consume too much memory. (To control this warning, see the rcParam `figure.max_open_warning`).\n",
      "  plt.figure(figsize=(12, 4))\n",
      "/var/folders/m0/rpw4gcbn5lxd8_3kt7g699rc0000gn/T/ipykernel_61063/3778648476.py:6: RuntimeWarning: More than 20 figures have been opened. Figures created through the pyplot interface (`matplotlib.pyplot.figure`) are retained until explicitly closed and may consume too much memory. (To control this warning, see the rcParam `figure.max_open_warning`).\n",
      "  plt.figure(figsize = (12,6))\n"
     ]
    },
    {
     "data": {
      "text/plain": [
       "<Figure size 1200x600 with 0 Axes>"
      ]
     },
     "metadata": {},
     "output_type": "display_data"
    },
    {
     "data": {
      "text/plain": [
       "<Figure size 1200x600 with 0 Axes>"
      ]
     },
     "metadata": {},
     "output_type": "display_data"
    },
    {
     "data": {
      "text/plain": [
       "<Figure size 1200x600 with 0 Axes>"
      ]
     },
     "metadata": {},
     "output_type": "display_data"
    },
    {
     "data": {
      "text/plain": [
       "<Figure size 1200x600 with 0 Axes>"
      ]
     },
     "metadata": {},
     "output_type": "display_data"
    },
    {
     "data": {
      "text/plain": [
       "<Figure size 1200x600 with 0 Axes>"
      ]
     },
     "metadata": {},
     "output_type": "display_data"
    },
    {
     "data": {
      "text/plain": [
       "<Figure size 1200x600 with 0 Axes>"
      ]
     },
     "metadata": {},
     "output_type": "display_data"
    },
    {
     "data": {
      "text/plain": [
       "<Figure size 1200x600 with 0 Axes>"
      ]
     },
     "metadata": {},
     "output_type": "display_data"
    },
    {
     "data": {
      "text/plain": [
       "<Figure size 1200x600 with 0 Axes>"
      ]
     },
     "metadata": {},
     "output_type": "display_data"
    },
    {
     "data": {
      "text/plain": [
       "<Figure size 1200x600 with 0 Axes>"
      ]
     },
     "metadata": {},
     "output_type": "display_data"
    },
    {
     "data": {
      "text/plain": [
       "<Figure size 1200x600 with 0 Axes>"
      ]
     },
     "metadata": {},
     "output_type": "display_data"
    },
    {
     "data": {
      "text/plain": [
       "<Figure size 1200x600 with 0 Axes>"
      ]
     },
     "metadata": {},
     "output_type": "display_data"
    },
    {
     "data": {
      "text/plain": [
       "<Figure size 1200x600 with 0 Axes>"
      ]
     },
     "metadata": {},
     "output_type": "display_data"
    },
    {
     "data": {
      "text/plain": [
       "<Figure size 1200x600 with 0 Axes>"
      ]
     },
     "metadata": {},
     "output_type": "display_data"
    },
    {
     "data": {
      "text/plain": [
       "<Figure size 1200x600 with 0 Axes>"
      ]
     },
     "metadata": {},
     "output_type": "display_data"
    },
    {
     "data": {
      "text/plain": [
       "<Figure size 1200x600 with 0 Axes>"
      ]
     },
     "metadata": {},
     "output_type": "display_data"
    },
    {
     "data": {
      "text/plain": [
       "<Figure size 1200x600 with 0 Axes>"
      ]
     },
     "metadata": {},
     "output_type": "display_data"
    },
    {
     "data": {
      "text/plain": [
       "<Figure size 1200x600 with 0 Axes>"
      ]
     },
     "metadata": {},
     "output_type": "display_data"
    },
    {
     "data": {
      "text/plain": [
       "<Figure size 1200x600 with 0 Axes>"
      ]
     },
     "metadata": {},
     "output_type": "display_data"
    },
    {
     "data": {
      "text/plain": [
       "<Figure size 1200x600 with 0 Axes>"
      ]
     },
     "metadata": {},
     "output_type": "display_data"
    },
    {
     "data": {
      "text/plain": [
       "<Figure size 1200x600 with 0 Axes>"
      ]
     },
     "metadata": {},
     "output_type": "display_data"
    },
    {
     "data": {
      "text/plain": [
       "<Figure size 1200x600 with 0 Axes>"
      ]
     },
     "metadata": {},
     "output_type": "display_data"
    },
    {
     "data": {
      "text/plain": [
       "<Figure size 1200x600 with 0 Axes>"
      ]
     },
     "metadata": {},
     "output_type": "display_data"
    },
    {
     "data": {
      "text/plain": [
       "<Figure size 1200x600 with 0 Axes>"
      ]
     },
     "metadata": {},
     "output_type": "display_data"
    },
    {
     "data": {
      "text/plain": [
       "<Figure size 1200x600 with 0 Axes>"
      ]
     },
     "metadata": {},
     "output_type": "display_data"
    },
    {
     "data": {
      "text/plain": [
       "<Figure size 1200x600 with 0 Axes>"
      ]
     },
     "metadata": {},
     "output_type": "display_data"
    },
    {
     "data": {
      "text/plain": [
       "<Figure size 1200x600 with 0 Axes>"
      ]
     },
     "metadata": {},
     "output_type": "display_data"
    },
    {
     "data": {
      "text/plain": [
       "<Figure size 1200x600 with 0 Axes>"
      ]
     },
     "metadata": {},
     "output_type": "display_data"
    },
    {
     "data": {
      "text/plain": [
       "<Figure size 1200x600 with 0 Axes>"
      ]
     },
     "metadata": {},
     "output_type": "display_data"
    },
    {
     "data": {
      "text/plain": [
       "<Figure size 1200x600 with 0 Axes>"
      ]
     },
     "metadata": {},
     "output_type": "display_data"
    },
    {
     "data": {
      "text/plain": [
       "<Figure size 1200x600 with 0 Axes>"
      ]
     },
     "metadata": {},
     "output_type": "display_data"
    },
    {
     "data": {
      "text/plain": [
       "<Figure size 1200x600 with 0 Axes>"
      ]
     },
     "metadata": {},
     "output_type": "display_data"
    },
    {
     "data": {
      "text/plain": [
       "<Figure size 1200x600 with 0 Axes>"
      ]
     },
     "metadata": {},
     "output_type": "display_data"
    },
    {
     "data": {
      "text/plain": [
       "<Figure size 1200x600 with 0 Axes>"
      ]
     },
     "metadata": {},
     "output_type": "display_data"
    },
    {
     "data": {
      "text/plain": [
       "<Figure size 1200x600 with 0 Axes>"
      ]
     },
     "metadata": {},
     "output_type": "display_data"
    },
    {
     "data": {
      "text/plain": [
       "<Figure size 1200x600 with 0 Axes>"
      ]
     },
     "metadata": {},
     "output_type": "display_data"
    },
    {
     "data": {
      "text/plain": [
       "<Figure size 1200x600 with 0 Axes>"
      ]
     },
     "metadata": {},
     "output_type": "display_data"
    },
    {
     "data": {
      "text/plain": [
       "<Figure size 1200x600 with 0 Axes>"
      ]
     },
     "metadata": {},
     "output_type": "display_data"
    },
    {
     "data": {
      "text/plain": [
       "<Figure size 1200x600 with 0 Axes>"
      ]
     },
     "metadata": {},
     "output_type": "display_data"
    },
    {
     "data": {
      "text/plain": [
       "<Figure size 1200x600 with 0 Axes>"
      ]
     },
     "metadata": {},
     "output_type": "display_data"
    },
    {
     "data": {
      "text/plain": [
       "<Figure size 1200x600 with 0 Axes>"
      ]
     },
     "metadata": {},
     "output_type": "display_data"
    },
    {
     "data": {
      "text/plain": [
       "<Figure size 1200x600 with 0 Axes>"
      ]
     },
     "metadata": {},
     "output_type": "display_data"
    },
    {
     "data": {
      "text/plain": [
       "<Figure size 1200x600 with 0 Axes>"
      ]
     },
     "metadata": {},
     "output_type": "display_data"
    },
    {
     "data": {
      "text/plain": [
       "<Figure size 1200x600 with 0 Axes>"
      ]
     },
     "metadata": {},
     "output_type": "display_data"
    },
    {
     "data": {
      "text/plain": [
       "<Figure size 1200x600 with 0 Axes>"
      ]
     },
     "metadata": {},
     "output_type": "display_data"
    },
    {
     "data": {
      "text/plain": [
       "<Figure size 1200x600 with 0 Axes>"
      ]
     },
     "metadata": {},
     "output_type": "display_data"
    },
    {
     "data": {
      "text/plain": [
       "<Figure size 1200x600 with 0 Axes>"
      ]
     },
     "metadata": {},
     "output_type": "display_data"
    },
    {
     "data": {
      "text/plain": [
       "<Figure size 1200x600 with 0 Axes>"
      ]
     },
     "metadata": {},
     "output_type": "display_data"
    },
    {
     "data": {
      "text/plain": [
       "<Figure size 1200x600 with 0 Axes>"
      ]
     },
     "metadata": {},
     "output_type": "display_data"
    },
    {
     "data": {
      "text/plain": [
       "<Figure size 1200x600 with 0 Axes>"
      ]
     },
     "metadata": {},
     "output_type": "display_data"
    },
    {
     "data": {
      "text/plain": [
       "<Figure size 1200x600 with 0 Axes>"
      ]
     },
     "metadata": {},
     "output_type": "display_data"
    },
    {
     "data": {
      "text/plain": [
       "<Figure size 1200x600 with 0 Axes>"
      ]
     },
     "metadata": {},
     "output_type": "display_data"
    },
    {
     "data": {
      "text/plain": [
       "<Figure size 1200x600 with 0 Axes>"
      ]
     },
     "metadata": {},
     "output_type": "display_data"
    },
    {
     "data": {
      "text/plain": [
       "<Figure size 1200x600 with 0 Axes>"
      ]
     },
     "metadata": {},
     "output_type": "display_data"
    },
    {
     "data": {
      "text/plain": [
       "<Figure size 1200x600 with 0 Axes>"
      ]
     },
     "metadata": {},
     "output_type": "display_data"
    },
    {
     "data": {
      "text/plain": [
       "<Figure size 1200x600 with 0 Axes>"
      ]
     },
     "metadata": {},
     "output_type": "display_data"
    },
    {
     "data": {
      "text/plain": [
       "<Figure size 1200x600 with 0 Axes>"
      ]
     },
     "metadata": {},
     "output_type": "display_data"
    },
    {
     "data": {
      "text/plain": [
       "<Figure size 1200x600 with 0 Axes>"
      ]
     },
     "metadata": {},
     "output_type": "display_data"
    },
    {
     "data": {
      "text/plain": [
       "<Figure size 1200x600 with 0 Axes>"
      ]
     },
     "metadata": {},
     "output_type": "display_data"
    },
    {
     "data": {
      "text/plain": [
       "<Figure size 1200x600 with 0 Axes>"
      ]
     },
     "metadata": {},
     "output_type": "display_data"
    },
    {
     "data": {
      "text/plain": [
       "<Figure size 1200x600 with 0 Axes>"
      ]
     },
     "metadata": {},
     "output_type": "display_data"
    },
    {
     "data": {
      "text/plain": [
       "<Figure size 1200x600 with 0 Axes>"
      ]
     },
     "metadata": {},
     "output_type": "display_data"
    },
    {
     "data": {
      "text/plain": [
       "<Figure size 1200x600 with 0 Axes>"
      ]
     },
     "metadata": {},
     "output_type": "display_data"
    },
    {
     "data": {
      "text/plain": [
       "<Figure size 1200x600 with 0 Axes>"
      ]
     },
     "metadata": {},
     "output_type": "display_data"
    },
    {
     "data": {
      "text/plain": [
       "<Figure size 1200x600 with 0 Axes>"
      ]
     },
     "metadata": {},
     "output_type": "display_data"
    },
    {
     "data": {
      "text/plain": [
       "<Figure size 1200x600 with 0 Axes>"
      ]
     },
     "metadata": {},
     "output_type": "display_data"
    },
    {
     "data": {
      "text/plain": [
       "<Figure size 1200x600 with 0 Axes>"
      ]
     },
     "metadata": {},
     "output_type": "display_data"
    },
    {
     "data": {
      "text/plain": [
       "<Figure size 1200x600 with 0 Axes>"
      ]
     },
     "metadata": {},
     "output_type": "display_data"
    },
    {
     "data": {
      "text/plain": [
       "<Figure size 1200x600 with 0 Axes>"
      ]
     },
     "metadata": {},
     "output_type": "display_data"
    },
    {
     "data": {
      "text/plain": [
       "<Figure size 1200x600 with 0 Axes>"
      ]
     },
     "metadata": {},
     "output_type": "display_data"
    },
    {
     "data": {
      "text/plain": [
       "<Figure size 1200x600 with 0 Axes>"
      ]
     },
     "metadata": {},
     "output_type": "display_data"
    },
    {
     "data": {
      "text/plain": [
       "<Figure size 1200x600 with 0 Axes>"
      ]
     },
     "metadata": {},
     "output_type": "display_data"
    },
    {
     "data": {
      "text/plain": [
       "<Figure size 1200x600 with 0 Axes>"
      ]
     },
     "metadata": {},
     "output_type": "display_data"
    },
    {
     "data": {
      "text/plain": [
       "<Figure size 1200x600 with 0 Axes>"
      ]
     },
     "metadata": {},
     "output_type": "display_data"
    },
    {
     "data": {
      "text/plain": [
       "<Figure size 1200x600 with 0 Axes>"
      ]
     },
     "metadata": {},
     "output_type": "display_data"
    },
    {
     "data": {
      "text/plain": [
       "<Figure size 1200x600 with 0 Axes>"
      ]
     },
     "metadata": {},
     "output_type": "display_data"
    },
    {
     "data": {
      "text/plain": [
       "<Figure size 1200x600 with 0 Axes>"
      ]
     },
     "metadata": {},
     "output_type": "display_data"
    },
    {
     "data": {
      "text/plain": [
       "<Figure size 1200x600 with 0 Axes>"
      ]
     },
     "metadata": {},
     "output_type": "display_data"
    },
    {
     "data": {
      "text/plain": [
       "<Figure size 1200x600 with 0 Axes>"
      ]
     },
     "metadata": {},
     "output_type": "display_data"
    },
    {
     "data": {
      "text/plain": [
       "<Figure size 1200x600 with 0 Axes>"
      ]
     },
     "metadata": {},
     "output_type": "display_data"
    },
    {
     "data": {
      "text/plain": [
       "<Figure size 1200x600 with 0 Axes>"
      ]
     },
     "metadata": {},
     "output_type": "display_data"
    },
    {
     "data": {
      "text/plain": [
       "<Figure size 1200x600 with 0 Axes>"
      ]
     },
     "metadata": {},
     "output_type": "display_data"
    },
    {
     "data": {
      "text/plain": [
       "<Figure size 1200x600 with 0 Axes>"
      ]
     },
     "metadata": {},
     "output_type": "display_data"
    },
    {
     "data": {
      "text/plain": [
       "<Figure size 1200x600 with 0 Axes>"
      ]
     },
     "metadata": {},
     "output_type": "display_data"
    },
    {
     "data": {
      "text/plain": [
       "<Figure size 1200x600 with 0 Axes>"
      ]
     },
     "metadata": {},
     "output_type": "display_data"
    },
    {
     "data": {
      "text/plain": [
       "<Figure size 1200x600 with 0 Axes>"
      ]
     },
     "metadata": {},
     "output_type": "display_data"
    },
    {
     "data": {
      "text/plain": [
       "<Figure size 1200x600 with 0 Axes>"
      ]
     },
     "metadata": {},
     "output_type": "display_data"
    },
    {
     "data": {
      "text/plain": [
       "<Figure size 1200x600 with 0 Axes>"
      ]
     },
     "metadata": {},
     "output_type": "display_data"
    },
    {
     "data": {
      "text/plain": [
       "<Figure size 1200x600 with 0 Axes>"
      ]
     },
     "metadata": {},
     "output_type": "display_data"
    },
    {
     "data": {
      "text/plain": [
       "<Figure size 1200x600 with 0 Axes>"
      ]
     },
     "metadata": {},
     "output_type": "display_data"
    },
    {
     "data": {
      "text/plain": [
       "<Figure size 1200x600 with 0 Axes>"
      ]
     },
     "metadata": {},
     "output_type": "display_data"
    },
    {
     "data": {
      "text/plain": [
       "<Figure size 1200x600 with 0 Axes>"
      ]
     },
     "metadata": {},
     "output_type": "display_data"
    },
    {
     "data": {
      "text/plain": [
       "<Figure size 1200x600 with 0 Axes>"
      ]
     },
     "metadata": {},
     "output_type": "display_data"
    },
    {
     "data": {
      "text/plain": [
       "<Figure size 1200x600 with 0 Axes>"
      ]
     },
     "metadata": {},
     "output_type": "display_data"
    },
    {
     "data": {
      "text/plain": [
       "<Figure size 1200x600 with 0 Axes>"
      ]
     },
     "metadata": {},
     "output_type": "display_data"
    },
    {
     "data": {
      "text/plain": [
       "<Figure size 1200x600 with 0 Axes>"
      ]
     },
     "metadata": {},
     "output_type": "display_data"
    },
    {
     "data": {
      "text/plain": [
       "<Figure size 1200x600 with 0 Axes>"
      ]
     },
     "metadata": {},
     "output_type": "display_data"
    },
    {
     "data": {
      "text/plain": [
       "<Figure size 1200x600 with 0 Axes>"
      ]
     },
     "metadata": {},
     "output_type": "display_data"
    },
    {
     "data": {
      "text/plain": [
       "<Figure size 1200x600 with 0 Axes>"
      ]
     },
     "metadata": {},
     "output_type": "display_data"
    },
    {
     "data": {
      "text/plain": [
       "<Figure size 1200x600 with 0 Axes>"
      ]
     },
     "metadata": {},
     "output_type": "display_data"
    },
    {
     "data": {
      "text/plain": [
       "<Figure size 1200x600 with 0 Axes>"
      ]
     },
     "metadata": {},
     "output_type": "display_data"
    },
    {
     "data": {
      "text/plain": [
       "<Figure size 1200x600 with 0 Axes>"
      ]
     },
     "metadata": {},
     "output_type": "display_data"
    },
    {
     "data": {
      "text/plain": [
       "<Figure size 1200x600 with 0 Axes>"
      ]
     },
     "metadata": {},
     "output_type": "display_data"
    },
    {
     "data": {
      "text/plain": [
       "<Figure size 1200x600 with 0 Axes>"
      ]
     },
     "metadata": {},
     "output_type": "display_data"
    },
    {
     "data": {
      "text/plain": [
       "<Figure size 1200x600 with 0 Axes>"
      ]
     },
     "metadata": {},
     "output_type": "display_data"
    },
    {
     "data": {
      "text/plain": [
       "<Figure size 1200x600 with 0 Axes>"
      ]
     },
     "metadata": {},
     "output_type": "display_data"
    },
    {
     "data": {
      "text/plain": [
       "<Figure size 1200x600 with 0 Axes>"
      ]
     },
     "metadata": {},
     "output_type": "display_data"
    },
    {
     "data": {
      "text/plain": [
       "<Figure size 1200x600 with 0 Axes>"
      ]
     },
     "metadata": {},
     "output_type": "display_data"
    },
    {
     "data": {
      "text/plain": [
       "<Figure size 1200x600 with 0 Axes>"
      ]
     },
     "metadata": {},
     "output_type": "display_data"
    },
    {
     "data": {
      "text/plain": [
       "<Figure size 1200x600 with 0 Axes>"
      ]
     },
     "metadata": {},
     "output_type": "display_data"
    },
    {
     "data": {
      "text/plain": [
       "<Figure size 1200x600 with 0 Axes>"
      ]
     },
     "metadata": {},
     "output_type": "display_data"
    },
    {
     "data": {
      "text/plain": [
       "<Figure size 1200x600 with 0 Axes>"
      ]
     },
     "metadata": {},
     "output_type": "display_data"
    },
    {
     "data": {
      "text/plain": [
       "<Figure size 1200x600 with 0 Axes>"
      ]
     },
     "metadata": {},
     "output_type": "display_data"
    },
    {
     "data": {
      "text/plain": [
       "<Figure size 1200x600 with 0 Axes>"
      ]
     },
     "metadata": {},
     "output_type": "display_data"
    },
    {
     "data": {
      "text/plain": [
       "<Figure size 1200x600 with 0 Axes>"
      ]
     },
     "metadata": {},
     "output_type": "display_data"
    },
    {
     "data": {
      "text/plain": [
       "<Figure size 1200x600 with 0 Axes>"
      ]
     },
     "metadata": {},
     "output_type": "display_data"
    },
    {
     "data": {
      "text/plain": [
       "<Figure size 1200x600 with 0 Axes>"
      ]
     },
     "metadata": {},
     "output_type": "display_data"
    },
    {
     "data": {
      "text/plain": [
       "<Figure size 1200x600 with 0 Axes>"
      ]
     },
     "metadata": {},
     "output_type": "display_data"
    },
    {
     "data": {
      "text/plain": [
       "<Figure size 1200x600 with 0 Axes>"
      ]
     },
     "metadata": {},
     "output_type": "display_data"
    },
    {
     "data": {
      "text/plain": [
       "<Figure size 1200x600 with 0 Axes>"
      ]
     },
     "metadata": {},
     "output_type": "display_data"
    },
    {
     "data": {
      "text/plain": [
       "<Figure size 1200x600 with 0 Axes>"
      ]
     },
     "metadata": {},
     "output_type": "display_data"
    },
    {
     "data": {
      "text/plain": [
       "<Figure size 1200x600 with 0 Axes>"
      ]
     },
     "metadata": {},
     "output_type": "display_data"
    },
    {
     "data": {
      "text/plain": [
       "<Figure size 1200x600 with 0 Axes>"
      ]
     },
     "metadata": {},
     "output_type": "display_data"
    },
    {
     "data": {
      "text/plain": [
       "<Figure size 1200x600 with 0 Axes>"
      ]
     },
     "metadata": {},
     "output_type": "display_data"
    },
    {
     "data": {
      "text/plain": [
       "<Figure size 1200x600 with 0 Axes>"
      ]
     },
     "metadata": {},
     "output_type": "display_data"
    },
    {
     "data": {
      "text/plain": [
       "<Figure size 1200x600 with 0 Axes>"
      ]
     },
     "metadata": {},
     "output_type": "display_data"
    },
    {
     "data": {
      "text/plain": [
       "<Figure size 1200x600 with 0 Axes>"
      ]
     },
     "metadata": {},
     "output_type": "display_data"
    },
    {
     "data": {
      "text/plain": [
       "<Figure size 1200x600 with 0 Axes>"
      ]
     },
     "metadata": {},
     "output_type": "display_data"
    }
   ],
   "source": [
    "#generate phase estimation plots\n",
    "for tairid, uniid in unique_matches_d.items():\n",
    "    motifs_l = motifs_shifted_d[tairid]\n",
    "    period = avgper(motifs_shifted_d[tairid])\n",
    "    \n",
    "    plt.figure(figsize = (12,6))\n",
    "    for eig1, eig2 in [(0,1)]:\n",
    "        v = np.load('npy/eigenmatrix_nlrome/%s.npy'%tairid)\n",
    "\n",
    "        plt.figure(figsize=(12, 4))\n",
    "        s = v[:,eig1]\n",
    "        c = v[:, eig2]\n",
    "   \n",
    "        plt.plot(s, label = '0')\n",
    "        plt.plot(c, label = '1')\n",
    "        plt.title('Leading eigenvector pair for protein %s'%uniid)\n",
    "        plt.legend()\n",
    "        plt.xlabel(\"Protein residue position\")\n",
    "        plt.savefig(make_path('plots','nlrome_eigplot', '%s.png'%tairid))\n",
    "\n",
    "        plt.close()\n",
    "        # Detrend with daps\n",
    "        sf = detrend_timeseries(s, period)\n",
    "        cf = detrend_timeseries(c, period)\n",
    "\n",
    "        plt.figure(figsize=(12, 6))\n",
    "        plt.subplot(121)\n",
    "        plt.plot(sf)\n",
    "        plt.plot(cf)\n",
    "        plt.title(\"Detrended leading eigenvectors\")\n",
    "        plt.subplot(122)\n",
    "        plt.title(\"Detrended Joint Plot for %s\"%uniid)\n",
    "        plt.xlabel('Eigenvector 0 value')\n",
    "        plt.ylabel('Eigenvector 1 value')\n",
    "        plt.plot(sf, cf)\n",
    "        plt.savefig(make_path('plots','joint_plot_nlrome', '%s.png'%tairid))\n",
    "        plt.close()\n",
    "\n",
    "        # Extract the final phase and plot\n",
    "\n",
    "        theta = np.arctan2(cf, sf)\n",
    "        plt.figure(figsize=(12, 4))\n",
    "        plt.plot(theta, label=f'{eig1}, {eig2}')\n",
    "\n",
    "        # phases = []\n",
    "        # for res in motifs_l:\n",
    "        #     if res in range(len(theta)):\n",
    "        #         plt.plot(res, theta[res], 'bo')\n",
    "        #         phases.append(theta[res])\n",
    "\n",
    "    plt.title(f\"Estimated phase for {uniid}\")\n",
    "    plt.ylabel('Angle')\n",
    "    plt.xlabel('Residue number')\n",
    "    plt.savefig(f'plots/phase_estimation_nomotif/{tairid}.png')\n",
    "        \n",
    "    plt.close()\n"
   ]
  },
  {
   "cell_type": "code",
   "execution_count": null,
   "metadata": {},
   "outputs": [
    {
     "data": {
      "text/plain": [
       "[54, 84, 106, 129, 152, 175, 196, 237, 261, 284, 305, 325, 347]"
      ]
     },
     "execution_count": 10,
     "metadata": {},
     "output_type": "execute_result"
    }
   ],
   "source": [
    "motifs_l"
   ]
  },
  {
   "cell_type": "code",
   "execution_count": null,
   "metadata": {},
   "outputs": [
    {
     "data": {
      "text/plain": [
       "370"
      ]
     },
     "execution_count": 18,
     "metadata": {},
     "output_type": "execute_result"
    }
   ],
   "source": [
    "cutoff_d[tairid]"
   ]
  },
  {
   "cell_type": "code",
   "execution_count": null,
   "metadata": {},
   "outputs": [
    {
     "data": {
      "text/plain": [
       "[<matplotlib.lines.Line2D at 0x7fb9d17a2cd0>]"
      ]
     },
     "execution_count": 11,
     "metadata": {},
     "output_type": "execute_result"
    },
    {
     "data": {
      "image/png": "[encoded data removed]",
      "text/plain": [
       "<Figure size 640x480 with 1 Axes>"
      ]
     },
     "metadata": {},
     "output_type": "display_data"
    }
   ],
   "source": [
    "plt.plot(x, y)"
   ]
  },
  {
   "cell_type": "code",
   "execution_count": null,
   "metadata": {},
   "outputs": [
    {
     "name": "stdout",
     "output_type": "stream",
     "text": [
      "0 247\n"
     ]
    },
    {
     "ename": "FileNotFoundError",
     "evalue": "[Errno 2] No such file or directory: 'swtp/AT5G45050.1.png'",
     "output_type": "error",
     "traceback": [
      "\u001b[0;31m---------------------------------------------------------------------------\u001b[0m",
      "\u001b[0;31mFileNotFoundError\u001b[0m                         Traceback (most recent call last)",
      "\u001b[0;32m/var/folders/m0/rpw4gcbn5lxd8_3kt7g699rc0000gn/T/ipykernel_35416/679647914.py\u001b[0m in \u001b[0;36m<module>\u001b[0;34m\u001b[0m\n\u001b[1;32m     22\u001b[0m     \u001b[0mplt\u001b[0m\u001b[0;34m.\u001b[0m\u001b[0maxvline\u001b[0m\u001b[0;34m(\u001b[0m\u001b[0ma\u001b[0m\u001b[0;34m,\u001b[0m \u001b[0mcolor\u001b[0m \u001b[0;34m=\u001b[0m \u001b[0;34m'r'\u001b[0m\u001b[0;34m)\u001b[0m\u001b[0;34m\u001b[0m\u001b[0;34m\u001b[0m\u001b[0m\n\u001b[1;32m     23\u001b[0m     \u001b[0mplt\u001b[0m\u001b[0;34m.\u001b[0m\u001b[0maxvline\u001b[0m\u001b[0;34m(\u001b[0m\u001b[0mb\u001b[0m\u001b[0;34m,\u001b[0m \u001b[0mcolor\u001b[0m \u001b[0;34m=\u001b[0m \u001b[0;34m'r'\u001b[0m\u001b[0;34m)\u001b[0m\u001b[0;34m\u001b[0m\u001b[0;34m\u001b[0m\u001b[0m\n\u001b[0;32m---> 24\u001b[0;31m     \u001b[0mplt\u001b[0m\u001b[0;34m.\u001b[0m\u001b[0msavefig\u001b[0m\u001b[0;34m(\u001b[0m\u001b[0;34m'swtp/%s.png'\u001b[0m\u001b[0;34m%\u001b[0m\u001b[0mtairid\u001b[0m\u001b[0;34m)\u001b[0m\u001b[0;34m\u001b[0m\u001b[0;34m\u001b[0m\u001b[0m\n\u001b[0m",
      "\u001b[0;32m~/opt/anaconda3/lib/python3.9/site-packages/matplotlib/pyplot.py\u001b[0m in \u001b[0;36msavefig\u001b[0;34m(*args, **kwargs)\u001b[0m\n\u001b[1;32m    977\u001b[0m \u001b[0;32mdef\u001b[0m \u001b[0msavefig\u001b[0m\u001b[0;34m(\u001b[0m\u001b[0;34m*\u001b[0m\u001b[0margs\u001b[0m\u001b[0;34m,\u001b[0m \u001b[0;34m**\u001b[0m\u001b[0mkwargs\u001b[0m\u001b[0;34m)\u001b[0m\u001b[0;34m:\u001b[0m\u001b[0;34m\u001b[0m\u001b[0;34m\u001b[0m\u001b[0m\n\u001b[1;32m    978\u001b[0m     \u001b[0mfig\u001b[0m \u001b[0;34m=\u001b[0m \u001b[0mgcf\u001b[0m\u001b[0;34m(\u001b[0m\u001b[0;34m)\u001b[0m\u001b[0;34m\u001b[0m\u001b[0;34m\u001b[0m\u001b[0m\n\u001b[0;32m--> 979\u001b[0;31m     \u001b[0mres\u001b[0m \u001b[0;34m=\u001b[0m \u001b[0mfig\u001b[0m\u001b[0;34m.\u001b[0m\u001b[0msavefig\u001b[0m\u001b[0;34m(\u001b[0m\u001b[0;34m*\u001b[0m\u001b[0margs\u001b[0m\u001b[0;34m,\u001b[0m \u001b[0;34m**\u001b[0m\u001b[0mkwargs\u001b[0m\u001b[0;34m)\u001b[0m\u001b[0;34m\u001b[0m\u001b[0;34m\u001b[0m\u001b[0m\n\u001b[0m\u001b[1;32m    980\u001b[0m     \u001b[0mfig\u001b[0m\u001b[0;34m.\u001b[0m\u001b[0mcanvas\u001b[0m\u001b[0;34m.\u001b[0m\u001b[0mdraw_idle\u001b[0m\u001b[0;34m(\u001b[0m\u001b[0;34m)\u001b[0m   \u001b[0;31m# need this if 'transparent=True' to reset colors\u001b[0m\u001b[0;34m\u001b[0m\u001b[0;34m\u001b[0m\u001b[0m\n\u001b[1;32m    981\u001b[0m     \u001b[0;32mreturn\u001b[0m \u001b[0mres\u001b[0m\u001b[0;34m\u001b[0m\u001b[0;34m\u001b[0m\u001b[0m\n",
      "\u001b[0;32m~/opt/anaconda3/lib/python3.9/site-packages/matplotlib/figure.py\u001b[0m in \u001b[0;36msavefig\u001b[0;34m(self, fname, transparent, **kwargs)\u001b[0m\n\u001b[1;32m   3044\u001b[0m                         ax.patch._cm_set(facecolor='none', edgecolor='none'))\n\u001b[1;32m   3045\u001b[0m \u001b[0;34m\u001b[0m\u001b[0m\n\u001b[0;32m-> 3046\u001b[0;31m             \u001b[0mself\u001b[0m\u001b[0;34m.\u001b[0m\u001b[0mcanvas\u001b[0m\u001b[0;34m.\u001b[0m\u001b[0mprint_figure\u001b[0m\u001b[0;34m(\u001b[0m\u001b[0mfname\u001b[0m\u001b[0;34m,\u001b[0m \u001b[0;34m**\u001b[0m\u001b[0mkwargs\u001b[0m\u001b[0;34m)\u001b[0m\u001b[0;34m\u001b[0m\u001b[0;34m\u001b[0m\u001b[0m\n\u001b[0m\u001b[1;32m   3047\u001b[0m \u001b[0;34m\u001b[0m\u001b[0m\n\u001b[1;32m   3048\u001b[0m     def ginput(self, n=1, timeout=30, show_clicks=True,\n",
      "\u001b[0;32m~/opt/anaconda3/lib/python3.9/site-packages/matplotlib/backend_bases.py\u001b[0m in \u001b[0;36mprint_figure\u001b[0;34m(self, filename, dpi, facecolor, edgecolor, orientation, format, bbox_inches, pad_inches, bbox_extra_artists, backend, **kwargs)\u001b[0m\n\u001b[1;32m   2317\u001b[0m                 \u001b[0;31m# force the figure dpi to 72), so we need to set it again here.\u001b[0m\u001b[0;34m\u001b[0m\u001b[0;34m\u001b[0m\u001b[0m\n\u001b[1;32m   2318\u001b[0m                 \u001b[0;32mwith\u001b[0m \u001b[0mcbook\u001b[0m\u001b[0;34m.\u001b[0m\u001b[0m_setattr_cm\u001b[0m\u001b[0;34m(\u001b[0m\u001b[0mself\u001b[0m\u001b[0;34m.\u001b[0m\u001b[0mfigure\u001b[0m\u001b[0;34m,\u001b[0m \u001b[0mdpi\u001b[0m\u001b[0;34m=\u001b[0m\u001b[0mdpi\u001b[0m\u001b[0;34m)\u001b[0m\u001b[0;34m:\u001b[0m\u001b[0;34m\u001b[0m\u001b[0;34m\u001b[0m\u001b[0m\n\u001b[0;32m-> 2319\u001b[0;31m                     result = print_method(\n\u001b[0m\u001b[1;32m   2320\u001b[0m                         \u001b[0mfilename\u001b[0m\u001b[0;34m,\u001b[0m\u001b[0;34m\u001b[0m\u001b[0;34m\u001b[0m\u001b[0m\n\u001b[1;32m   2321\u001b[0m                         \u001b[0mfacecolor\u001b[0m\u001b[0;34m=\u001b[0m\u001b[0mfacecolor\u001b[0m\u001b[0;34m,\u001b[0m\u001b[0;34m\u001b[0m\u001b[0;34m\u001b[0m\u001b[0m\n",
      "\u001b[0;32m~/opt/anaconda3/lib/python3.9/site-packages/matplotlib/backend_bases.py\u001b[0m in \u001b[0;36mwrapper\u001b[0;34m(*args, **kwargs)\u001b[0m\n\u001b[1;32m   1646\u001b[0m             \u001b[0mkwargs\u001b[0m\u001b[0;34m.\u001b[0m\u001b[0mpop\u001b[0m\u001b[0;34m(\u001b[0m\u001b[0marg\u001b[0m\u001b[0;34m)\u001b[0m\u001b[0;34m\u001b[0m\u001b[0;34m\u001b[0m\u001b[0m\n\u001b[1;32m   1647\u001b[0m \u001b[0;34m\u001b[0m\u001b[0m\n\u001b[0;32m-> 1648\u001b[0;31m         \u001b[0;32mreturn\u001b[0m \u001b[0mfunc\u001b[0m\u001b[0;34m(\u001b[0m\u001b[0;34m*\u001b[0m\u001b[0margs\u001b[0m\u001b[0;34m,\u001b[0m \u001b[0;34m**\u001b[0m\u001b[0mkwargs\u001b[0m\u001b[0;34m)\u001b[0m\u001b[0;34m\u001b[0m\u001b[0;34m\u001b[0m\u001b[0m\n\u001b[0m\u001b[1;32m   1649\u001b[0m \u001b[0;34m\u001b[0m\u001b[0m\n\u001b[1;32m   1650\u001b[0m     \u001b[0;32mreturn\u001b[0m \u001b[0mwrapper\u001b[0m\u001b[0;34m\u001b[0m\u001b[0;34m\u001b[0m\u001b[0m\n",
      "\u001b[0;32m~/opt/anaconda3/lib/python3.9/site-packages/matplotlib/_api/deprecation.py\u001b[0m in \u001b[0;36mwrapper\u001b[0;34m(*inner_args, **inner_kwargs)\u001b[0m\n\u001b[1;32m    413\u001b[0m                          \u001b[0;32melse\u001b[0m \u001b[0mdeprecation_addendum\u001b[0m\u001b[0;34m,\u001b[0m\u001b[0;34m\u001b[0m\u001b[0;34m\u001b[0m\u001b[0m\n\u001b[1;32m    414\u001b[0m                 **kwargs)\n\u001b[0;32m--> 415\u001b[0;31m         \u001b[0;32mreturn\u001b[0m \u001b[0mfunc\u001b[0m\u001b[0;34m(\u001b[0m\u001b[0;34m*\u001b[0m\u001b[0minner_args\u001b[0m\u001b[0;34m,\u001b[0m \u001b[0;34m**\u001b[0m\u001b[0minner_kwargs\u001b[0m\u001b[0;34m)\u001b[0m\u001b[0;34m\u001b[0m\u001b[0;34m\u001b[0m\u001b[0m\n\u001b[0m\u001b[1;32m    416\u001b[0m \u001b[0;34m\u001b[0m\u001b[0m\n\u001b[1;32m    417\u001b[0m     \u001b[0mDECORATORS\u001b[0m\u001b[0;34m[\u001b[0m\u001b[0mwrapper\u001b[0m\u001b[0;34m]\u001b[0m \u001b[0;34m=\u001b[0m \u001b[0mdecorator\u001b[0m\u001b[0;34m\u001b[0m\u001b[0;34m\u001b[0m\u001b[0m\n",
      "\u001b[0;32m~/opt/anaconda3/lib/python3.9/site-packages/matplotlib/backends/backend_agg.py\u001b[0m in \u001b[0;36mprint_png\u001b[0;34m(self, filename_or_obj, metadata, pil_kwargs, *args)\u001b[0m\n\u001b[1;32m    539\u001b[0m         \"\"\"\n\u001b[1;32m    540\u001b[0m         \u001b[0mFigureCanvasAgg\u001b[0m\u001b[0;34m.\u001b[0m\u001b[0mdraw\u001b[0m\u001b[0;34m(\u001b[0m\u001b[0mself\u001b[0m\u001b[0;34m)\u001b[0m\u001b[0;34m\u001b[0m\u001b[0;34m\u001b[0m\u001b[0m\n\u001b[0;32m--> 541\u001b[0;31m         mpl.image.imsave(\n\u001b[0m\u001b[1;32m    542\u001b[0m             \u001b[0mfilename_or_obj\u001b[0m\u001b[0;34m,\u001b[0m \u001b[0mself\u001b[0m\u001b[0;34m.\u001b[0m\u001b[0mbuffer_rgba\u001b[0m\u001b[0;34m(\u001b[0m\u001b[0;34m)\u001b[0m\u001b[0;34m,\u001b[0m \u001b[0mformat\u001b[0m\u001b[0;34m=\u001b[0m\u001b[0;34m\"png\"\u001b[0m\u001b[0;34m,\u001b[0m \u001b[0morigin\u001b[0m\u001b[0;34m=\u001b[0m\u001b[0;34m\"upper\"\u001b[0m\u001b[0;34m,\u001b[0m\u001b[0;34m\u001b[0m\u001b[0;34m\u001b[0m\u001b[0m\n\u001b[1;32m    543\u001b[0m             dpi=self.figure.dpi, metadata=metadata, pil_kwargs=pil_kwargs)\n",
      "\u001b[0;32m~/opt/anaconda3/lib/python3.9/site-packages/matplotlib/image.py\u001b[0m in \u001b[0;36mimsave\u001b[0;34m(fname, arr, vmin, vmax, cmap, format, origin, dpi, metadata, pil_kwargs)\u001b[0m\n\u001b[1;32m   1673\u001b[0m         \u001b[0mpil_kwargs\u001b[0m\u001b[0;34m.\u001b[0m\u001b[0msetdefault\u001b[0m\u001b[0;34m(\u001b[0m\u001b[0;34m\"format\"\u001b[0m\u001b[0;34m,\u001b[0m \u001b[0mformat\u001b[0m\u001b[0;34m)\u001b[0m\u001b[0;34m\u001b[0m\u001b[0;34m\u001b[0m\u001b[0m\n\u001b[1;32m   1674\u001b[0m         \u001b[0mpil_kwargs\u001b[0m\u001b[0;34m.\u001b[0m\u001b[0msetdefault\u001b[0m\u001b[0;34m(\u001b[0m\u001b[0;34m\"dpi\"\u001b[0m\u001b[0;34m,\u001b[0m \u001b[0;34m(\u001b[0m\u001b[0mdpi\u001b[0m\u001b[0;34m,\u001b[0m \u001b[0mdpi\u001b[0m\u001b[0;34m)\u001b[0m\u001b[0;34m)\u001b[0m\u001b[0;34m\u001b[0m\u001b[0;34m\u001b[0m\u001b[0m\n\u001b[0;32m-> 1675\u001b[0;31m         \u001b[0mimage\u001b[0m\u001b[0;34m.\u001b[0m\u001b[0msave\u001b[0m\u001b[0;34m(\u001b[0m\u001b[0mfname\u001b[0m\u001b[0;34m,\u001b[0m \u001b[0;34m**\u001b[0m\u001b[0mpil_kwargs\u001b[0m\u001b[0;34m)\u001b[0m\u001b[0;34m\u001b[0m\u001b[0;34m\u001b[0m\u001b[0m\n\u001b[0m\u001b[1;32m   1676\u001b[0m \u001b[0;34m\u001b[0m\u001b[0m\n\u001b[1;32m   1677\u001b[0m \u001b[0;34m\u001b[0m\u001b[0m\n",
      "\u001b[0;32m~/opt/anaconda3/lib/python3.9/site-packages/PIL/Image.py\u001b[0m in \u001b[0;36msave\u001b[0;34m(self, fp, format, **params)\u001b[0m\n\u001b[1;32m   2315\u001b[0m                 \u001b[0mfp\u001b[0m \u001b[0;34m=\u001b[0m \u001b[0mbuiltins\u001b[0m\u001b[0;34m.\u001b[0m\u001b[0mopen\u001b[0m\u001b[0;34m(\u001b[0m\u001b[0mfilename\u001b[0m\u001b[0;34m,\u001b[0m \u001b[0;34m\"r+b\"\u001b[0m\u001b[0;34m)\u001b[0m\u001b[0;34m\u001b[0m\u001b[0;34m\u001b[0m\u001b[0m\n\u001b[1;32m   2316\u001b[0m             \u001b[0;32melse\u001b[0m\u001b[0;34m:\u001b[0m\u001b[0;34m\u001b[0m\u001b[0;34m\u001b[0m\u001b[0m\n\u001b[0;32m-> 2317\u001b[0;31m                 \u001b[0mfp\u001b[0m \u001b[0;34m=\u001b[0m \u001b[0mbuiltins\u001b[0m\u001b[0;34m.\u001b[0m\u001b[0mopen\u001b[0m\u001b[0;34m(\u001b[0m\u001b[0mfilename\u001b[0m\u001b[0;34m,\u001b[0m \u001b[0;34m\"w+b\"\u001b[0m\u001b[0;34m)\u001b[0m\u001b[0;34m\u001b[0m\u001b[0;34m\u001b[0m\u001b[0m\n\u001b[0m\u001b[1;32m   2318\u001b[0m \u001b[0;34m\u001b[0m\u001b[0m\n\u001b[1;32m   2319\u001b[0m         \u001b[0;32mtry\u001b[0m\u001b[0;34m:\u001b[0m\u001b[0;34m\u001b[0m\u001b[0;34m\u001b[0m\u001b[0m\n",
      "\u001b[0;31mFileNotFoundError\u001b[0m: [Errno 2] No such file or directory: 'swtp/AT5G45050.1.png'"
     ]
    },
    {
     "data": {
      "image/png": "[encoded data removed]",
      "text/plain": [
       "<Figure size 640x480 with 1 Axes>"
      ]
     },
     "metadata": {},
     "output_type": "display_data"
    }
   ],
   "source": [
    "g = gaussian_filter1d(swtp, 15)\n",
    "g = g-np.min(g)\n",
    "\n",
    "g = g/np.quantile(g, .95)\n",
    "N= g.shape[0]\n",
    "\n",
    "mins = []\n",
    "argmins = []\n",
    "for a in range(int(.2*N)):\n",
    "    def f(x):\n",
    "        return np.sum(np.array([g[ii] - 1 if a < ii < x else g[ii] for ii in range(N)])**2)\n",
    "    res = minimize_scalar(f, bounds = (a, N), method='bounded')\n",
    "    mins.append(res.fun)\n",
    "    argmins.append(int(res.x))\n",
    "\n",
    "a = np.argmin(mins)\n",
    "b = argmins[a]\n",
    "print(a,b)\n",
    "\n",
    "plt.plot(g)\n",
    "plt.axvline(a, color = 'r')\n",
    "plt.axvline(b, color = 'r')\n",
    "plt.savefig(make_path('plots','swtp', '%s.png'%tairid))\n",
    "plt.close()"
   ]
  },
  {
   "cell_type": "code",
   "execution_count": null,
   "metadata": {},
   "outputs": [
    {
     "data": {
      "text/plain": [
       "[671,\n",
       " 671,\n",
       " 671,\n",
       " 671,\n",
       " 671,\n",
       " 671,\n",
       " 671,\n",
       " 670,\n",
       " 670,\n",
       " 670,\n",
       " 671,\n",
       " 671,\n",
       " 670,\n",
       " 670,\n",
       " 670,\n",
       " 671,\n",
       " 671,\n",
       " 671,\n",
       " 671,\n",
       " 671,\n",
       " 671,\n",
       " 670,\n",
       " 671,\n",
       " 671,\n",
       " 671,\n",
       " 671,\n",
       " 671,\n",
       " 670,\n",
       " 670,\n",
       " 671,\n",
       " 670,\n",
       " 671,\n",
       " 671,\n",
       " 671,\n",
       " 671,\n",
       " 670,\n",
       " 671,\n",
       " 671,\n",
       " 671,\n",
       " 671,\n",
       " 671,\n",
       " 671,\n",
       " 671,\n",
       " 670,\n",
       " 670,\n",
       " 670,\n",
       " 671,\n",
       " 671,\n",
       " 670,\n",
       " 671,\n",
       " 671,\n",
       " 671,\n",
       " 671,\n",
       " 671,\n",
       " 671,\n",
       " 670,\n",
       " 671,\n",
       " 671,\n",
       " 671,\n",
       " 670,\n",
       " 671,\n",
       " 671,\n",
       " 671,\n",
       " 671,\n",
       " 670,\n",
       " 671,\n",
       " 671,\n",
       " 671,\n",
       " 671,\n",
       " 670,\n",
       " 671,\n",
       " 671,\n",
       " 671,\n",
       " 671,\n",
       " 671,\n",
       " 671,\n",
       " 671,\n",
       " 671,\n",
       " 671,\n",
       " 671,\n",
       " 671,\n",
       " 684,\n",
       " 671,\n",
       " 670,\n",
       " 685,\n",
       " 671,\n",
       " 671,\n",
       " 670,\n",
       " 670,\n",
       " 671,\n",
       " 670,\n",
       " 670,\n",
       " 671,\n",
       " 671,\n",
       " 670,\n",
       " 671,\n",
       " 671,\n",
       " 670,\n",
       " 670,\n",
       " 670,\n",
       " 670,\n",
       " 671,\n",
       " 671,\n",
       " 671,\n",
       " 671,\n",
       " 670,\n",
       " 671,\n",
       " 671,\n",
       " 671,\n",
       " 671,\n",
       " 671,\n",
       " 671,\n",
       " 671,\n",
       " 671,\n",
       " 671,\n",
       " 671,\n",
       " 671,\n",
       " 671,\n",
       " 671,\n",
       " 671,\n",
       " 671,\n",
       " 671,\n",
       " 671,\n",
       " 671,\n",
       " 671,\n",
       " 671,\n",
       " 671,\n",
       " 671,\n",
       " 671,\n",
       " 671,\n",
       " 672,\n",
       " 671,\n",
       " 671,\n",
       " 671,\n",
       " 672,\n",
       " 671,\n",
       " 671,\n",
       " 671,\n",
       " 670,\n",
       " 693,\n",
       " 671,\n",
       " 671,\n",
       " 671,\n",
       " 671,\n",
       " 671,\n",
       " 671,\n",
       " 671,\n",
       " 671,\n",
       " 671,\n",
       " 671,\n",
       " 670,\n",
       " 671,\n",
       " 671,\n",
       " 671,\n",
       " 670,\n",
       " 671,\n",
       " 671]"
      ]
     },
     "execution_count": 37,
     "metadata": {},
     "output_type": "execute_result"
    }
   ],
   "source": [
    "argmins"
   ]
  },
  {
   "cell_type": "code",
   "execution_count": null,
   "metadata": {},
   "outputs": [
    {
     "name": "stdout",
     "output_type": "stream",
     "text": [
      "0 671\n"
     ]
    },
    {
     "data": {
      "text/plain": [
       "<matplotlib.lines.Line2D at 0x7f7dc0956be0>"
      ]
     },
     "execution_count": 39,
     "metadata": {},
     "output_type": "execute_result"
    },
    {
     "data": {
      "image/png": "[encoded data removed]",
      "text/plain": [
       "<Figure size 640x480 with 1 Axes>"
      ]
     },
     "metadata": {},
     "output_type": "display_data"
    }
   ],
   "source": []
  },
  {
   "cell_type": "code",
   "execution_count": null,
   "metadata": {},
   "outputs": [
    {
     "data": {
      "text/plain": [
       "[<matplotlib.lines.Line2D at 0x7f7d80fd0f40>]"
      ]
     },
     "execution_count": 35,
     "metadata": {},
     "output_type": "execute_result"
    },
    {
     "data": {
      "image/png": "[encoded data removed]",
      "text/plain": [
       "<Figure size 640x480 with 1 Axes>"
      ]
     },
     "metadata": {},
     "output_type": "display_data"
    }
   ],
   "source": [
    "plt.plot(mins)"
   ]
  },
  {
   "cell_type": "code",
   "execution_count": null,
   "metadata": {},
   "outputs": [
    {
     "name": "stdout",
     "output_type": "stream",
     "text": [
      "[400.00000881]\n"
     ]
    },
    {
     "data": {
      "text/plain": [
       "<matplotlib.lines.Line2D at 0x7f9a88b13160>"
      ]
     },
     "execution_count": 11,
     "metadata": {},
     "output_type": "execute_result"
    },
    {
     "data": {
      "image/png": "[encoded data removed]",
      "text/plain": [
       "<Figure size 640x480 with 1 Axes>"
      ]
     },
     "metadata": {},
     "output_type": "display_data"
    }
   ],
   "source": [
    "from scipy.optimize import minimize\n",
    "\n",
    "swtp = gaussian_filter1d(totpers_d['AT1G69550.1'], 15)\n",
    "\n",
    "def f(x):\n",
    "    return np.sum(np.array([swtp[ii] - 40 if ii<x[0] else swtp[ii] for ii in range(swtp.shape[0])])**2)\n",
    "\n",
    "res_1 = minimize(f, [400], bounds = [(0, len(swtp))])\n",
    "\n",
    "a = res_1.x[0]\n",
    "print(res_1.x)\n",
    "plt.plot(swtp)\n",
    "plt.axvline(a, color = 'r')"
   ]
  },
  {
   "cell_type": "code",
   "execution_count": null,
   "metadata": {},
   "outputs": [
    {
     "data": {
      "text/plain": [
       "     fun: 48098.04667267787\n",
       " message: 'Solution found.'\n",
       "    nfev: 28\n",
       "     nit: 28\n",
       "  status: 0\n",
       " success: True\n",
       "       x: 675.5420087357162"
      ]
     },
     "execution_count": 54,
     "metadata": {},
     "output_type": "execute_result"
    }
   ],
   "source": [
    "def f(x):\n",
    "    return np.sum(np.array([swtp[ii] - 40 if ii<x else swtp[ii] for ii in range(swtp.shape[0])])**2)\n",
    "\n",
    "res = minimize_scalar(f, bounds = (0, len(swtp)), method='bounded')"
   ]
  },
  {
   "cell_type": "code",
   "execution_count": null,
   "metadata": {},
   "outputs": [
    {
     "ename": "TypeError",
     "evalue": "unsupported operand type(s) for ** or pow(): 'list' and 'int'",
     "output_type": "error",
     "traceback": [
      "\u001b[0;31m---------------------------------------------------------------------------\u001b[0m",
      "\u001b[0;31mTypeError\u001b[0m                                 Traceback (most recent call last)",
      "\u001b[0;32m/var/folders/m0/rpw4gcbn5lxd8_3kt7g699rc0000gn/T/ipykernel_39275/1975076694.py\u001b[0m in \u001b[0;36m<module>\u001b[0;34m\u001b[0m\n\u001b[0;32m----> 1\u001b[0;31m \u001b[0mf\u001b[0m\u001b[0;34m(\u001b[0m\u001b[0;36m400\u001b[0m\u001b[0;34m)\u001b[0m\u001b[0;34m\u001b[0m\u001b[0;34m\u001b[0m\u001b[0m\n\u001b[0m",
      "\u001b[0;32m/var/folders/m0/rpw4gcbn5lxd8_3kt7g699rc0000gn/T/ipykernel_39275/3719665102.py\u001b[0m in \u001b[0;36mf\u001b[0;34m(x)\u001b[0m\n\u001b[1;32m      2\u001b[0m \u001b[0;34m\u001b[0m\u001b[0m\n\u001b[1;32m      3\u001b[0m \u001b[0;32mdef\u001b[0m \u001b[0mf\u001b[0m\u001b[0;34m(\u001b[0m\u001b[0mx\u001b[0m\u001b[0;34m)\u001b[0m\u001b[0;34m:\u001b[0m\u001b[0;34m\u001b[0m\u001b[0;34m\u001b[0m\u001b[0m\n\u001b[0;32m----> 4\u001b[0;31m     \u001b[0;32mreturn\u001b[0m \u001b[0mnp\u001b[0m\u001b[0;34m.\u001b[0m\u001b[0msum\u001b[0m\u001b[0;34m(\u001b[0m\u001b[0;34m[\u001b[0m\u001b[0mswtp\u001b[0m\u001b[0;34m[\u001b[0m\u001b[0mii\u001b[0m\u001b[0;34m]\u001b[0m \u001b[0;34m-\u001b[0m \u001b[0;36m40\u001b[0m \u001b[0;32mif\u001b[0m \u001b[0mii\u001b[0m\u001b[0;34m<\u001b[0m\u001b[0mx\u001b[0m \u001b[0;32melse\u001b[0m \u001b[0mswtp\u001b[0m\u001b[0;34m[\u001b[0m\u001b[0mii\u001b[0m\u001b[0;34m]\u001b[0m \u001b[0;32mfor\u001b[0m \u001b[0mii\u001b[0m \u001b[0;32min\u001b[0m \u001b[0mrange\u001b[0m\u001b[0;34m(\u001b[0m\u001b[0mswtp\u001b[0m\u001b[0;34m.\u001b[0m\u001b[0mshape\u001b[0m\u001b[0;34m[\u001b[0m\u001b[0;36m0\u001b[0m\u001b[0;34m]\u001b[0m\u001b[0;34m)\u001b[0m \u001b[0;34m]\u001b[0m\u001b[0;34m**\u001b[0m\u001b[0;36m2\u001b[0m\u001b[0;34m)\u001b[0m\u001b[0;34m\u001b[0m\u001b[0;34m\u001b[0m\u001b[0m\n\u001b[0m\u001b[1;32m      5\u001b[0m \u001b[0mres\u001b[0m \u001b[0;34m=\u001b[0m \u001b[0mminimize_scalar\u001b[0m\u001b[0;34m(\u001b[0m\u001b[0mf\u001b[0m\u001b[0;34m)\u001b[0m\u001b[0;34m\u001b[0m\u001b[0;34m\u001b[0m\u001b[0m\n",
      "\u001b[0;31mTypeError\u001b[0m: unsupported operand type(s) for ** or pow(): 'list' and 'int'"
     ]
    }
   ],
   "source": [
    "f(400)"
   ]
  },
  {
   "cell_type": "code",
   "execution_count": null,
   "metadata": {},
   "outputs": [
    {
     "data": {
      "text/plain": [
       "[<matplotlib.lines.Line2D at 0x7fb6d340ad30>]"
      ]
     },
     "execution_count": 31,
     "metadata": {},
     "output_type": "execute_result"
    },
    {
     "data": {
      "image/png": "[encoded data removed]",
      "text/plain": [
       "<Figure size 640x480 with 1 Axes>"
      ]
     },
     "metadata": {},
     "output_type": "display_data"
    }
   ],
   "source": [
    "plt.plot(f([450]))"
   ]
  },
  {
   "cell_type": "code",
   "execution_count": null,
   "metadata": {},
   "outputs": [
    {
     "data": {
      "text/plain": [
       "array([150.00000908,  40.95152643])"
      ]
     },
     "execution_count": 93,
     "metadata": {},
     "output_type": "execute_result"
    }
   ],
   "source": []
  },
  {
   "cell_type": "code",
   "execution_count": null,
   "metadata": {},
   "outputs": [
    {
     "data": {
      "text/plain": [
       "[-4.925948949596467,\n",
       " -4.919270893073801,\n",
       " -4.90556810527589,\n",
       " -4.884575160531554,\n",
       " -4.855585046199721,\n",
       " -4.81797237659022,\n",
       " -4.770831506008982,\n",
       " -4.713187927518959,\n",
       " -4.64393230318916,\n",
       " -4.561991051209205,\n",
       " -4.466330626705606,\n",
       " -4.35587104015503,\n",
       " -4.229498366356154,\n",
       " -4.086183818455289,\n",
       " -3.9252591356731017,\n",
       " -3.746158609631941,\n",
       " -3.5483905946213383,\n",
       " -3.33193123979526,\n",
       " -3.096839849238876,\n",
       " -2.8435010231064837,\n",
       " -2.572811814979133,\n",
       " -2.2858641986536483,\n",
       " -1.9839840073170194,\n",
       " -1.6689713764529728,\n",
       " -1.342779395441596,\n",
       " -1.0077150108667325,\n",
       " -0.6663988881211509,\n",
       " -0.3217087970281014,\n",
       " 0.02333514134971182,\n",
       " 0.36564368566891403,\n",
       " 0.7019012464210874,\n",
       " 1.0288990953081694,\n",
       " 1.343296353905572,\n",
       " 1.6417753933719226,\n",
       " 1.921108833454653,\n",
       " 2.1785059991966875,\n",
       " 2.4112934790433442,\n",
       " 2.616965772071879,\n",
       " 2.793147655563459,\n",
       " 2.9383133380041784,\n",
       " 3.0509828687300313,\n",
       " 3.1304324330441915,\n",
       " 3.1759010897321645,\n",
       " 3.18727025108209,\n",
       " 3.1650906595019066,\n",
       " 3.109987028146058,\n",
       " 3.0233049800198657,\n",
       " 2.906745857034963,\n",
       " 2.7623127072741056,\n",
       " 2.5925168140141395,\n",
       " 2.4001265590302054,\n",
       " 2.1881624324431854,\n",
       " 1.9599290579020021,\n",
       " 1.7188673958274592,\n",
       " 1.4685373117586664,\n",
       " 1.2126286182588473,\n",
       " 0.9547634366530673,\n",
       " 0.6986719498411205,\n",
       " 0.44783522385006336,\n",
       " 0.20559743156240984,\n",
       " -0.024870602760842075,\n",
       " -0.24058731014774537,\n",
       " -0.43892510092799597,\n",
       " -0.6174457805945721,\n",
       " -0.7741463710669194,\n",
       " -0.9073393297767609,\n",
       " -1.015588590790017,\n",
       " -1.0979612680623774,\n",
       " -1.1538964308816873,\n",
       " -1.1831765565387968,\n",
       " -1.1859286970776068,\n",
       " -1.1626151777329952,\n",
       " -1.114007071050338,\n",
       " -1.041182291861162,\n",
       " -0.9454213506331115,\n",
       " -0.8282822473108951,\n",
       " -0.6914820943033888,\n",
       " -0.5368278824309201,\n",
       " -0.36632023595903007,\n",
       " -0.18190456595860383,\n",
       " 0.014309758742413692,\n",
       " 0.22020590686967978,\n",
       " 0.4340286387514851,\n",
       " 0.6537515860724241,\n",
       " 0.8776421755662298,\n",
       " 1.1037942226046908,\n",
       " 1.3305495074258857,\n",
       " 1.5564712254436444,\n",
       " 1.7802905858839537,\n",
       " 2.0006303261861405,\n",
       " 2.2163248206324866,\n",
       " 2.4263712205144117,\n",
       " 2.6299972479625637,\n",
       " 2.826322101766756,\n",
       " 3.0147201097182617,\n",
       " 3.1945803365611525,\n",
       " 3.3652968254749567,\n",
       " 3.526382796747072,\n",
       " 3.6773703930808566,\n",
       " 3.8179244131301218,\n",
       " 3.9476542830912678,\n",
       " 4.066239383951789,\n",
       " 4.173316346451138,\n",
       " 4.268499387803338,\n",
       " 4.351605302757612,\n",
       " 4.4224293001737465,\n",
       " 4.480663991261942,\n",
       " 4.526239596210829,\n",
       " 4.55908428652085,\n",
       " 4.579008924850498,\n",
       " 4.586079754184553,\n",
       " 4.580487687408791,\n",
       " 4.562319371667023,\n",
       " 4.531710106972781,\n",
       " 4.489025064419593,\n",
       " 4.43461292672707,\n",
       " 4.368996772103472,\n",
       " 4.292708351382899,\n",
       " 4.206343825011729,\n",
       " 4.110672118968871,\n",
       " 4.006349357026053,\n",
       " 3.8942095878222673,\n",
       " 3.7750564823431816,\n",
       " 3.649659221207905,\n",
       " 3.518930265050791,\n",
       " 3.383740400941811,\n",
       " 3.2449866264330183,\n",
       " 3.1034704406148848,\n",
       " 2.9600871177451396,\n",
       " 2.8156107473465894,\n",
       " 2.6708737833328584,\n",
       " 2.5266170721961245,\n",
       " 2.383629101450559,\n",
       " 2.242565257006383,\n",
       " 2.104002691644993,\n",
       " 1.9685618817938249,\n",
       " 1.8369000796857193,\n",
       " 1.7094999468686112,\n",
       " 1.5868726671360776,\n",
       " 1.4695003536486837,\n",
       " 1.3578389864045448,\n",
       " 1.252334592661363,\n",
       " 1.1533506943305696,\n",
       " 1.0612316653295295,\n",
       " 0.9763671490119847,\n",
       " 0.8989884441326055,\n",
       " 0.8293514194135341,\n",
       " 0.7677006729783855,\n",
       " 0.7142034951476433,\n",
       " 0.6690184403743729,\n",
       " 0.6322279172003107,\n",
       " 0.6038170271330898,\n",
       " 0.5837632083190911,\n",
       " 0.5719862634445221,\n",
       " 0.5683999792735577,\n",
       " 0.5727441651939387,\n",
       " 0.5847477524455513,\n",
       " 0.6040631709249027,\n",
       " 0.6303012511298434,\n",
       " 0.6629745741025275,\n",
       " 0.7014997059069827,\n",
       " 0.7452813983479629,\n",
       " 0.7936769736633309,\n",
       " 0.8460823192575404,\n",
       " 0.9016985345843764,\n",
       " 0.9596919523523297,\n",
       " 1.0194084223772535,\n",
       " 1.0800374450988102,\n",
       " 1.1407677332560127,\n",
       " 1.2008275820190022,\n",
       " 1.2594495725517802,\n",
       " 1.3159147544312475,\n",
       " 1.3695401844277768,\n",
       " 1.4196657702929087,\n",
       " 1.4657230999983426,\n",
       " 1.5071881781747294,\n",
       " 1.543579056531918,\n",
       " 1.5745714589666804,\n",
       " 1.5998959525819245,\n",
       " 1.6193745806847417,\n",
       " 1.6329093398054724,\n",
       " 1.6405391972927532,\n",
       " 1.642245411943783,\n",
       " 1.6382056283438686,\n",
       " 1.6286889198150405,\n",
       " 1.6140052144057293,\n",
       " 1.5945724517603708,\n",
       " 1.5708543190869975,\n",
       " 1.5433148214152013,\n",
       " 1.5125355491386188,\n",
       " 1.4790974377704345,\n",
       " 1.4436004167753254,\n",
       " 1.406673290349751,\n",
       " 1.368925022236759,\n",
       " 1.3309774910407555,\n",
       " 1.2934579117219585,\n",
       " 1.2568762405201852,\n",
       " 1.2217831895057998,\n",
       " 1.1886886129494414,\n",
       " 1.1579612971688817,\n",
       " 1.1299989866528293,\n",
       " 1.1051293051601405,\n",
       " 1.0836201629725863,\n",
       " 1.0656279827117316,\n",
       " 1.0512113165769676,\n",
       " 1.0405442018467,\n",
       " 1.0335215103636486,\n",
       " 1.0301359287570904,\n",
       " 1.0302152957008488,\n",
       " 1.033611808841215,\n",
       " 1.0400312490364243,\n",
       " 1.0492040662472064,\n",
       " 1.0608299335298241,\n",
       " 1.0745610338237341,\n",
       " 1.0900517534970646,\n",
       " 1.1068992707644085,\n",
       " 1.1247080224643398,\n",
       " 1.143111570837391,\n",
       " 1.1617458048506961,\n",
       " 1.180245305116145,\n",
       " 1.1982980513174368,\n",
       " 1.215559878892428,\n",
       " 1.2317846793894702,\n",
       " 1.2467473196349488,\n",
       " 1.2602686053626755,\n",
       " 1.272228078751688,\n",
       " 1.2825604213725015,\n",
       " 1.2912294859105202,\n",
       " 1.2983363493388467,\n",
       " 1.303986044957199,\n",
       " 1.3084852054613805,\n",
       " 1.3120812149612107,\n",
       " 1.3150623800380146,\n",
       " 1.3178915324852198,\n",
       " 1.321079230924667,\n",
       " 1.3251259104787536,\n",
       " 1.3306618436553848,\n",
       " 1.3382999720909083,\n",
       " 1.3487696454138955,\n",
       " 1.3627741708345127,\n",
       " 1.3810462091264029,\n",
       " 1.4043214218566078,\n",
       " 1.4333463674853206,\n",
       " 1.4688760869433821,\n",
       " 1.5115901484677323,\n",
       " 1.5621832160144535,\n",
       " 1.6212115457384897,\n",
       " 1.6892495582348133,\n",
       " 1.7667291760073098,\n",
       " 1.8539353290116622,\n",
       " 1.951056100560443,\n",
       " 2.0581844463067753,\n",
       " 2.1752772271426863,\n",
       " 2.3020429941975564,\n",
       " 2.438148069457874,\n",
       " 2.582982156475012,\n",
       " 2.7358697793395734,\n",
       " 2.895864623791539,\n",
       " 3.061945356581397,\n",
       " 3.232891381471248,\n",
       " 3.4073485751209702,\n",
       " 3.583901410505959,\n",
       " 3.7610009619703177,\n",
       " 3.9369309858050627,\n",
       " 4.109979079620707,\n",
       " 4.278428013055695,\n",
       " 4.440518468939928,\n",
       " 4.594488970033979,\n",
       " 4.738726802024047,\n",
       " 4.871663528227039,\n",
       " 4.991808446697057,\n",
       " 5.097685381181918,\n",
       " 5.188212898520433,\n",
       " 5.262382804345506,\n",
       " 5.319337108137873,\n",
       " 5.35845828620166,\n",
       " 5.379391543557816,\n",
       " 5.381980437725247,\n",
       " 5.366285817808247,\n",
       " 5.332578047034943,\n",
       " 5.281353114804233,\n",
       " 5.213232222062537,\n",
       " 5.1290601156063715,\n",
       " 5.029811565721062,\n",
       " 4.916678617057535,\n",
       " 4.790886406605111,\n",
       " 4.6537080965337765,\n",
       " 4.506584100789176,\n",
       " 4.350981942450062,\n",
       " 4.188265356649261,\n",
       " 4.019911074079225,\n",
       " 3.847204473545908,\n",
       " 3.6714810837184118,\n",
       " 3.4940400945090246,\n",
       " 3.3159887061054505,\n",
       " 3.1383716286987706,\n",
       " 2.9621556402380307,\n",
       " 2.7881296370802957,\n",
       " 2.61693633517082,\n",
       " 2.4492011961693336,\n",
       " 2.2853937801402466,\n",
       " 2.125846231576581,\n",
       " 1.9708132323183776,\n",
       " 1.8204559750849185,\n",
       " 1.6748547608494917,\n",
       " 1.533997316699228,\n",
       " 1.3977767966489836,\n",
       " 1.2661297989321696,\n",
       " 1.1388735971820978,\n",
       " 1.0158347256622164,\n",
       " 0.8968041290616711,\n",
       " 0.7815917628305371,\n",
       " 0.6699897582220871,\n",
       " 0.5617943177732627,\n",
       " 0.456812976664672,\n",
       " 0.3548930261457883,\n",
       " 0.25584105536709956,\n",
       " 0.1595752739223144,\n",
       " 0.0660177691288979,\n",
       " -0.02493256092691354,\n",
       " -0.11325411338502533,\n",
       " -0.1989194776024732,\n",
       " -0.28193055849688875,\n",
       " -0.3622623784830523,\n",
       " -0.43981804478280395,\n",
       " -0.5144589510184616,\n",
       " -0.5861483444561628,\n",
       " -0.6547322069614978,\n",
       " -0.7200508907856005,\n",
       " -0.7819252638553493,\n",
       " -0.8402451968743634,\n",
       " -0.8948001033380208,\n",
       " -0.9454097230877423,\n",
       " -0.9919335244343515,\n",
       " -1.0341927194196643,\n",
       " -1.0720314528548585,\n",
       " -1.105209651727769,\n",
       " -1.1336196290427054,\n",
       " -1.1571664251701606,\n",
       " -1.1757541075224154,\n",
       " -1.1891692225094843,\n",
       " -1.1973403538367577,\n",
       " -1.2001263234208324,\n",
       " -1.1974190294665306,\n",
       " -1.1891750672190966,\n",
       " -1.17534711728743,\n",
       " -1.1558686940729004,\n",
       " -1.1307160158861507,\n",
       " -1.099868281887538,\n",
       " -1.0634114385618574,\n",
       " -1.0213155546148514,\n",
       " -0.9736745061503669,\n",
       " -0.9205505986543727,\n",
       " -0.8619523722558,\n",
       " -0.798019340522444,\n",
       " -0.7288631102868166,\n",
       " -0.6545988204623683,\n",
       " -0.5753971715586133,\n",
       " -0.4913661911379066,\n",
       " -0.40264710387263136,\n",
       " -0.3094349993940426,\n",
       " -0.21184743828701613,\n",
       " -0.11007623340383077,\n",
       " -0.004373594644768275,\n",
       " 0.10500962526441526,\n",
       " 0.2178616917648526,\n",
       " 0.3339279748154951,\n",
       " 0.45289529623191527,\n",
       " 0.5744207433118973,\n",
       " 0.6982153151478059,\n",
       " 0.8239179922503297,\n",
       " 0.9511356646017433,\n",
       " 1.0794534545654741,\n",
       " 1.2084667818015973,\n",
       " 1.3376604214510266,\n",
       " 1.466579209534821,\n",
       " 1.594725883865145,\n",
       " 1.7215268882047,\n",
       " 1.846429771485539,\n",
       " 1.9688537481768194,\n",
       " 2.0882304568090575,\n",
       " 2.203971880203383,\n",
       " 2.3154164533725066,\n",
       " 2.421942829813048,\n",
       " 2.5229952853767372,\n",
       " 2.617996673034419,\n",
       " 2.7062249460671026,\n",
       " 2.7871847291030107,\n",
       " 2.860307133412519,\n",
       " 2.9250403740019095,\n",
       " 2.980835396237694,\n",
       " 3.0271983605359054,\n",
       " 3.0637594170158877,\n",
       " 3.089966598550717,\n",
       " 3.105384333044462,\n",
       " 3.1096349105090084,\n",
       " 3.1023304469138964,\n",
       " 3.0831043524941038,\n",
       " 3.051585753327686,\n",
       " 3.007493497528692,\n",
       " 2.950576953290728,\n",
       " 2.88058057461528,\n",
       " 2.7972261194842076,\n",
       " 2.700277491525604,\n",
       " 2.5895302939998572,\n",
       " 2.4646616824219834,\n",
       " 2.325497727434076,\n",
       " 2.1717949328444277,\n",
       " 2.003230534405077,\n",
       " 1.819398194427876,\n",
       " 1.620148991134954,\n",
       " 1.4051632026041858,\n",
       " 1.1741256999240548,\n",
       " 0.9267293069341065,\n",
       " 0.6625741192808619,\n",
       " 0.38139302355762084,\n",
       " 0.08283645092404157,\n",
       " -0.23341540844469932,\n",
       " -0.5676343477868357,\n",
       " -0.9200330052272179,\n",
       " -1.290912054815351,\n",
       " -1.6804234557392448,\n",
       " -2.0885703600175844,\n",
       " -2.515319087259364,\n",
       " -2.960595520074385,\n",
       " -3.4241002209878317,\n",
       " -3.9055313811366474,\n",
       " -4.404251979466679,\n",
       " -4.9196821743135715,\n",
       " -5.4509804860154745,\n",
       " -5.997056419948258,\n",
       " -6.556772803646808,\n",
       " -7.128737330690711,\n",
       " -7.711525330242765,\n",
       " -8.303381195066777,\n",
       " -8.902501182488688,\n",
       " -9.50697432839295,\n",
       " -10.114688532391174,\n",
       " -10.723603942262486,\n",
       " -11.331594730856182,\n",
       " -11.936494281897701,\n",
       " -12.53622257127628,\n",
       " -13.12873689470057,\n",
       " -13.71203369691051,\n",
       " -14.28422370921167,\n",
       " -14.84350325165762,\n",
       " -15.38832874330653,\n",
       " -15.917303239464658,\n",
       " -16.429210986018187,\n",
       " -16.923083669717293,\n",
       " 22.601890923061323,\n",
       " 22.146304529225514,\n",
       " 21.710546770627005,\n",
       " 21.29483304992969,\n",
       " 20.899188541452904,\n",
       " 20.523477919738532,\n",
       " 20.16746591863878,\n",
       " 19.830772398250353,\n",
       " 19.512964347588614,\n",
       " 19.21359897333844,\n",
       " 18.932100596733097,\n",
       " 18.667867365378704,\n",
       " 18.42026881302549,\n",
       " 18.188772979082596,\n",
       " 17.972809777109976,\n",
       " 17.77188797203325,\n",
       " 17.585611089624962,\n",
       " 17.413551536518447,\n",
       " 17.255359714156842,\n",
       " 17.110715224561854,\n",
       " 16.979423079170456,\n",
       " 16.86115068819921,\n",
       " 16.755762544502954,\n",
       " 16.663078744655678,\n",
       " 16.582867830248905,\n",
       " 16.514972173811,\n",
       " 16.459102629494183,\n",
       " 16.415038313914057,\n",
       " 16.38247516346699,\n",
       " 16.361066511003475,\n",
       " 16.35037749841863,\n",
       " 16.350053457667347,\n",
       " 16.359597587904695,\n",
       " 16.378584589622584,\n",
       " 16.406567190986546,\n",
       " 16.443066426711784,\n",
       " 16.487526514833284,\n",
       " 16.5394668109889,\n",
       " 16.598467450015498,\n",
       " 16.664110883660147,\n",
       " 16.735949095714346,\n",
       " 16.813604247342308,\n",
       " 16.896729696658646,\n",
       " 16.984955836106685,\n",
       " 17.07792741747693,\n",
       " 17.175404035886967,\n",
       " 17.277026700194153,\n",
       " 17.382502702472497,\n",
       " 17.49142693643685,\n",
       " 17.60346588312438,\n",
       " 17.71812533685,\n",
       " 17.83492725174528,\n",
       " 17.953239937670514,\n",
       " 18.072461994596107,\n",
       " 18.191803369842305,\n",
       " 18.31042846049142,\n",
       " 18.42727912637158,\n",
       " 18.541398811316252,\n",
       " 18.651587977476343,\n",
       " 18.75657811107068,\n",
       " 18.85496805939257,\n",
       " 18.94551891735112,\n",
       " 19.02680123195441,\n",
       " 19.09740173804907,\n",
       " 19.155947535011958,\n",
       " 19.201057722483288,\n",
       " 19.23149774052575,\n",
       " 19.246096271741887,\n",
       " 19.24381752436177,\n",
       " 19.223774079405892,\n",
       " 19.185214068880846,\n",
       " 19.12757158629066,\n",
       " 19.050489422414586,\n",
       " 18.953870132327307,\n",
       " 18.83778545011015,\n",
       " 18.702483851903477,\n",
       " 18.548482890593885,\n",
       " 18.37644749714553,\n",
       " 18.187252028167368,\n",
       " 17.981931741281006,\n",
       " 17.761665728439063,\n",
       " 17.527597177953535,\n",
       " 17.28098338196024,\n",
       " 17.02316975571476,\n",
       " 16.75548883971156,\n",
       " 16.479232275273556,\n",
       " 16.19557833913335,\n",
       " 15.905732633005487,\n",
       " 15.610777303952542,\n",
       " 15.311599068853974,\n",
       " 15.009000326760395,\n",
       " 14.703683766288687,\n",
       " 14.396216692225469,\n",
       " 14.086899114182762,\n",
       " 13.776054817602047,\n",
       " 13.463855623967675,\n",
       " 13.150349407461226,\n",
       " 12.835537764233528,\n",
       " 12.519315811278554,\n",
       " 12.20162099391498,\n",
       " 11.882399743876954,\n",
       " 11.561513476055712,\n",
       " 11.238961829187744,\n",
       " 10.914751267457548,\n",
       " 10.589072296284572,\n",
       " 10.262066915124363,\n",
       " 9.934116859557985,\n",
       " 9.605699077883392,\n",
       " 9.277386644927995,\n",
       " 8.949895758990799,\n",
       " 8.624091551210789,\n",
       " 8.300967020824162,\n",
       " 7.981617518552675,\n",
       " 7.667202400831947,\n",
       " 7.358967823330082,\n",
       " 7.058201473129276,\n",
       " 6.766218918114062,\n",
       " 6.484377679657043,\n",
       " 6.214056249778937,\n",
       " 5.956571378670906,\n",
       " 5.713292993257385,\n",
       " 5.485467592031609,\n",
       " 5.274281534121459,\n",
       " 5.080895912349632,\n",
       " 4.906285170708417,\n",
       " 4.751421998782417,\n",
       " 4.617138215788999,\n",
       " 4.504147896102365,\n",
       " 4.412990798840985,\n",
       " 4.344227662321469,\n",
       " 4.298171471724465,\n",
       " 4.275085170117109]"
      ]
     },
     "execution_count": 71,
     "metadata": {},
     "output_type": "execute_result"
    }
   ],
   "source": [
    "f([0, 450, 40])"
   ]
  },
  {
   "cell_type": "code",
   "execution_count": null,
   "metadata": {},
   "outputs": [
    {
     "name": "stdout",
     "output_type": "stream",
     "text": [
      "25\n",
      "0 21.80826486451479\n",
      "1 27.699855001932498\n",
      "2 28.226313006093704\n",
      "3 35.89810109518932\n",
      "4 46.120190680879375\n",
      "5 42.16835854107928\n",
      "6 43.21129829061274\n",
      "7 43.27977569807347\n",
      "8 43.58245086584389\n",
      "9 43.37820381861611\n",
      "10 42.46569412201304\n",
      "11 40.33818338551249\n",
      "12 38.37531240929629\n",
      "13 28.441762071575777\n",
      "14 26.442654440289843\n",
      "15 26.12483595570041\n",
      "16 17.743820772739586\n",
      "17 22.913805595233224\n",
      "18 18.639813950194625\n",
      "19 23.824066852183734\n",
      "20 44.620252556202736\n",
      "21 35.95059485210354\n",
      "22 38.873754155186056\n",
      "23 20.663892864977637\n",
      "24 31.225739367587863\n",
      "25 40.72621140101489\n",
      "26 41.800981173588895\n",
      "27 25.60767476046262\n",
      "28 28.04497833185551\n",
      "29 34.873337505550026\n",
      "30 46.574334229463716\n",
      "31 44.36231854052792\n",
      "32 50.4916719696099\n",
      "33 47.75037062994221\n",
      "34 44.88434565504913\n",
      "35 49.16729008381289\n",
      "36 53.41032889035283\n",
      "37 58.286798759241975\n",
      "38 55.24742391976227\n",
      "39 54.70932491082473\n",
      "40 47.105121710648305\n",
      "41 45.412442256537105\n",
      "42 57.15801802692992\n",
      "43 55.36289285411404\n",
      "44 46.896930892808825\n",
      "45 54.427082236508255\n",
      "46 50.94499419095585\n",
      "47 46.654320806077266\n",
      "48 54.345552846315655\n",
      "49 57.00514236869506\n",
      "50 44.56334889229757\n",
      "51 35.777506687813585\n",
      "52 38.44664226193153\n",
      "53 40.71046686411229\n",
      "54 45.004027958406084\n",
      "55 42.82132044564406\n",
      "56 43.16090719932606\n",
      "57 47.48739767641369\n",
      "58 39.522093260306804\n",
      "59 39.38771976440695\n",
      "60 31.57638321914778\n",
      "61 25.66654193155876\n",
      "62 31.14498224573485\n",
      "63 28.215477161371844\n",
      "64 31.64908417411992\n",
      "65 27.430466404669616\n",
      "66 31.20548464259329\n",
      "67 28.476403094861396\n",
      "68 34.50700319224623\n",
      "69 34.921794891690894\n",
      "70 34.16823143653272\n",
      "71 32.55930212525165\n",
      "72 27.01360298020162\n",
      "73 32.134162628502246\n",
      "74 34.74369848859946\n",
      "75 31.96989454912864\n",
      "76 33.96999099462011\n",
      "77 37.87520739570796\n",
      "78 44.113301401926755\n",
      "79 45.08420624501649\n",
      "80 42.814683919199595\n",
      "81 43.8262004724776\n",
      "82 46.72609942889795\n",
      "83 42.66275422985781\n",
      "84 42.57523325747893\n",
      "85 46.460639994223285\n",
      "86 46.66476827520798\n",
      "87 46.416231237684\n",
      "88 44.39436599696064\n",
      "89 43.51457369672451\n",
      "90 44.297590075690586\n",
      "91 44.86616558765862\n",
      "92 46.754457672298415\n",
      "93 43.45926455974421\n",
      "94 43.237872828523834\n",
      "95 44.25240973423925\n",
      "96 44.86565347016627\n",
      "97 40.36420163852533\n",
      "98 33.721271652918155\n",
      "99 37.237437950715275\n",
      "100 39.480271126874\n",
      "101 44.919066939877936\n",
      "102 39.48520790636776\n",
      "103 39.18646532244263\n",
      "104 50.79568368061132\n",
      "105 48.29308969269699\n",
      "106 47.59447372823181\n",
      "107 50.475883320616596\n",
      "108 50.04177005916469\n",
      "109 49.98157694640725\n",
      "110 50.84821208221116\n",
      "111 48.152262501242475\n",
      "112 49.350432214833845\n",
      "113 48.73697293287221\n",
      "114 46.4899572405261\n",
      "115 48.662962704349326\n",
      "116 49.447765511079425\n",
      "117 50.00862735949209\n",
      "118 48.36068930314831\n",
      "119 48.45874276722944\n",
      "120 40.761941081936264\n",
      "121 42.36218615445497\n",
      "122 40.742349549789104\n",
      "123 40.3170950034519\n",
      "124 40.274525369229494\n",
      "125 39.99552722302915\n",
      "126 39.54774435582902\n",
      "127 42.04176983594463\n",
      "128 40.95817522160677\n",
      "129 40.79633774212656\n",
      "130 41.603495519204984\n",
      "131 42.85226447370753\n",
      "132 44.165343193220856\n",
      "133 43.759431936795224\n",
      "134 40.87255599718951\n",
      "135 42.653135896637636\n",
      "136 43.25969639201968\n",
      "137 40.674594864966835\n",
      "138 43.47859101018312\n",
      "139 43.23193873014465\n",
      "140 41.94589686885115\n",
      "141 41.38934962982943\n",
      "142 41.025326732752994\n",
      "143 41.22602023737087\n",
      "144 37.744299391770795\n",
      "145 42.90549935209653\n",
      "146 40.387393648520465\n",
      "147 38.16334065225712\n",
      "148 35.872799746437536\n",
      "149 37.57180023506824\n",
      "150 36.72805370143335\n",
      "151 38.468578333133706\n",
      "152 40.41597104257907\n",
      "153 38.77739251348079\n",
      "154 37.97601947586678\n",
      "155 39.11999696835928\n",
      "156 40.02841194475786\n",
      "157 40.73481978988178\n",
      "158 38.796849794883656\n",
      "159 38.98309317877758\n",
      "160 40.52797425451365\n",
      "161 39.75347983356884\n",
      "162 40.7258880453654\n",
      "163 41.91744334127911\n",
      "164 39.709135708939826\n",
      "165 37.37435571798294\n",
      "166 37.940469920215925\n",
      "167 38.65402692021356\n",
      "168 43.910357093177005\n",
      "169 42.640745967320925\n",
      "170 42.65041155358599\n",
      "171 43.46045182542062\n",
      "172 42.01085706601492\n",
      "173 40.374453128029245\n",
      "174 44.06969915615102\n",
      "175 42.97217302984269\n",
      "176 42.293383300454174\n",
      "177 42.77599591208416\n",
      "178 44.006894990491254\n",
      "179 44.79026037675055\n",
      "180 44.05335219711823\n",
      "181 43.181918300743135\n",
      "182 43.39587511170187\n",
      "183 44.07888119105015\n",
      "184 41.80611199266914\n",
      "185 45.05850384233608\n",
      "186 43.49920214999894\n",
      "187 42.311705211321105\n",
      "188 41.233150079568915\n",
      "189 42.441481005832955\n",
      "190 42.39303065378344\n",
      "191 39.45967510389471\n",
      "192 44.213122746783604\n",
      "193 41.47085539626355\n",
      "194 40.3122590934516\n",
      "195 37.14506331839954\n",
      "196 39.31459891185259\n",
      "197 38.615316535339616\n",
      "198 39.48173465376394\n",
      "199 41.87274421134093\n",
      "200 39.690810924744014\n",
      "201 39.08279794098832\n",
      "202 39.3128513795869\n",
      "203 39.553888082645734\n",
      "204 41.2408968182962\n",
      "205 39.570373494876506\n",
      "206 41.1696332765917\n",
      "207 41.59408257812041\n",
      "208 40.36916978236207\n",
      "209 41.08471217004592\n",
      "210 42.72125544843083\n",
      "211 40.06475404964657\n",
      "212 37.995163940054084\n",
      "213 38.04349188135858\n",
      "214 40.93555440491893\n",
      "215 40.97692503752921\n",
      "216 42.93531779963668\n",
      "217 43.66155107635022\n",
      "218 42.63096420830293\n",
      "219 39.69612499618782\n",
      "220 41.16301947719627\n",
      "221 40.14051724871021\n",
      "222 41.64481631225719\n",
      "223 43.197166483571436\n",
      "224 41.56295958010773\n",
      "225 40.978085749634914\n",
      "226 41.610058112512846\n",
      "227 42.09346867412974\n",
      "228 43.27801035732767\n",
      "229 42.2857224676053\n",
      "230 41.42956657096512\n",
      "231 43.0420550743369\n",
      "232 42.30446190115828\n",
      "233 43.11421756057864\n",
      "234 43.49784563728379\n",
      "235 41.49179503859753\n",
      "236 39.0586882119195\n",
      "237 39.819056825280754\n",
      "238 40.91887484265318\n",
      "239 41.189633553777966\n",
      "240 43.17406854572343\n",
      "241 43.92253644998361\n",
      "242 41.73398494353127\n",
      "243 38.18530025094692\n",
      "244 38.982484671870914\n",
      "245 38.232363167950375\n",
      "246 40.16005181310177\n",
      "247 42.38104483553003\n",
      "248 41.217329282059374\n",
      "249 40.324146946909615\n",
      "250 40.10928961880219\n",
      "251 39.83081125000012\n",
      "252 40.83600015141105\n",
      "253 40.059483383854676\n",
      "254 39.1043533104455\n",
      "255 40.58603678682234\n",
      "256 39.770244123147286\n",
      "257 40.51490867704043\n",
      "258 41.60495210904789\n",
      "259 39.9933581140724\n",
      "260 38.4768081847423\n",
      "261 38.3743719109869\n",
      "262 41.438290111010566\n",
      "263 41.095497603847285\n",
      "264 34.953002797504574\n",
      "265 41.85384287449954\n",
      "266 44.495841621343324\n",
      "267 47.507937571599925\n",
      "268 46.47243537366229\n",
      "269 50.74533129789298\n",
      "270 50.892890430401884\n",
      "271 49.611195593964425\n",
      "272 52.39632368651318\n",
      "273 53.74379761713664\n",
      "274 53.71787770697905\n",
      "275 51.891421608397046\n",
      "276 50.9068038813229\n",
      "277 51.67215183628424\n",
      "278 53.09333299341404\n",
      "279 51.1032283360274\n",
      "280 54.043472387223744\n",
      "281 52.387955103941025\n",
      "282 50.97123349242739\n",
      "283 50.781394098933816\n",
      "284 49.515156058505184\n",
      "285 45.07916459222041\n",
      "286 41.09359269591323\n",
      "287 36.05984333475716\n",
      "288 35.76117529435956\n",
      "289 35.295529240811675\n",
      "290 40.31442587675379\n",
      "291 42.13766568021687\n",
      "292 37.49541442043561\n",
      "293 37.64760093975387\n",
      "294 41.58548346710954\n",
      "295 44.42620398061719\n",
      "296 45.79003050458647\n",
      "297 43.49613053115763\n",
      "298 47.3632999731041\n",
      "299 48.58578311812744\n",
      "300 47.44891680248931\n",
      "301 42.973072418984614\n",
      "302 38.9773246180132\n",
      "303 39.20893503566443\n",
      "304 36.892284957976806\n",
      "305 36.876050906608505\n",
      "306 37.02097952387725\n",
      "307 38.923476924478855\n",
      "308 41.41651977449268\n",
      "309 39.3710580810555\n",
      "310 38.2757277695836\n",
      "311 39.1693170738355\n",
      "312 41.61861189379632\n",
      "313 43.19907331029774\n",
      "314 44.22213336038881\n",
      "315 40.81108831692528\n",
      "316 42.41970341797353\n",
      "317 41.83960799101368\n",
      "318 41.74406104324217\n",
      "319 40.661979864185675\n",
      "320 39.16394130173041\n",
      "321 39.522254205955214\n",
      "322 43.7327049214803\n",
      "323 40.236749417587895\n",
      "324 37.27166888424693\n",
      "325 39.14318839428494\n",
      "326 36.53281137125789\n",
      "327 33.507957379321866\n",
      "328 37.07020101196805\n",
      "329 41.257907693912486\n",
      "330 45.20974119151579\n",
      "331 33.98449172070747\n",
      "332 34.162507950460345\n",
      "333 35.83546646651189\n",
      "334 34.42724164585853\n",
      "335 34.455121549345805\n",
      "336 35.90049979347546\n",
      "337 40.13794648746416\n",
      "338 43.12170394644693\n",
      "339 44.128911187218215\n",
      "340 45.84844867493674\n",
      "341 45.377271943874455\n",
      "342 42.20805003440088\n",
      "343 38.44730686449302\n",
      "344 41.30813093204197\n",
      "345 37.98738963612184\n",
      "346 29.89010077190563\n",
      "347 30.71424176231926\n",
      "348 36.53506436685148\n",
      "349 34.19089075519803\n",
      "350 38.06021537427298\n",
      "351 31.6514586334269\n",
      "352 31.78427021886883\n",
      "353 37.35580631496901\n",
      "354 39.00767996806608\n",
      "355 40.26411077953364\n",
      "356 43.474809064848785\n",
      "357 43.01715070526117\n",
      "358 39.412497411680064\n",
      "359 42.06675283062091\n",
      "360 43.89938191115659\n",
      "361 44.05758722449174\n",
      "362 43.18131991752681\n",
      "363 40.60952171621098\n",
      "364 39.0022518034804\n",
      "365 40.58643080975627\n",
      "366 35.44477954438996\n",
      "367 39.62628837018464\n",
      "368 39.43428633689128\n",
      "369 37.373570823880414\n",
      "370 35.557882703032504\n",
      "371 37.34936450731746\n",
      "372 39.084621522252085\n",
      "373 41.32069743424098\n",
      "374 40.896717372758665\n",
      "375 42.31494292958923\n",
      "376 39.81224589221521\n",
      "377 39.863277327686276\n",
      "378 42.53490888655082\n",
      "379 39.87790066853255\n",
      "380 41.38116462310069\n",
      "381 46.07915972037398\n",
      "382 47.46870952385024\n",
      "383 47.36088990355818\n",
      "384 45.91326801860606\n",
      "385 44.765301209957975\n",
      "386 45.88243845432745\n",
      "387 44.20549958022129\n",
      "388 44.36571598474315\n",
      "389 43.653326311790494\n",
      "390 41.75666153361428\n",
      "391 41.534298675960834\n",
      "392 41.921803555629346\n",
      "393 42.69524318104744\n",
      "394 43.15030893000258\n",
      "395 41.552779918555125\n",
      "396 48.432253966432135\n",
      "397 49.5531567813707\n",
      "398 46.00801923704323\n",
      "399 38.95852401504317\n",
      "400 40.78483589541671\n",
      "401 41.75849179696493\n",
      "402 43.02039990909365\n",
      "403 46.95837430926547\n",
      "404 47.73279610638688\n",
      "405 46.15494067613828\n",
      "406 45.420692367742106\n",
      "407 45.764935515828306\n",
      "408 47.09695782159861\n",
      "409 43.55068758565604\n",
      "410 46.639753758327394\n",
      "411 47.05861335945253\n",
      "412 43.16634100816909\n",
      "413 42.32666760530467\n",
      "414 40.72844166276024\n",
      "415 41.50921615249922\n",
      "416 40.78378496995803\n",
      "417 34.242454426357604\n",
      "418 30.784731592390926\n",
      "419 35.81743042375995\n",
      "420 34.47577349145816\n",
      "421 39.37435114826149\n",
      "422 41.67344284297857\n",
      "423 40.136712376757266\n",
      "424 40.23333998957201\n",
      "425 41.79841284534144\n",
      "426 45.93625339336149\n",
      "427 45.39234050503902\n",
      "428 41.641596664209025\n",
      "429 43.16422736746326\n",
      "430 39.42130874022802\n",
      "431 36.318957195292306\n",
      "432 34.98154810250116\n",
      "433 38.54762791873245\n",
      "434 34.15577062275563\n",
      "435 34.05694165957414\n",
      "436 32.44214677152042\n",
      "437 31.759307176966065\n",
      "438 29.80249161149833\n",
      "439 28.199350147716228\n",
      "440 28.60502749074328\n",
      "441 30.004163997780577\n",
      "442 26.208763787942292\n",
      "443 24.45865166886605\n",
      "444 21.946892230007986\n",
      "445 23.78625138005496\n",
      "446 14.485205503740257\n",
      "447 13.018646604560296\n",
      "448 11.660849843018665\n",
      "449 15.66399766213971\n",
      "450 15.660470331371389\n",
      "451 15.660470331315128\n",
      "452 15.660470331315128\n",
      "453 15.660470331315128\n",
      "454 15.660470331315128\n",
      "455 15.581261491461976\n",
      "456 15.638008991623565\n",
      "457 15.183341199503616\n",
      "458 12.192591043051854\n",
      "459 11.709633862942571\n",
      "460 14.484926277632908\n",
      "461 19.88665771404988\n",
      "462 20.72243006044998\n",
      "463 21.771247491488136\n",
      "464 27.890132442018245\n",
      "465 29.446998258566236\n",
      "466 33.058279341841505\n",
      "467 33.011670820187625\n",
      "468 33.20795563937509\n",
      "469 20.231466228157437\n",
      "470 17.1706813022479\n",
      "471 16.89883252561495\n",
      "472 6.798137250785737\n",
      "473 6.801238263222705\n",
      "474 2.723046186982164\n",
      "475 2.9523119329538625\n",
      "476 0.5880479000854715\n",
      "477 0.4137361132799642\n",
      "478 0.35698861311837593\n",
      "479 4.58829400897912\n",
      "480 4.58829400897912\n",
      "481 4.589200048713491\n",
      "482 12.52319848363711\n",
      "483 20.901942552815107\n",
      "484 21.35371445054882\n",
      "485 29.55857263151727\n",
      "486 29.55857263151727\n",
      "487 35.881635472454974\n",
      "488 35.881635472454974\n",
      "489 29.125128013211555\n",
      "490 29.115045063565052\n",
      "491 22.036769155727\n",
      "492 21.971907775990907\n",
      "493 9.16689297972529\n",
      "494 8.131220783100709\n",
      "495 4.039727781364141\n",
      "496 0.9887435772650557\n",
      "497 6.3746982817803906\n",
      "498 8.079736149204024\n",
      "499 11.651953093770445\n",
      "500 13.462457033605933\n",
      "501 14.862638215709946\n",
      "502 15.891628368154588\n",
      "503 15.891628368154588\n",
      "504 16.837577786075805\n",
      "505 24.530370073635563\n",
      "506 26.972550949730522\n",
      "507 29.9613061965339\n",
      "508 29.88864966059266\n",
      "509 26.22439599767899\n",
      "510 22.941628412819316\n",
      "511 18.22819166042005\n",
      "512 14.707929371866458\n",
      "513 12.79111804798241\n",
      "514 10.256081542278425\n",
      "515 6.499346930902527\n",
      "516 4.999919653597437\n",
      "517 10.42024141955425\n",
      "518 12.604206727575205\n",
      "519 20.76075098622461\n",
      "520 24.635233406779992\n",
      "521 34.22303913777961\n",
      "522 34.963716936609686\n",
      "523 39.0209080184224\n",
      "524 39.25927103751059\n",
      "525 35.635020310255086\n",
      "526 35.64587107328197\n",
      "527 31.8991662706904\n",
      "528 28.345318765922187\n",
      "529 22.76661560055036\n",
      "530 20.828426880300526\n",
      "531 12.592000245591361\n",
      "532 11.333110611955053\n",
      "533 8.894372415837594\n",
      "534 6.618248007826679\n",
      "535 10.712769884184748\n",
      "536 9.72094971030267\n",
      "537 12.414037073375546\n",
      "538 9.36402797714431\n",
      "539 9.367282027600684\n",
      "540 9.369204315898608\n",
      "541 9.36938822130305\n",
      "542 8.051769435368259\n",
      "543 8.717352381905071\n",
      "544 10.14807400659062\n",
      "545 14.515011204750826\n",
      "546 11.750028959002618\n",
      "547 11.750028959002618\n",
      "548 12.96339865985423\n",
      "549 14.9961503220379\n",
      "550 18.20200405840767\n",
      "551 17.616244067875403\n",
      "552 20.10663661655875\n",
      "553 20.04424829982217\n",
      "554 19.48099049259758\n",
      "555 19.48099049259758\n",
      "556 17.553855751138823\n",
      "557 17.553855751138823\n",
      "558 11.347095196975777\n",
      "559 11.200962303068996\n",
      "560 5.053513162099557\n",
      "561 5.036365556987097\n",
      "562 0.07255860120210933\n",
      "563 0.07255860120210933\n",
      "564 0.07255860120210933\n",
      "565 3.589401190931669\n",
      "566 0.05427685593462961\n",
      "567 1.1463919281839008\n",
      "568 5.574778116051645\n",
      "569 6.111258110418616\n",
      "570 0.4609893313822795\n",
      "571 6.225710441203518\n",
      "572 6.48651406091245\n",
      "573 5.141166763050061\n",
      "574 5.141166763050061\n",
      "575 0.2623040231435265\n",
      "576 0.2623040231435265\n",
      "577 0.2623040231435265\n",
      "578 1.0568267306983596\n",
      "579 1.0568267306983596\n",
      "580 1.0568267306983596\n",
      "581 1.0568267306983596\n"
     ]
    }
   ],
   "source": [
    "windowSize = 25\n",
    "\n",
    "print(windowSize)\n",
    "totpers_l=[]\n",
    "for windowStart in range(X.shape[0]- windowSize-1):\n",
    "    Y = X[windowStart:windowStart+windowSize,:]\n",
    "    stree = gd.AlphaComplex(points = Y).create_simplex_tree()\n",
    "    dgm = stree.persistence()\n",
    "    dgm1_lens = [d-b for (dim, (b, d)) in dgm if dim == 1]\n",
    "    dgmstat = sum(dgm1_lens)\n",
    "    # gd.plot_persistence_diagram(dgm, legend = True)\n",
    "    totpers_l.append(dgmstat)\n",
    "    print(windowStart, dgmstat)\n",
    "\n",
    "\n",
    "    # break"
   ]
  },
  {
   "cell_type": "code",
   "execution_count": null,
   "metadata": {},
   "outputs": [],
   "source": [
    "np.save('npy/totpers_%s.npy'%tairid, totpers_l)"
   ]
  },
  {
   "cell_type": "code",
   "execution_count": null,
   "metadata": {},
   "outputs": [
    {
     "data": {
      "text/plain": [
       "[<matplotlib.lines.Line2D at 0x7fac8ab6ad90>]"
      ]
     },
     "execution_count": 35,
     "metadata": {},
     "output_type": "execute_result"
    },
    {
     "data": {
      "image/png": "[encoded data removed]",
      "text/plain": [
       "<Figure size 640x480 with 1 Axes>"
      ]
     },
     "metadata": {},
     "output_type": "display_data"
    }
   ],
   "source": [
    "plt.plot(totpers_l)"
   ]
  },
  {
   "cell_type": "code",
   "execution_count": null,
   "metadata": {},
   "outputs": [
    {
     "data": {
      "text/plain": [
       "[<matplotlib.lines.Line2D at 0x7f84790d4e20>]"
      ]
     },
     "execution_count": 58,
     "metadata": {},
     "output_type": "execute_result"
    },
    {
     "data": {
      "image/png": "[encoded data removed]",
      "text/plain": [
       "<Figure size 640x480 with 1 Axes>"
      ]
     },
     "metadata": {},
     "output_type": "display_data"
    }
   ],
   "source": [
    "plt.plot(totpers_l)"
   ]
  },
  {
   "cell_type": "code",
   "execution_count": null,
   "metadata": {},
   "outputs": [],
   "source": []
  }
 ],
 "metadata": {
  "kernelspec": {
   "display_name": "base",
   "language": "python",
   "name": "python3"
  },
  "language_info": {
   "codemirror_mode": {
    "name": "ipython",
    "version": 3
   },
   "file_extension": ".py",
   "mimetype": "text/x-python",
   "name": "python",
   "nbconvert_exporter": "python",
   "pygments_lexer": "ipython3",
   "version": "3.9.13"
  },
  "orig_nbformat": 4,
  "vscode": {
   "interpreter": {
    "hash": "bf9e1939a68d44f71c3e8d1efa56a3e75bb2bbd68ef8494dafe73f447090d051"
   }
  }
 },
 "nbformat": 4,
 "nbformat_minor": 2
}
